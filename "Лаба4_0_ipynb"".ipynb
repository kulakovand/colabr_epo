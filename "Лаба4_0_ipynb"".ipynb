{
  "nbformat": 4,
  "nbformat_minor": 0,
  "metadata": {
    "colab": {
      "provenance": [],
      "include_colab_link": true
    },
    "kernelspec": {
      "name": "python3",
      "display_name": "Python 3"
    },
    "language_info": {
      "name": "python"
    },
    "accelerator": "GPU",
    "gpuClass": "standard"
  },
  "cells": [
    {
      "cell_type": "markdown",
      "metadata": {
        "id": "view-in-github",
        "colab_type": "text"
      },
      "source": [
        "<a href=\"https://colab.research.google.com/github/kulakovand/colabr_epo/blob/main/%22%D0%9B%D0%B0%D0%B1%D0%B04_0_ipynb%22%22.ipynb\" target=\"_parent\"><img src=\"https://colab.research.google.com/assets/colab-badge.svg\" alt=\"Open In Colab\"/></a>"
      ]
    },
    {
      "cell_type": "code",
      "execution_count": null,
      "metadata": {
        "id": "avi7vi6vB2to",
        "colab": {
          "base_uri": "https://localhost:8080/"
        },
        "outputId": "a20cfba2-4a18-4f80-adc0-97e44002196d"
      },
      "outputs": [
        {
          "output_type": "stream",
          "name": "stdout",
          "text": [
            "Looking in indexes: https://pypi.org/simple, https://us-python.pkg.dev/colab-wheels/public/simple/\n",
            "Requirement already satisfied: tensorflow in /usr/local/lib/python3.8/dist-packages (2.11.0)\n",
            "Requirement already satisfied: protobuf<3.20,>=3.9.2 in /usr/local/lib/python3.8/dist-packages (from tensorflow) (3.19.6)\n",
            "Requirement already satisfied: termcolor>=1.1.0 in /usr/local/lib/python3.8/dist-packages (from tensorflow) (2.2.0)\n",
            "Requirement already satisfied: numpy>=1.20 in /usr/local/lib/python3.8/dist-packages (from tensorflow) (1.22.4)\n",
            "Requirement already satisfied: google-pasta>=0.1.1 in /usr/local/lib/python3.8/dist-packages (from tensorflow) (0.2.0)\n",
            "Requirement already satisfied: gast<=0.4.0,>=0.2.1 in /usr/local/lib/python3.8/dist-packages (from tensorflow) (0.4.0)\n",
            "Requirement already satisfied: libclang>=13.0.0 in /usr/local/lib/python3.8/dist-packages (from tensorflow) (15.0.6.1)\n",
            "Requirement already satisfied: tensorflow-io-gcs-filesystem>=0.23.1 in /usr/local/lib/python3.8/dist-packages (from tensorflow) (0.31.0)\n",
            "Requirement already satisfied: packaging in /usr/local/lib/python3.8/dist-packages (from tensorflow) (23.0)\n",
            "Requirement already satisfied: setuptools in /usr/local/lib/python3.8/dist-packages (from tensorflow) (57.4.0)\n",
            "Requirement already satisfied: typing-extensions>=3.6.6 in /usr/local/lib/python3.8/dist-packages (from tensorflow) (4.5.0)\n",
            "Requirement already satisfied: six>=1.12.0 in /usr/local/lib/python3.8/dist-packages (from tensorflow) (1.15.0)\n",
            "Requirement already satisfied: opt-einsum>=2.3.2 in /usr/local/lib/python3.8/dist-packages (from tensorflow) (3.3.0)\n",
            "Requirement already satisfied: flatbuffers>=2.0 in /usr/local/lib/python3.8/dist-packages (from tensorflow) (23.1.21)\n",
            "Requirement already satisfied: keras<2.12,>=2.11.0 in /usr/local/lib/python3.8/dist-packages (from tensorflow) (2.11.0)\n",
            "Requirement already satisfied: astunparse>=1.6.0 in /usr/local/lib/python3.8/dist-packages (from tensorflow) (1.6.3)\n",
            "Requirement already satisfied: absl-py>=1.0.0 in /usr/local/lib/python3.8/dist-packages (from tensorflow) (1.4.0)\n",
            "Requirement already satisfied: wrapt>=1.11.0 in /usr/local/lib/python3.8/dist-packages (from tensorflow) (1.15.0)\n",
            "Requirement already satisfied: tensorflow-estimator<2.12,>=2.11.0 in /usr/local/lib/python3.8/dist-packages (from tensorflow) (2.11.0)\n",
            "Requirement already satisfied: grpcio<2.0,>=1.24.3 in /usr/local/lib/python3.8/dist-packages (from tensorflow) (1.51.3)\n",
            "Requirement already satisfied: tensorboard<2.12,>=2.11 in /usr/local/lib/python3.8/dist-packages (from tensorflow) (2.11.2)\n",
            "Requirement already satisfied: h5py>=2.9.0 in /usr/local/lib/python3.8/dist-packages (from tensorflow) (3.1.0)\n",
            "Requirement already satisfied: wheel<1.0,>=0.23.0 in /usr/local/lib/python3.8/dist-packages (from astunparse>=1.6.0->tensorflow) (0.38.4)\n",
            "Requirement already satisfied: tensorboard-plugin-wit>=1.6.0 in /usr/local/lib/python3.8/dist-packages (from tensorboard<2.12,>=2.11->tensorflow) (1.8.1)\n",
            "Requirement already satisfied: google-auth-oauthlib<0.5,>=0.4.1 in /usr/local/lib/python3.8/dist-packages (from tensorboard<2.12,>=2.11->tensorflow) (0.4.6)\n",
            "Requirement already satisfied: markdown>=2.6.8 in /usr/local/lib/python3.8/dist-packages (from tensorboard<2.12,>=2.11->tensorflow) (3.4.1)\n",
            "Requirement already satisfied: requests<3,>=2.21.0 in /usr/local/lib/python3.8/dist-packages (from tensorboard<2.12,>=2.11->tensorflow) (2.25.1)\n",
            "Requirement already satisfied: tensorboard-data-server<0.7.0,>=0.6.0 in /usr/local/lib/python3.8/dist-packages (from tensorboard<2.12,>=2.11->tensorflow) (0.6.1)\n",
            "Requirement already satisfied: werkzeug>=1.0.1 in /usr/local/lib/python3.8/dist-packages (from tensorboard<2.12,>=2.11->tensorflow) (2.2.3)\n",
            "Requirement already satisfied: google-auth<3,>=1.6.3 in /usr/local/lib/python3.8/dist-packages (from tensorboard<2.12,>=2.11->tensorflow) (2.16.1)\n",
            "Requirement already satisfied: rsa<5,>=3.1.4 in /usr/local/lib/python3.8/dist-packages (from google-auth<3,>=1.6.3->tensorboard<2.12,>=2.11->tensorflow) (4.9)\n",
            "Requirement already satisfied: pyasn1-modules>=0.2.1 in /usr/local/lib/python3.8/dist-packages (from google-auth<3,>=1.6.3->tensorboard<2.12,>=2.11->tensorflow) (0.2.8)\n",
            "Requirement already satisfied: cachetools<6.0,>=2.0.0 in /usr/local/lib/python3.8/dist-packages (from google-auth<3,>=1.6.3->tensorboard<2.12,>=2.11->tensorflow) (5.3.0)\n",
            "Requirement already satisfied: requests-oauthlib>=0.7.0 in /usr/local/lib/python3.8/dist-packages (from google-auth-oauthlib<0.5,>=0.4.1->tensorboard<2.12,>=2.11->tensorflow) (1.3.1)\n",
            "Requirement already satisfied: importlib-metadata>=4.4 in /usr/local/lib/python3.8/dist-packages (from markdown>=2.6.8->tensorboard<2.12,>=2.11->tensorflow) (6.0.0)\n",
            "Requirement already satisfied: certifi>=2017.4.17 in /usr/local/lib/python3.8/dist-packages (from requests<3,>=2.21.0->tensorboard<2.12,>=2.11->tensorflow) (2022.12.7)\n",
            "Requirement already satisfied: chardet<5,>=3.0.2 in /usr/local/lib/python3.8/dist-packages (from requests<3,>=2.21.0->tensorboard<2.12,>=2.11->tensorflow) (4.0.0)\n",
            "Requirement already satisfied: idna<3,>=2.5 in /usr/local/lib/python3.8/dist-packages (from requests<3,>=2.21.0->tensorboard<2.12,>=2.11->tensorflow) (2.10)\n",
            "Requirement already satisfied: urllib3<1.27,>=1.21.1 in /usr/local/lib/python3.8/dist-packages (from requests<3,>=2.21.0->tensorboard<2.12,>=2.11->tensorflow) (1.26.14)\n",
            "Requirement already satisfied: MarkupSafe>=2.1.1 in /usr/local/lib/python3.8/dist-packages (from werkzeug>=1.0.1->tensorboard<2.12,>=2.11->tensorflow) (2.1.2)\n",
            "Requirement already satisfied: zipp>=0.5 in /usr/local/lib/python3.8/dist-packages (from importlib-metadata>=4.4->markdown>=2.6.8->tensorboard<2.12,>=2.11->tensorflow) (3.15.0)\n",
            "Requirement already satisfied: pyasn1<0.5.0,>=0.4.6 in /usr/local/lib/python3.8/dist-packages (from pyasn1-modules>=0.2.1->google-auth<3,>=1.6.3->tensorboard<2.12,>=2.11->tensorflow) (0.4.8)\n",
            "Requirement already satisfied: oauthlib>=3.0.0 in /usr/local/lib/python3.8/dist-packages (from requests-oauthlib>=0.7.0->google-auth-oauthlib<0.5,>=0.4.1->tensorboard<2.12,>=2.11->tensorflow) (3.2.2)\n"
          ]
        }
      ],
      "source": [
        "!pip install tensorflow  # для выполнения данной работы рекомендуется  1.14"
      ]
    },
    {
      "cell_type": "code",
      "source": [
        "!pip install -q seaborn # при необходимости"
      ],
      "metadata": {
        "id": "4NJitss0EiN0"
      },
      "execution_count": null,
      "outputs": []
    },
    {
      "cell_type": "code",
      "source": [
        "import tensorflow as tf\n",
        "import pandas as pd\n",
        "import keras as ks\n",
        "\n",
        "\n",
        "import matplotlib.pyplot as plt\n",
        "import seaborn as sns"
      ],
      "metadata": {
        "id": "WyTfSNo1FY0Y"
      },
      "execution_count": null,
      "outputs": []
    },
    {
      "cell_type": "code",
      "source": [
        "# проверка отго что мы таки переключили эту среду выполнения на гпу\n",
        "tf.test.gpu_device_name() # в случае успешности будет выдан примерно такойрезультат '/device:GPU:0' "
      ],
      "metadata": {
        "id": "ueXRa9lTGuS3",
        "colab": {
          "base_uri": "https://localhost:8080/",
          "height": 36
        },
        "outputId": "e2f96542-c6a3-433f-ee6b-04bae6872cf1"
      },
      "execution_count": null,
      "outputs": [
        {
          "output_type": "execute_result",
          "data": {
            "text/plain": [
              "'/device:GPU:0'"
            ],
            "application/vnd.google.colaboratory.intrinsic+json": {
              "type": "string"
            }
          },
          "metadata": {},
          "execution_count": 3
        }
      ]
    },
    {
      "cell_type": "code",
      "source": [
        "!pip install -q  sklearn"
      ],
      "metadata": {
        "id": "wr_E9-mIMJfh",
        "colab": {
          "base_uri": "https://localhost:8080/"
        },
        "outputId": "b6f7d77f-adae-4734-e00f-6b1f8b4902f1"
      },
      "execution_count": null,
      "outputs": [
        {
          "output_type": "stream",
          "name": "stdout",
          "text": [
            "  Preparing metadata (setup.py) ... \u001b[?25l\u001b[?25hdone\n",
            "  Building wheel for sklearn (setup.py) ... \u001b[?25l\u001b[?25hdone\n"
          ]
        }
      ]
    },
    {
      "cell_type": "code",
      "source": [
        "from sklearn.datasets import load_breast_cancer\n",
        "data = load_breast_cancer()\n",
        "import numpy as np\n",
        "from sklearn.model_selection import train_test_split"
      ],
      "metadata": {
        "id": "7AL9H4uKMc2p"
      },
      "execution_count": null,
      "outputs": []
    },
    {
      "cell_type": "code",
      "source": [
        "x,y = load_breast_cancer(return_X_y=True)\n",
        "\n",
        "# 2 варианта создать датасеты                     \n",
        "X_train, X_test, y_train, y_test = train_test_split(x, y, test_size=0.4, random_state=True)\n",
        "#X_train, X_test,y_train, y_test = train_test_split(x,y ,random_state=104,test_size=0.25, shuffle=True)\n",
        "\n",
        "# printing out train and test sets\n",
        "print('X_train : ')\n",
        "print(len(X_train))\n",
        "print('')\n",
        "print('X_test : ')\n",
        "print(len(X_test))\n",
        "print('')\n",
        "print('y_train : ')\n",
        "print(len(y_train))\n",
        "print('')\n",
        "print('y_test : ')\n",
        "print(len(y_test))"
      ],
      "metadata": {
        "id": "CS2DQNXuMhsz",
        "colab": {
          "base_uri": "https://localhost:8080/"
        },
        "outputId": "d33c5f52-890b-4da1-cc32-309e56be5232"
      },
      "execution_count": null,
      "outputs": [
        {
          "output_type": "stream",
          "name": "stdout",
          "text": [
            "X_train : \n",
            "341\n",
            "\n",
            "X_test : \n",
            "228\n",
            "\n",
            "y_train : \n",
            "341\n",
            "\n",
            "y_test : \n",
            "228\n"
          ]
        }
      ]
    },
    {
      "cell_type": "code",
      "source": [
        "# так-же, как вариант, можно в интернете найти файлы Breast Cancer Wisconsin (Diagnostic) Data Set исоздать свой набор данных\n",
        "#from google.colab import files\n",
        "#file = files.upload()\n",
        "#X_train = pd.read_csv(\"xtrain.csv\", header=None)\n",
        "#Y_train = pd.read_csv(\"ytrain.csv\", header=None)\n",
        "#X_test = pd.read_csv(\"xtest.csv\", header=None)\n",
        "#Y_test = pd.read_csv(\"ytest.csv\", header=None)\n",
        "\n",
        "\n",
        "from keras.models import Sequential\n",
        "from keras.layers import Dense\n",
        "classifier = Sequential() # Инициализация НС\n",
        "classifier.add(Dense(units = 16, activation = 'relu', input_dim = 30))\n",
        "classifier.add(Dense(units = 8, activation = 'relu'))\n",
        "classifier.add(Dense(units = 6, activation = 'relu'))\n",
        "classifier.add(Dense(units = 1, activation = 'sigmoid'))"
      ],
      "metadata": {
        "id": "wLLvOIL0FUq2"
      },
      "execution_count": null,
      "outputs": []
    },
    {
      "cell_type": "code",
      "source": [
        "classifier.compile(optimizer = 'rmsprop', loss = 'binary_crossentropy')"
      ],
      "metadata": {
        "id": "1UM0nbGrPxpJ"
      },
      "execution_count": null,
      "outputs": []
    },
    {
      "cell_type": "code",
      "source": [
        "classifier.fit(X_train, y_train, batch_size = 1, epochs = 100)"
      ],
      "metadata": {
        "id": "eVcHO-6nP3YR",
        "colab": {
          "base_uri": "https://localhost:8080/"
        },
        "outputId": "40a5f4d5-93a9-4d6e-a230-b970d87c8866"
      },
      "execution_count": null,
      "outputs": [
        {
          "output_type": "stream",
          "name": "stdout",
          "text": [
            "Epoch 1/100\n",
            "341/341 [==============================] - 6s 3ms/step - loss: 1.7342\n",
            "Epoch 2/100\n",
            "341/341 [==============================] - 1s 3ms/step - loss: 0.4896\n",
            "Epoch 3/100\n",
            "341/341 [==============================] - 1s 3ms/step - loss: 0.4329\n",
            "Epoch 4/100\n",
            "341/341 [==============================] - 1s 3ms/step - loss: 0.3876\n",
            "Epoch 5/100\n",
            "341/341 [==============================] - 1s 3ms/step - loss: 0.3673\n",
            "Epoch 6/100\n",
            "341/341 [==============================] - 1s 3ms/step - loss: 0.3531\n",
            "Epoch 7/100\n",
            "341/341 [==============================] - 1s 3ms/step - loss: 0.3074\n",
            "Epoch 8/100\n",
            "341/341 [==============================] - 1s 4ms/step - loss: 0.2782\n",
            "Epoch 9/100\n",
            "341/341 [==============================] - 1s 4ms/step - loss: 0.2869\n",
            "Epoch 10/100\n",
            "341/341 [==============================] - 1s 3ms/step - loss: 0.2845\n",
            "Epoch 11/100\n",
            "341/341 [==============================] - 1s 3ms/step - loss: 0.2599\n",
            "Epoch 12/100\n",
            "341/341 [==============================] - 1s 3ms/step - loss: 0.2557\n",
            "Epoch 13/100\n",
            "341/341 [==============================] - 1s 3ms/step - loss: 0.2797\n",
            "Epoch 14/100\n",
            "341/341 [==============================] - 1s 3ms/step - loss: 0.2699\n",
            "Epoch 15/100\n",
            "341/341 [==============================] - 1s 3ms/step - loss: 0.2701\n",
            "Epoch 16/100\n",
            "341/341 [==============================] - 1s 3ms/step - loss: 0.2588\n",
            "Epoch 17/100\n",
            "341/341 [==============================] - 1s 3ms/step - loss: 0.2747\n",
            "Epoch 18/100\n",
            "341/341 [==============================] - 1s 3ms/step - loss: 0.3092\n",
            "Epoch 19/100\n",
            "341/341 [==============================] - 1s 3ms/step - loss: 0.2804\n",
            "Epoch 20/100\n",
            "341/341 [==============================] - 1s 4ms/step - loss: 0.2649\n",
            "Epoch 21/100\n",
            "341/341 [==============================] - 1s 4ms/step - loss: 0.2623\n",
            "Epoch 22/100\n",
            "341/341 [==============================] - 1s 3ms/step - loss: 0.2586\n",
            "Epoch 23/100\n",
            "341/341 [==============================] - 1s 3ms/step - loss: 0.2583\n",
            "Epoch 24/100\n",
            "341/341 [==============================] - 1s 3ms/step - loss: 0.2723\n",
            "Epoch 25/100\n",
            "341/341 [==============================] - 1s 3ms/step - loss: 0.2782\n",
            "Epoch 26/100\n",
            "341/341 [==============================] - 1s 3ms/step - loss: 0.3445\n",
            "Epoch 27/100\n",
            "341/341 [==============================] - 1s 3ms/step - loss: 0.2570\n",
            "Epoch 28/100\n",
            "341/341 [==============================] - 1s 3ms/step - loss: 0.2587\n",
            "Epoch 29/100\n",
            "341/341 [==============================] - 1s 3ms/step - loss: 0.2578\n",
            "Epoch 30/100\n",
            "341/341 [==============================] - 1s 3ms/step - loss: 0.3215\n",
            "Epoch 31/100\n",
            "341/341 [==============================] - 1s 3ms/step - loss: 0.2644\n",
            "Epoch 32/100\n",
            "341/341 [==============================] - 1s 4ms/step - loss: 0.2679\n",
            "Epoch 33/100\n",
            "341/341 [==============================] - 1s 4ms/step - loss: 0.2319\n",
            "Epoch 34/100\n",
            "341/341 [==============================] - 1s 3ms/step - loss: 0.2787\n",
            "Epoch 35/100\n",
            "341/341 [==============================] - 1s 3ms/step - loss: 0.3226\n",
            "Epoch 36/100\n",
            "341/341 [==============================] - 1s 3ms/step - loss: 0.2730\n",
            "Epoch 37/100\n",
            "341/341 [==============================] - 1s 3ms/step - loss: 0.2763\n",
            "Epoch 38/100\n",
            "341/341 [==============================] - 1s 3ms/step - loss: 0.2855\n",
            "Epoch 39/100\n",
            "341/341 [==============================] - 1s 3ms/step - loss: 0.2800\n",
            "Epoch 40/100\n",
            "341/341 [==============================] - 1s 3ms/step - loss: 0.3291\n",
            "Epoch 41/100\n",
            "341/341 [==============================] - 1s 3ms/step - loss: 0.2693\n",
            "Epoch 42/100\n",
            "341/341 [==============================] - 1s 3ms/step - loss: 0.3279\n",
            "Epoch 43/100\n",
            "341/341 [==============================] - 1s 3ms/step - loss: 0.2475\n",
            "Epoch 44/100\n",
            "341/341 [==============================] - 1s 4ms/step - loss: 0.2552\n",
            "Epoch 45/100\n",
            "341/341 [==============================] - 2s 4ms/step - loss: 0.2856\n",
            "Epoch 46/100\n",
            "341/341 [==============================] - 1s 3ms/step - loss: 0.3144\n",
            "Epoch 47/100\n",
            "341/341 [==============================] - 1s 3ms/step - loss: 0.2958\n",
            "Epoch 48/100\n",
            "341/341 [==============================] - 1s 3ms/step - loss: 0.3166\n",
            "Epoch 49/100\n",
            "341/341 [==============================] - 1s 3ms/step - loss: 0.2506\n",
            "Epoch 50/100\n",
            "341/341 [==============================] - 1s 3ms/step - loss: 0.2292\n",
            "Epoch 51/100\n",
            "341/341 [==============================] - 1s 3ms/step - loss: 0.2261\n",
            "Epoch 52/100\n",
            "341/341 [==============================] - 1s 3ms/step - loss: 0.2820\n",
            "Epoch 53/100\n",
            "341/341 [==============================] - 1s 3ms/step - loss: 0.3060\n",
            "Epoch 54/100\n",
            "341/341 [==============================] - 1s 3ms/step - loss: 0.2825\n",
            "Epoch 55/100\n",
            "341/341 [==============================] - 1s 3ms/step - loss: 0.2668\n",
            "Epoch 56/100\n",
            "341/341 [==============================] - 1s 4ms/step - loss: 0.3152\n",
            "Epoch 57/100\n",
            "341/341 [==============================] - 1s 4ms/step - loss: 0.3099\n",
            "Epoch 58/100\n",
            "341/341 [==============================] - 1s 3ms/step - loss: 0.2697\n",
            "Epoch 59/100\n",
            "341/341 [==============================] - 1s 3ms/step - loss: 0.2776\n",
            "Epoch 60/100\n",
            "341/341 [==============================] - 1s 3ms/step - loss: 0.2844\n",
            "Epoch 61/100\n",
            "341/341 [==============================] - 1s 3ms/step - loss: 0.3034\n",
            "Epoch 62/100\n",
            "341/341 [==============================] - 1s 3ms/step - loss: 0.3041\n",
            "Epoch 63/100\n",
            "341/341 [==============================] - 1s 3ms/step - loss: 0.2775\n",
            "Epoch 64/100\n",
            "341/341 [==============================] - 1s 3ms/step - loss: 0.2965\n",
            "Epoch 65/100\n",
            "341/341 [==============================] - 1s 3ms/step - loss: 0.3052\n",
            "Epoch 66/100\n",
            "341/341 [==============================] - 1s 3ms/step - loss: 0.3001\n",
            "Epoch 67/100\n",
            "341/341 [==============================] - 1s 3ms/step - loss: 0.2790\n",
            "Epoch 68/100\n",
            "341/341 [==============================] - 1s 4ms/step - loss: 0.3132\n",
            "Epoch 69/100\n",
            "341/341 [==============================] - 1s 4ms/step - loss: 0.2998\n",
            "Epoch 70/100\n",
            "341/341 [==============================] - 1s 3ms/step - loss: 0.2588\n",
            "Epoch 71/100\n",
            "341/341 [==============================] - 1s 3ms/step - loss: 0.2811\n",
            "Epoch 72/100\n",
            "341/341 [==============================] - 1s 3ms/step - loss: 0.3108\n",
            "Epoch 73/100\n",
            "341/341 [==============================] - 1s 3ms/step - loss: 0.3048\n",
            "Epoch 74/100\n",
            "341/341 [==============================] - 1s 3ms/step - loss: 0.2883\n",
            "Epoch 75/100\n",
            "341/341 [==============================] - 1s 3ms/step - loss: 0.2466\n",
            "Epoch 76/100\n",
            "341/341 [==============================] - 1s 3ms/step - loss: 0.2660\n",
            "Epoch 77/100\n",
            "341/341 [==============================] - 1s 3ms/step - loss: 0.3424\n",
            "Epoch 78/100\n",
            "341/341 [==============================] - 1s 3ms/step - loss: 0.2299\n",
            "Epoch 79/100\n",
            "341/341 [==============================] - 1s 3ms/step - loss: 0.2856\n",
            "Epoch 80/100\n",
            "341/341 [==============================] - 1s 4ms/step - loss: 0.3004\n",
            "Epoch 81/100\n",
            "341/341 [==============================] - 1s 4ms/step - loss: 0.3043\n",
            "Epoch 82/100\n",
            "341/341 [==============================] - 1s 3ms/step - loss: 0.3352\n",
            "Epoch 83/100\n",
            "341/341 [==============================] - 1s 3ms/step - loss: 0.3161\n",
            "Epoch 84/100\n",
            "341/341 [==============================] - 1s 3ms/step - loss: 0.2848\n",
            "Epoch 85/100\n",
            "341/341 [==============================] - 1s 3ms/step - loss: 0.3145\n",
            "Epoch 86/100\n",
            "341/341 [==============================] - 1s 3ms/step - loss: 0.3128\n",
            "Epoch 87/100\n",
            "341/341 [==============================] - 1s 3ms/step - loss: 0.2551\n",
            "Epoch 88/100\n",
            "341/341 [==============================] - 1s 3ms/step - loss: 0.3178\n",
            "Epoch 89/100\n",
            "341/341 [==============================] - 1s 3ms/step - loss: 0.3282\n",
            "Epoch 90/100\n",
            "341/341 [==============================] - 1s 3ms/step - loss: 0.2843\n",
            "Epoch 91/100\n",
            "341/341 [==============================] - 1s 3ms/step - loss: 0.2586\n",
            "Epoch 92/100\n",
            "341/341 [==============================] - 1s 4ms/step - loss: 0.3007\n",
            "Epoch 93/100\n",
            "341/341 [==============================] - 1s 4ms/step - loss: 0.3065\n",
            "Epoch 94/100\n",
            "341/341 [==============================] - 1s 3ms/step - loss: 0.3237\n",
            "Epoch 95/100\n",
            "341/341 [==============================] - 1s 3ms/step - loss: 0.2837\n",
            "Epoch 96/100\n",
            "341/341 [==============================] - 1s 3ms/step - loss: 0.2995\n",
            "Epoch 97/100\n",
            "341/341 [==============================] - 1s 3ms/step - loss: 0.2796\n",
            "Epoch 98/100\n",
            "341/341 [==============================] - 1s 3ms/step - loss: 0.3318\n",
            "Epoch 99/100\n",
            "341/341 [==============================] - 1s 3ms/step - loss: 0.2535\n",
            "Epoch 100/100\n",
            "341/341 [==============================] - 1s 3ms/step - loss: 0.2570\n"
          ]
        },
        {
          "output_type": "execute_result",
          "data": {
            "text/plain": [
              "<keras.callbacks.History at 0x7f70d05da250>"
            ]
          },
          "metadata": {},
          "execution_count": 12
        }
      ]
    },
    {
      "cell_type": "code",
      "source": [
        "Y_pred = classifier.predict(X_test) "
      ],
      "metadata": {
        "id": "5TQCgOcMQyGi",
        "colab": {
          "base_uri": "https://localhost:8080/"
        },
        "outputId": "12c033a5-d764-470d-e852-7e555ea17c5b"
      },
      "execution_count": null,
      "outputs": [
        {
          "output_type": "stream",
          "name": "stdout",
          "text": [
            "8/8 [==============================] - 0s 3ms/step\n"
          ]
        }
      ]
    },
    {
      "cell_type": "code",
      "source": [
        "Y_pred = [ 1 if y>=0.5 else 0 for y in Y_pred ]"
      ],
      "metadata": {
        "id": "xY7Go_3cQ2XJ"
      },
      "execution_count": null,
      "outputs": []
    },
    {
      "cell_type": "code",
      "source": [
        "total = 0\n",
        "correct = 0\n",
        "wrong = 0\n",
        "for i in range(len(Y_pred)):\n",
        " total=total+1\n",
        " #print(str(Y_pred[i])+' '+str(y_test[i]))\n",
        " if(str(y_test[i]) == str(Y_pred[i])):\n",
        "  correct=correct+1\n",
        " else:\n",
        "  wrong=wrong+1\n",
        "\n",
        "\n",
        "print(\"Total \" + str(total))\n",
        "print(\"Correct \" + str(correct))\n",
        "print(\"Wrong \" + str(wrong)) "
      ],
      "metadata": {
        "id": "Ia3FhfE8Q6dZ",
        "colab": {
          "base_uri": "https://localhost:8080/"
        },
        "outputId": "8946f05a-f377-4e48-e35c-d55fe34fc1fd"
      },
      "execution_count": null,
      "outputs": [
        {
          "output_type": "stream",
          "name": "stdout",
          "text": [
            "Total 228\n",
            "Correct 208\n",
            "Wrong 20\n"
          ]
        }
      ]
    }
  ]
}