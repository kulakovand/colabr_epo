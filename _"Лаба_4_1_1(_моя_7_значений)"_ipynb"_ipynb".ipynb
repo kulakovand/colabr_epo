{
  "nbformat": 4,
  "nbformat_minor": 0,
  "metadata": {
    "colab": {
      "provenance": [],
      "include_colab_link": true
    },
    "kernelspec": {
      "name": "python3",
      "display_name": "Python 3"
    },
    "language_info": {
      "name": "python"
    },
    "accelerator": "GPU",
    "gpuClass": "standard"
  },
  "cells": [
    {
      "cell_type": "markdown",
      "metadata": {
        "id": "view-in-github",
        "colab_type": "text"
      },
      "source": [
        "<a href=\"https://colab.research.google.com/github/kulakovand/colabr_epo/blob/main/_%22%D0%9B%D0%B0%D0%B1%D0%B0_4_1_1(_%D0%BC%D0%BE%D1%8F_7_%D0%B7%D0%BD%D0%B0%D1%87%D0%B5%D0%BD%D0%B8%D0%B9)%22_ipynb%22_ipynb%22.ipynb\" target=\"_parent\"><img src=\"https://colab.research.google.com/assets/colab-badge.svg\" alt=\"Open In Colab\"/></a>"
      ]
    },
    {
      "cell_type": "code",
      "execution_count": null,
      "metadata": {
        "id": "5XnQtwOu0DdG"
      },
      "outputs": [],
      "source": [
        "import tensorflow as tf"
      ]
    },
    {
      "cell_type": "code",
      "source": [
        "import pandas as pd\n",
        "from google.colab import files\n",
        "file = files.upload()\n"
      ],
      "metadata": {
        "colab": {
          "base_uri": "https://localhost:8080/",
          "height": 73
        },
        "id": "PUemKnZX0nu0",
        "outputId": "9096145a-50c2-4e38-a192-85faa4f92276"
      },
      "execution_count": null,
      "outputs": [
        {
          "output_type": "display_data",
          "data": {
            "text/plain": [
              "<IPython.core.display.HTML object>"
            ],
            "text/html": [
              "\n",
              "     <input type=\"file\" id=\"files-b6a9be66-4b43-40e6-bedd-0895310288ab\" name=\"files[]\" multiple disabled\n",
              "        style=\"border:none\" />\n",
              "     <output id=\"result-b6a9be66-4b43-40e6-bedd-0895310288ab\">\n",
              "      Upload widget is only available when the cell has been executed in the\n",
              "      current browser session. Please rerun this cell to enable.\n",
              "      </output>\n",
              "      <script>// Copyright 2017 Google LLC\n",
              "//\n",
              "// Licensed under the Apache License, Version 2.0 (the \"License\");\n",
              "// you may not use this file except in compliance with the License.\n",
              "// You may obtain a copy of the License at\n",
              "//\n",
              "//      http://www.apache.org/licenses/LICENSE-2.0\n",
              "//\n",
              "// Unless required by applicable law or agreed to in writing, software\n",
              "// distributed under the License is distributed on an \"AS IS\" BASIS,\n",
              "// WITHOUT WARRANTIES OR CONDITIONS OF ANY KIND, either express or implied.\n",
              "// See the License for the specific language governing permissions and\n",
              "// limitations under the License.\n",
              "\n",
              "/**\n",
              " * @fileoverview Helpers for google.colab Python module.\n",
              " */\n",
              "(function(scope) {\n",
              "function span(text, styleAttributes = {}) {\n",
              "  const element = document.createElement('span');\n",
              "  element.textContent = text;\n",
              "  for (const key of Object.keys(styleAttributes)) {\n",
              "    element.style[key] = styleAttributes[key];\n",
              "  }\n",
              "  return element;\n",
              "}\n",
              "\n",
              "// Max number of bytes which will be uploaded at a time.\n",
              "const MAX_PAYLOAD_SIZE = 100 * 1024;\n",
              "\n",
              "function _uploadFiles(inputId, outputId) {\n",
              "  const steps = uploadFilesStep(inputId, outputId);\n",
              "  const outputElement = document.getElementById(outputId);\n",
              "  // Cache steps on the outputElement to make it available for the next call\n",
              "  // to uploadFilesContinue from Python.\n",
              "  outputElement.steps = steps;\n",
              "\n",
              "  return _uploadFilesContinue(outputId);\n",
              "}\n",
              "\n",
              "// This is roughly an async generator (not supported in the browser yet),\n",
              "// where there are multiple asynchronous steps and the Python side is going\n",
              "// to poll for completion of each step.\n",
              "// This uses a Promise to block the python side on completion of each step,\n",
              "// then passes the result of the previous step as the input to the next step.\n",
              "function _uploadFilesContinue(outputId) {\n",
              "  const outputElement = document.getElementById(outputId);\n",
              "  const steps = outputElement.steps;\n",
              "\n",
              "  const next = steps.next(outputElement.lastPromiseValue);\n",
              "  return Promise.resolve(next.value.promise).then((value) => {\n",
              "    // Cache the last promise value to make it available to the next\n",
              "    // step of the generator.\n",
              "    outputElement.lastPromiseValue = value;\n",
              "    return next.value.response;\n",
              "  });\n",
              "}\n",
              "\n",
              "/**\n",
              " * Generator function which is called between each async step of the upload\n",
              " * process.\n",
              " * @param {string} inputId Element ID of the input file picker element.\n",
              " * @param {string} outputId Element ID of the output display.\n",
              " * @return {!Iterable<!Object>} Iterable of next steps.\n",
              " */\n",
              "function* uploadFilesStep(inputId, outputId) {\n",
              "  const inputElement = document.getElementById(inputId);\n",
              "  inputElement.disabled = false;\n",
              "\n",
              "  const outputElement = document.getElementById(outputId);\n",
              "  outputElement.innerHTML = '';\n",
              "\n",
              "  const pickedPromise = new Promise((resolve) => {\n",
              "    inputElement.addEventListener('change', (e) => {\n",
              "      resolve(e.target.files);\n",
              "    });\n",
              "  });\n",
              "\n",
              "  const cancel = document.createElement('button');\n",
              "  inputElement.parentElement.appendChild(cancel);\n",
              "  cancel.textContent = 'Cancel upload';\n",
              "  const cancelPromise = new Promise((resolve) => {\n",
              "    cancel.onclick = () => {\n",
              "      resolve(null);\n",
              "    };\n",
              "  });\n",
              "\n",
              "  // Wait for the user to pick the files.\n",
              "  const files = yield {\n",
              "    promise: Promise.race([pickedPromise, cancelPromise]),\n",
              "    response: {\n",
              "      action: 'starting',\n",
              "    }\n",
              "  };\n",
              "\n",
              "  cancel.remove();\n",
              "\n",
              "  // Disable the input element since further picks are not allowed.\n",
              "  inputElement.disabled = true;\n",
              "\n",
              "  if (!files) {\n",
              "    return {\n",
              "      response: {\n",
              "        action: 'complete',\n",
              "      }\n",
              "    };\n",
              "  }\n",
              "\n",
              "  for (const file of files) {\n",
              "    const li = document.createElement('li');\n",
              "    li.append(span(file.name, {fontWeight: 'bold'}));\n",
              "    li.append(span(\n",
              "        `(${file.type || 'n/a'}) - ${file.size} bytes, ` +\n",
              "        `last modified: ${\n",
              "            file.lastModifiedDate ? file.lastModifiedDate.toLocaleDateString() :\n",
              "                                    'n/a'} - `));\n",
              "    const percent = span('0% done');\n",
              "    li.appendChild(percent);\n",
              "\n",
              "    outputElement.appendChild(li);\n",
              "\n",
              "    const fileDataPromise = new Promise((resolve) => {\n",
              "      const reader = new FileReader();\n",
              "      reader.onload = (e) => {\n",
              "        resolve(e.target.result);\n",
              "      };\n",
              "      reader.readAsArrayBuffer(file);\n",
              "    });\n",
              "    // Wait for the data to be ready.\n",
              "    let fileData = yield {\n",
              "      promise: fileDataPromise,\n",
              "      response: {\n",
              "        action: 'continue',\n",
              "      }\n",
              "    };\n",
              "\n",
              "    // Use a chunked sending to avoid message size limits. See b/62115660.\n",
              "    let position = 0;\n",
              "    do {\n",
              "      const length = Math.min(fileData.byteLength - position, MAX_PAYLOAD_SIZE);\n",
              "      const chunk = new Uint8Array(fileData, position, length);\n",
              "      position += length;\n",
              "\n",
              "      const base64 = btoa(String.fromCharCode.apply(null, chunk));\n",
              "      yield {\n",
              "        response: {\n",
              "          action: 'append',\n",
              "          file: file.name,\n",
              "          data: base64,\n",
              "        },\n",
              "      };\n",
              "\n",
              "      let percentDone = fileData.byteLength === 0 ?\n",
              "          100 :\n",
              "          Math.round((position / fileData.byteLength) * 100);\n",
              "      percent.textContent = `${percentDone}% done`;\n",
              "\n",
              "    } while (position < fileData.byteLength);\n",
              "  }\n",
              "\n",
              "  // All done.\n",
              "  yield {\n",
              "    response: {\n",
              "      action: 'complete',\n",
              "    }\n",
              "  };\n",
              "}\n",
              "\n",
              "scope.google = scope.google || {};\n",
              "scope.google.colab = scope.google.colab || {};\n",
              "scope.google.colab._files = {\n",
              "  _uploadFiles,\n",
              "  _uploadFilesContinue,\n",
              "};\n",
              "})(self);\n",
              "</script> "
            ]
          },
          "metadata": {}
        },
        {
          "output_type": "stream",
          "name": "stdout",
          "text": [
            "Saving train.csv to train (2).csv\n"
          ]
        }
      ]
    },
    {
      "cell_type": "code",
      "source": [
        "training_set = pd.read_csv(\"train.csv\", header=0)"
      ],
      "metadata": {
        "id": "VLOdtMXw1QfF"
      },
      "execution_count": null,
      "outputs": []
    },
    {
      "cell_type": "code",
      "source": [
        "training_set = training_set.dropna() "
      ],
      "metadata": {
        "id": "ahEzQ6wcPHYo"
      },
      "execution_count": null,
      "outputs": []
    },
    {
      "cell_type": "code",
      "source": [
        "training_set.head(5)"
      ],
      "metadata": {
        "colab": {
          "base_uri": "https://localhost:8080/",
          "height": 206
        },
        "id": "laYL-ZK61kf8",
        "outputId": "1d13c42a-7ede-49d3-cdaf-1c7bab8b12b3"
      },
      "execution_count": null,
      "outputs": [
        {
          "output_type": "execute_result",
          "data": {
            "text/plain": [
              "     image_name  patient_id     sex  age_approx anatom_site_general_challenge  \\\n",
              "0  ISIC_0000000          -1  female        55.0                anterior torso   \n",
              "1  ISIC_0000001          -1  female        30.0                anterior torso   \n",
              "2  ISIC_0000002          -1  female        60.0               upper extremity   \n",
              "3  ISIC_0000003          -1    male        30.0               upper extremity   \n",
              "4  ISIC_0000004          -1    male        80.0               posterior torso   \n",
              "\n",
              "  diagnosis benign_malignant  target  tfrecord  width  height  \n",
              "0        NV           benign       0         4   1022     767  \n",
              "1        NV           benign       0        18   1022     767  \n",
              "2       MEL        malignant       1         0   1022     767  \n",
              "3        NV           benign       0        24   1022     767  \n",
              "4       MEL        malignant       1        14   1022     767  "
            ],
            "text/html": [
              "\n",
              "  <div id=\"df-a13a718d-a084-4969-a928-e15c1fdbee21\">\n",
              "    <div class=\"colab-df-container\">\n",
              "      <div>\n",
              "<style scoped>\n",
              "    .dataframe tbody tr th:only-of-type {\n",
              "        vertical-align: middle;\n",
              "    }\n",
              "\n",
              "    .dataframe tbody tr th {\n",
              "        vertical-align: top;\n",
              "    }\n",
              "\n",
              "    .dataframe thead th {\n",
              "        text-align: right;\n",
              "    }\n",
              "</style>\n",
              "<table border=\"1\" class=\"dataframe\">\n",
              "  <thead>\n",
              "    <tr style=\"text-align: right;\">\n",
              "      <th></th>\n",
              "      <th>image_name</th>\n",
              "      <th>patient_id</th>\n",
              "      <th>sex</th>\n",
              "      <th>age_approx</th>\n",
              "      <th>anatom_site_general_challenge</th>\n",
              "      <th>diagnosis</th>\n",
              "      <th>benign_malignant</th>\n",
              "      <th>target</th>\n",
              "      <th>tfrecord</th>\n",
              "      <th>width</th>\n",
              "      <th>height</th>\n",
              "    </tr>\n",
              "  </thead>\n",
              "  <tbody>\n",
              "    <tr>\n",
              "      <th>0</th>\n",
              "      <td>ISIC_0000000</td>\n",
              "      <td>-1</td>\n",
              "      <td>female</td>\n",
              "      <td>55.0</td>\n",
              "      <td>anterior torso</td>\n",
              "      <td>NV</td>\n",
              "      <td>benign</td>\n",
              "      <td>0</td>\n",
              "      <td>4</td>\n",
              "      <td>1022</td>\n",
              "      <td>767</td>\n",
              "    </tr>\n",
              "    <tr>\n",
              "      <th>1</th>\n",
              "      <td>ISIC_0000001</td>\n",
              "      <td>-1</td>\n",
              "      <td>female</td>\n",
              "      <td>30.0</td>\n",
              "      <td>anterior torso</td>\n",
              "      <td>NV</td>\n",
              "      <td>benign</td>\n",
              "      <td>0</td>\n",
              "      <td>18</td>\n",
              "      <td>1022</td>\n",
              "      <td>767</td>\n",
              "    </tr>\n",
              "    <tr>\n",
              "      <th>2</th>\n",
              "      <td>ISIC_0000002</td>\n",
              "      <td>-1</td>\n",
              "      <td>female</td>\n",
              "      <td>60.0</td>\n",
              "      <td>upper extremity</td>\n",
              "      <td>MEL</td>\n",
              "      <td>malignant</td>\n",
              "      <td>1</td>\n",
              "      <td>0</td>\n",
              "      <td>1022</td>\n",
              "      <td>767</td>\n",
              "    </tr>\n",
              "    <tr>\n",
              "      <th>3</th>\n",
              "      <td>ISIC_0000003</td>\n",
              "      <td>-1</td>\n",
              "      <td>male</td>\n",
              "      <td>30.0</td>\n",
              "      <td>upper extremity</td>\n",
              "      <td>NV</td>\n",
              "      <td>benign</td>\n",
              "      <td>0</td>\n",
              "      <td>24</td>\n",
              "      <td>1022</td>\n",
              "      <td>767</td>\n",
              "    </tr>\n",
              "    <tr>\n",
              "      <th>4</th>\n",
              "      <td>ISIC_0000004</td>\n",
              "      <td>-1</td>\n",
              "      <td>male</td>\n",
              "      <td>80.0</td>\n",
              "      <td>posterior torso</td>\n",
              "      <td>MEL</td>\n",
              "      <td>malignant</td>\n",
              "      <td>1</td>\n",
              "      <td>14</td>\n",
              "      <td>1022</td>\n",
              "      <td>767</td>\n",
              "    </tr>\n",
              "  </tbody>\n",
              "</table>\n",
              "</div>\n",
              "      <button class=\"colab-df-convert\" onclick=\"convertToInteractive('df-a13a718d-a084-4969-a928-e15c1fdbee21')\"\n",
              "              title=\"Convert this dataframe to an interactive table.\"\n",
              "              style=\"display:none;\">\n",
              "        \n",
              "  <svg xmlns=\"http://www.w3.org/2000/svg\" height=\"24px\"viewBox=\"0 0 24 24\"\n",
              "       width=\"24px\">\n",
              "    <path d=\"M0 0h24v24H0V0z\" fill=\"none\"/>\n",
              "    <path d=\"M18.56 5.44l.94 2.06.94-2.06 2.06-.94-2.06-.94-.94-2.06-.94 2.06-2.06.94zm-11 1L8.5 8.5l.94-2.06 2.06-.94-2.06-.94L8.5 2.5l-.94 2.06-2.06.94zm10 10l.94 2.06.94-2.06 2.06-.94-2.06-.94-.94-2.06-.94 2.06-2.06.94z\"/><path d=\"M17.41 7.96l-1.37-1.37c-.4-.4-.92-.59-1.43-.59-.52 0-1.04.2-1.43.59L10.3 9.45l-7.72 7.72c-.78.78-.78 2.05 0 2.83L4 21.41c.39.39.9.59 1.41.59.51 0 1.02-.2 1.41-.59l7.78-7.78 2.81-2.81c.8-.78.8-2.07 0-2.86zM5.41 20L4 18.59l7.72-7.72 1.47 1.35L5.41 20z\"/>\n",
              "  </svg>\n",
              "      </button>\n",
              "      \n",
              "  <style>\n",
              "    .colab-df-container {\n",
              "      display:flex;\n",
              "      flex-wrap:wrap;\n",
              "      gap: 12px;\n",
              "    }\n",
              "\n",
              "    .colab-df-convert {\n",
              "      background-color: #E8F0FE;\n",
              "      border: none;\n",
              "      border-radius: 50%;\n",
              "      cursor: pointer;\n",
              "      display: none;\n",
              "      fill: #1967D2;\n",
              "      height: 32px;\n",
              "      padding: 0 0 0 0;\n",
              "      width: 32px;\n",
              "    }\n",
              "\n",
              "    .colab-df-convert:hover {\n",
              "      background-color: #E2EBFA;\n",
              "      box-shadow: 0px 1px 2px rgba(60, 64, 67, 0.3), 0px 1px 3px 1px rgba(60, 64, 67, 0.15);\n",
              "      fill: #174EA6;\n",
              "    }\n",
              "\n",
              "    [theme=dark] .colab-df-convert {\n",
              "      background-color: #3B4455;\n",
              "      fill: #D2E3FC;\n",
              "    }\n",
              "\n",
              "    [theme=dark] .colab-df-convert:hover {\n",
              "      background-color: #434B5C;\n",
              "      box-shadow: 0px 1px 3px 1px rgba(0, 0, 0, 0.15);\n",
              "      filter: drop-shadow(0px 1px 2px rgba(0, 0, 0, 0.3));\n",
              "      fill: #FFFFFF;\n",
              "    }\n",
              "  </style>\n",
              "\n",
              "      <script>\n",
              "        const buttonEl =\n",
              "          document.querySelector('#df-a13a718d-a084-4969-a928-e15c1fdbee21 button.colab-df-convert');\n",
              "        buttonEl.style.display =\n",
              "          google.colab.kernel.accessAllowed ? 'block' : 'none';\n",
              "\n",
              "        async function convertToInteractive(key) {\n",
              "          const element = document.querySelector('#df-a13a718d-a084-4969-a928-e15c1fdbee21');\n",
              "          const dataTable =\n",
              "            await google.colab.kernel.invokeFunction('convertToInteractive',\n",
              "                                                     [key], {});\n",
              "          if (!dataTable) return;\n",
              "\n",
              "          const docLinkHtml = 'Like what you see? Visit the ' +\n",
              "            '<a target=\"_blank\" href=https://colab.research.google.com/notebooks/data_table.ipynb>data table notebook</a>'\n",
              "            + ' to learn more about interactive tables.';\n",
              "          element.innerHTML = '';\n",
              "          dataTable['output_type'] = 'display_data';\n",
              "          await google.colab.output.renderOutput(dataTable, element);\n",
              "          const docLink = document.createElement('div');\n",
              "          docLink.innerHTML = docLinkHtml;\n",
              "          element.appendChild(docLink);\n",
              "        }\n",
              "      </script>\n",
              "    </div>\n",
              "  </div>\n",
              "  "
            ]
          },
          "metadata": {},
          "execution_count": 81
        }
      ]
    },
    {
      "cell_type": "code",
      "source": [
        "training_set.tail(5)"
      ],
      "metadata": {
        "colab": {
          "base_uri": "https://localhost:8080/",
          "height": 206
        },
        "id": "rmHEjqj1_Lcz",
        "outputId": "ff07ce20-fff4-46eb-e17f-5ffea18f9b7e"
      },
      "execution_count": null,
      "outputs": [
        {
          "output_type": "execute_result",
          "data": {
            "text/plain": [
              "         image_name  patient_id     sex  age_approx  \\\n",
              "25326  ISIC_0073247          -1  female        85.0   \n",
              "25327  ISIC_0073248          -1    male        65.0   \n",
              "25328  ISIC_0073249          -1    male        70.0   \n",
              "25329  ISIC_0073251          -1  female        55.0   \n",
              "25330  ISIC_0073254          -1    male        50.0   \n",
              "\n",
              "      anatom_site_general_challenge diagnosis benign_malignant  target  \\\n",
              "25326                     head/neck       BCC           benign       0   \n",
              "25327                anterior torso       BKL           benign       0   \n",
              "25328               lower extremity       MEL        malignant       1   \n",
              "25329                   palms/soles        NV           benign       0   \n",
              "25330               upper extremity       BKL           benign       0   \n",
              "\n",
              "       tfrecord  width  height  \n",
              "25326        19   1024    1024  \n",
              "25327         7   1024    1024  \n",
              "25328         9   1024    1024  \n",
              "25329        15   1024    1024  \n",
              "25330        23   1024    1024  "
            ],
            "text/html": [
              "\n",
              "  <div id=\"df-fae84506-8052-4f14-8c01-76192e5eb6ee\">\n",
              "    <div class=\"colab-df-container\">\n",
              "      <div>\n",
              "<style scoped>\n",
              "    .dataframe tbody tr th:only-of-type {\n",
              "        vertical-align: middle;\n",
              "    }\n",
              "\n",
              "    .dataframe tbody tr th {\n",
              "        vertical-align: top;\n",
              "    }\n",
              "\n",
              "    .dataframe thead th {\n",
              "        text-align: right;\n",
              "    }\n",
              "</style>\n",
              "<table border=\"1\" class=\"dataframe\">\n",
              "  <thead>\n",
              "    <tr style=\"text-align: right;\">\n",
              "      <th></th>\n",
              "      <th>image_name</th>\n",
              "      <th>patient_id</th>\n",
              "      <th>sex</th>\n",
              "      <th>age_approx</th>\n",
              "      <th>anatom_site_general_challenge</th>\n",
              "      <th>diagnosis</th>\n",
              "      <th>benign_malignant</th>\n",
              "      <th>target</th>\n",
              "      <th>tfrecord</th>\n",
              "      <th>width</th>\n",
              "      <th>height</th>\n",
              "    </tr>\n",
              "  </thead>\n",
              "  <tbody>\n",
              "    <tr>\n",
              "      <th>25326</th>\n",
              "      <td>ISIC_0073247</td>\n",
              "      <td>-1</td>\n",
              "      <td>female</td>\n",
              "      <td>85.0</td>\n",
              "      <td>head/neck</td>\n",
              "      <td>BCC</td>\n",
              "      <td>benign</td>\n",
              "      <td>0</td>\n",
              "      <td>19</td>\n",
              "      <td>1024</td>\n",
              "      <td>1024</td>\n",
              "    </tr>\n",
              "    <tr>\n",
              "      <th>25327</th>\n",
              "      <td>ISIC_0073248</td>\n",
              "      <td>-1</td>\n",
              "      <td>male</td>\n",
              "      <td>65.0</td>\n",
              "      <td>anterior torso</td>\n",
              "      <td>BKL</td>\n",
              "      <td>benign</td>\n",
              "      <td>0</td>\n",
              "      <td>7</td>\n",
              "      <td>1024</td>\n",
              "      <td>1024</td>\n",
              "    </tr>\n",
              "    <tr>\n",
              "      <th>25328</th>\n",
              "      <td>ISIC_0073249</td>\n",
              "      <td>-1</td>\n",
              "      <td>male</td>\n",
              "      <td>70.0</td>\n",
              "      <td>lower extremity</td>\n",
              "      <td>MEL</td>\n",
              "      <td>malignant</td>\n",
              "      <td>1</td>\n",
              "      <td>9</td>\n",
              "      <td>1024</td>\n",
              "      <td>1024</td>\n",
              "    </tr>\n",
              "    <tr>\n",
              "      <th>25329</th>\n",
              "      <td>ISIC_0073251</td>\n",
              "      <td>-1</td>\n",
              "      <td>female</td>\n",
              "      <td>55.0</td>\n",
              "      <td>palms/soles</td>\n",
              "      <td>NV</td>\n",
              "      <td>benign</td>\n",
              "      <td>0</td>\n",
              "      <td>15</td>\n",
              "      <td>1024</td>\n",
              "      <td>1024</td>\n",
              "    </tr>\n",
              "    <tr>\n",
              "      <th>25330</th>\n",
              "      <td>ISIC_0073254</td>\n",
              "      <td>-1</td>\n",
              "      <td>male</td>\n",
              "      <td>50.0</td>\n",
              "      <td>upper extremity</td>\n",
              "      <td>BKL</td>\n",
              "      <td>benign</td>\n",
              "      <td>0</td>\n",
              "      <td>23</td>\n",
              "      <td>1024</td>\n",
              "      <td>1024</td>\n",
              "    </tr>\n",
              "  </tbody>\n",
              "</table>\n",
              "</div>\n",
              "      <button class=\"colab-df-convert\" onclick=\"convertToInteractive('df-fae84506-8052-4f14-8c01-76192e5eb6ee')\"\n",
              "              title=\"Convert this dataframe to an interactive table.\"\n",
              "              style=\"display:none;\">\n",
              "        \n",
              "  <svg xmlns=\"http://www.w3.org/2000/svg\" height=\"24px\"viewBox=\"0 0 24 24\"\n",
              "       width=\"24px\">\n",
              "    <path d=\"M0 0h24v24H0V0z\" fill=\"none\"/>\n",
              "    <path d=\"M18.56 5.44l.94 2.06.94-2.06 2.06-.94-2.06-.94-.94-2.06-.94 2.06-2.06.94zm-11 1L8.5 8.5l.94-2.06 2.06-.94-2.06-.94L8.5 2.5l-.94 2.06-2.06.94zm10 10l.94 2.06.94-2.06 2.06-.94-2.06-.94-.94-2.06-.94 2.06-2.06.94z\"/><path d=\"M17.41 7.96l-1.37-1.37c-.4-.4-.92-.59-1.43-.59-.52 0-1.04.2-1.43.59L10.3 9.45l-7.72 7.72c-.78.78-.78 2.05 0 2.83L4 21.41c.39.39.9.59 1.41.59.51 0 1.02-.2 1.41-.59l7.78-7.78 2.81-2.81c.8-.78.8-2.07 0-2.86zM5.41 20L4 18.59l7.72-7.72 1.47 1.35L5.41 20z\"/>\n",
              "  </svg>\n",
              "      </button>\n",
              "      \n",
              "  <style>\n",
              "    .colab-df-container {\n",
              "      display:flex;\n",
              "      flex-wrap:wrap;\n",
              "      gap: 12px;\n",
              "    }\n",
              "\n",
              "    .colab-df-convert {\n",
              "      background-color: #E8F0FE;\n",
              "      border: none;\n",
              "      border-radius: 50%;\n",
              "      cursor: pointer;\n",
              "      display: none;\n",
              "      fill: #1967D2;\n",
              "      height: 32px;\n",
              "      padding: 0 0 0 0;\n",
              "      width: 32px;\n",
              "    }\n",
              "\n",
              "    .colab-df-convert:hover {\n",
              "      background-color: #E2EBFA;\n",
              "      box-shadow: 0px 1px 2px rgba(60, 64, 67, 0.3), 0px 1px 3px 1px rgba(60, 64, 67, 0.15);\n",
              "      fill: #174EA6;\n",
              "    }\n",
              "\n",
              "    [theme=dark] .colab-df-convert {\n",
              "      background-color: #3B4455;\n",
              "      fill: #D2E3FC;\n",
              "    }\n",
              "\n",
              "    [theme=dark] .colab-df-convert:hover {\n",
              "      background-color: #434B5C;\n",
              "      box-shadow: 0px 1px 3px 1px rgba(0, 0, 0, 0.15);\n",
              "      filter: drop-shadow(0px 1px 2px rgba(0, 0, 0, 0.3));\n",
              "      fill: #FFFFFF;\n",
              "    }\n",
              "  </style>\n",
              "\n",
              "      <script>\n",
              "        const buttonEl =\n",
              "          document.querySelector('#df-fae84506-8052-4f14-8c01-76192e5eb6ee button.colab-df-convert');\n",
              "        buttonEl.style.display =\n",
              "          google.colab.kernel.accessAllowed ? 'block' : 'none';\n",
              "\n",
              "        async function convertToInteractive(key) {\n",
              "          const element = document.querySelector('#df-fae84506-8052-4f14-8c01-76192e5eb6ee');\n",
              "          const dataTable =\n",
              "            await google.colab.kernel.invokeFunction('convertToInteractive',\n",
              "                                                     [key], {});\n",
              "          if (!dataTable) return;\n",
              "\n",
              "          const docLinkHtml = 'Like what you see? Visit the ' +\n",
              "            '<a target=\"_blank\" href=https://colab.research.google.com/notebooks/data_table.ipynb>data table notebook</a>'\n",
              "            + ' to learn more about interactive tables.';\n",
              "          element.innerHTML = '';\n",
              "          dataTable['output_type'] = 'display_data';\n",
              "          await google.colab.output.renderOutput(dataTable, element);\n",
              "          const docLink = document.createElement('div');\n",
              "          docLink.innerHTML = docLinkHtml;\n",
              "          element.appendChild(docLink);\n",
              "        }\n",
              "      </script>\n",
              "    </div>\n",
              "  </div>\n",
              "  "
            ]
          },
          "metadata": {},
          "execution_count": 82
        }
      ]
    },
    {
      "cell_type": "code",
      "source": [
        "training_set.benign_malignant.unique()"
      ],
      "metadata": {
        "id": "-ywQ0dXTQMyx",
        "outputId": "9d2b79f7-42bf-4106-df37-4327b8a4bdbd",
        "colab": {
          "base_uri": "https://localhost:8080/"
        }
      },
      "execution_count": null,
      "outputs": [
        {
          "output_type": "execute_result",
          "data": {
            "text/plain": [
              "array(['benign', 'malignant'], dtype=object)"
            ]
          },
          "metadata": {},
          "execution_count": 83
        }
      ]
    },
    {
      "cell_type": "code",
      "source": [
        "training_set.diagnosis.unique()"
      ],
      "metadata": {
        "id": "GNOxlYVBQSzy",
        "outputId": "8c1678f3-8b2b-4184-fbb1-d158d6d4cda3",
        "colab": {
          "base_uri": "https://localhost:8080/"
        }
      },
      "execution_count": null,
      "outputs": [
        {
          "output_type": "execute_result",
          "data": {
            "text/plain": [
              "array(['NV', 'MEL', 'BKL', 'DF', 'SCC', 'BCC', 'VASC', 'AK'], dtype=object)"
            ]
          },
          "metadata": {},
          "execution_count": 84
        }
      ]
    },
    {
      "cell_type": "code",
      "source": [
        "#удаляем колонки котоыре  по  нашему мнению не влияют на результат\n",
        "training_set.pop('image_name')\n",
        "#training_set.pop('diagnosis')\n",
        "training_set.pop('benign_malignant')\n",
        "training_set.pop('height')\n",
        "training_set.pop('width')\n",
        "training_set.pop('patient_id')\n",
        "#training_set.pop('tfrecord')"
      ],
      "metadata": {
        "id": "xc1CWTilQLQC",
        "outputId": "18eb568d-8466-40ce-f46d-ea77fbaa85a5",
        "colab": {
          "base_uri": "https://localhost:8080/"
        }
      },
      "execution_count": null,
      "outputs": [
        {
          "output_type": "execute_result",
          "data": {
            "text/plain": [
              "0       -1\n",
              "1       -1\n",
              "2       -1\n",
              "3       -1\n",
              "4       -1\n",
              "        ..\n",
              "25326   -1\n",
              "25327   -1\n",
              "25328   -1\n",
              "25329   -1\n",
              "25330   -1\n",
              "Name: patient_id, Length: 22480, dtype: int64"
            ]
          },
          "metadata": {},
          "execution_count": 85
        }
      ]
    },
    {
      "cell_type": "code",
      "source": [
        "\n"
      ],
      "metadata": {
        "id": "0ZDIxZei_GTa"
      },
      "execution_count": null,
      "outputs": []
    },
    {
      "cell_type": "code",
      "source": [
        "#проверяем\n",
        "training_set.tail(5)"
      ],
      "metadata": {
        "colab": {
          "base_uri": "https://localhost:8080/",
          "height": 206
        },
        "id": "p5QNii4ZACqS",
        "outputId": "3245abbd-7443-45dc-b815-ad71a26da962"
      },
      "execution_count": null,
      "outputs": [
        {
          "output_type": "execute_result",
          "data": {
            "text/plain": [
              "          sex  age_approx anatom_site_general_challenge diagnosis  target  \\\n",
              "25326  female        85.0                     head/neck       BCC       0   \n",
              "25327    male        65.0                anterior torso       BKL       0   \n",
              "25328    male        70.0               lower extremity       MEL       1   \n",
              "25329  female        55.0                   palms/soles        NV       0   \n",
              "25330    male        50.0               upper extremity       BKL       0   \n",
              "\n",
              "       tfrecord  \n",
              "25326        19  \n",
              "25327         7  \n",
              "25328         9  \n",
              "25329        15  \n",
              "25330        23  "
            ],
            "text/html": [
              "\n",
              "  <div id=\"df-2f64359f-7f45-470f-9da8-8cf3f9926fa9\">\n",
              "    <div class=\"colab-df-container\">\n",
              "      <div>\n",
              "<style scoped>\n",
              "    .dataframe tbody tr th:only-of-type {\n",
              "        vertical-align: middle;\n",
              "    }\n",
              "\n",
              "    .dataframe tbody tr th {\n",
              "        vertical-align: top;\n",
              "    }\n",
              "\n",
              "    .dataframe thead th {\n",
              "        text-align: right;\n",
              "    }\n",
              "</style>\n",
              "<table border=\"1\" class=\"dataframe\">\n",
              "  <thead>\n",
              "    <tr style=\"text-align: right;\">\n",
              "      <th></th>\n",
              "      <th>sex</th>\n",
              "      <th>age_approx</th>\n",
              "      <th>anatom_site_general_challenge</th>\n",
              "      <th>diagnosis</th>\n",
              "      <th>target</th>\n",
              "      <th>tfrecord</th>\n",
              "    </tr>\n",
              "  </thead>\n",
              "  <tbody>\n",
              "    <tr>\n",
              "      <th>25326</th>\n",
              "      <td>female</td>\n",
              "      <td>85.0</td>\n",
              "      <td>head/neck</td>\n",
              "      <td>BCC</td>\n",
              "      <td>0</td>\n",
              "      <td>19</td>\n",
              "    </tr>\n",
              "    <tr>\n",
              "      <th>25327</th>\n",
              "      <td>male</td>\n",
              "      <td>65.0</td>\n",
              "      <td>anterior torso</td>\n",
              "      <td>BKL</td>\n",
              "      <td>0</td>\n",
              "      <td>7</td>\n",
              "    </tr>\n",
              "    <tr>\n",
              "      <th>25328</th>\n",
              "      <td>male</td>\n",
              "      <td>70.0</td>\n",
              "      <td>lower extremity</td>\n",
              "      <td>MEL</td>\n",
              "      <td>1</td>\n",
              "      <td>9</td>\n",
              "    </tr>\n",
              "    <tr>\n",
              "      <th>25329</th>\n",
              "      <td>female</td>\n",
              "      <td>55.0</td>\n",
              "      <td>palms/soles</td>\n",
              "      <td>NV</td>\n",
              "      <td>0</td>\n",
              "      <td>15</td>\n",
              "    </tr>\n",
              "    <tr>\n",
              "      <th>25330</th>\n",
              "      <td>male</td>\n",
              "      <td>50.0</td>\n",
              "      <td>upper extremity</td>\n",
              "      <td>BKL</td>\n",
              "      <td>0</td>\n",
              "      <td>23</td>\n",
              "    </tr>\n",
              "  </tbody>\n",
              "</table>\n",
              "</div>\n",
              "      <button class=\"colab-df-convert\" onclick=\"convertToInteractive('df-2f64359f-7f45-470f-9da8-8cf3f9926fa9')\"\n",
              "              title=\"Convert this dataframe to an interactive table.\"\n",
              "              style=\"display:none;\">\n",
              "        \n",
              "  <svg xmlns=\"http://www.w3.org/2000/svg\" height=\"24px\"viewBox=\"0 0 24 24\"\n",
              "       width=\"24px\">\n",
              "    <path d=\"M0 0h24v24H0V0z\" fill=\"none\"/>\n",
              "    <path d=\"M18.56 5.44l.94 2.06.94-2.06 2.06-.94-2.06-.94-.94-2.06-.94 2.06-2.06.94zm-11 1L8.5 8.5l.94-2.06 2.06-.94-2.06-.94L8.5 2.5l-.94 2.06-2.06.94zm10 10l.94 2.06.94-2.06 2.06-.94-2.06-.94-.94-2.06-.94 2.06-2.06.94z\"/><path d=\"M17.41 7.96l-1.37-1.37c-.4-.4-.92-.59-1.43-.59-.52 0-1.04.2-1.43.59L10.3 9.45l-7.72 7.72c-.78.78-.78 2.05 0 2.83L4 21.41c.39.39.9.59 1.41.59.51 0 1.02-.2 1.41-.59l7.78-7.78 2.81-2.81c.8-.78.8-2.07 0-2.86zM5.41 20L4 18.59l7.72-7.72 1.47 1.35L5.41 20z\"/>\n",
              "  </svg>\n",
              "      </button>\n",
              "      \n",
              "  <style>\n",
              "    .colab-df-container {\n",
              "      display:flex;\n",
              "      flex-wrap:wrap;\n",
              "      gap: 12px;\n",
              "    }\n",
              "\n",
              "    .colab-df-convert {\n",
              "      background-color: #E8F0FE;\n",
              "      border: none;\n",
              "      border-radius: 50%;\n",
              "      cursor: pointer;\n",
              "      display: none;\n",
              "      fill: #1967D2;\n",
              "      height: 32px;\n",
              "      padding: 0 0 0 0;\n",
              "      width: 32px;\n",
              "    }\n",
              "\n",
              "    .colab-df-convert:hover {\n",
              "      background-color: #E2EBFA;\n",
              "      box-shadow: 0px 1px 2px rgba(60, 64, 67, 0.3), 0px 1px 3px 1px rgba(60, 64, 67, 0.15);\n",
              "      fill: #174EA6;\n",
              "    }\n",
              "\n",
              "    [theme=dark] .colab-df-convert {\n",
              "      background-color: #3B4455;\n",
              "      fill: #D2E3FC;\n",
              "    }\n",
              "\n",
              "    [theme=dark] .colab-df-convert:hover {\n",
              "      background-color: #434B5C;\n",
              "      box-shadow: 0px 1px 3px 1px rgba(0, 0, 0, 0.15);\n",
              "      filter: drop-shadow(0px 1px 2px rgba(0, 0, 0, 0.3));\n",
              "      fill: #FFFFFF;\n",
              "    }\n",
              "  </style>\n",
              "\n",
              "      <script>\n",
              "        const buttonEl =\n",
              "          document.querySelector('#df-2f64359f-7f45-470f-9da8-8cf3f9926fa9 button.colab-df-convert');\n",
              "        buttonEl.style.display =\n",
              "          google.colab.kernel.accessAllowed ? 'block' : 'none';\n",
              "\n",
              "        async function convertToInteractive(key) {\n",
              "          const element = document.querySelector('#df-2f64359f-7f45-470f-9da8-8cf3f9926fa9');\n",
              "          const dataTable =\n",
              "            await google.colab.kernel.invokeFunction('convertToInteractive',\n",
              "                                                     [key], {});\n",
              "          if (!dataTable) return;\n",
              "\n",
              "          const docLinkHtml = 'Like what you see? Visit the ' +\n",
              "            '<a target=\"_blank\" href=https://colab.research.google.com/notebooks/data_table.ipynb>data table notebook</a>'\n",
              "            + ' to learn more about interactive tables.';\n",
              "          element.innerHTML = '';\n",
              "          dataTable['output_type'] = 'display_data';\n",
              "          await google.colab.output.renderOutput(dataTable, element);\n",
              "          const docLink = document.createElement('div');\n",
              "          docLink.innerHTML = docLinkHtml;\n",
              "          element.appendChild(docLink);\n",
              "        }\n",
              "      </script>\n",
              "    </div>\n",
              "  </div>\n",
              "  "
            ]
          },
          "metadata": {},
          "execution_count": 86
        }
      ]
    },
    {
      "cell_type": "code",
      "source": [
        "training_set.isna().sum() "
      ],
      "metadata": {
        "colab": {
          "base_uri": "https://localhost:8080/"
        },
        "id": "vEfc-83lPrhI",
        "outputId": "ff75543f-f9a9-43ca-ff66-92fbad45aa06"
      },
      "execution_count": null,
      "outputs": [
        {
          "output_type": "execute_result",
          "data": {
            "text/plain": [
              "sex                              0\n",
              "age_approx                       0\n",
              "anatom_site_general_challenge    0\n",
              "diagnosis                        0\n",
              "target                           0\n",
              "tfrecord                         0\n",
              "dtype: int64"
            ]
          },
          "metadata": {},
          "execution_count": 87
        }
      ]
    },
    {
      "cell_type": "code",
      "source": [
        "training_set['age_approx'] = training_set['age_approx'].astype (float)\n",
        "training_set.dtypes"
      ],
      "metadata": {
        "colab": {
          "base_uri": "https://localhost:8080/"
        },
        "id": "ChlebENEFkP5",
        "outputId": "65ab1236-19d7-4a91-d200-f6bd7326075c"
      },
      "execution_count": null,
      "outputs": [
        {
          "output_type": "execute_result",
          "data": {
            "text/plain": [
              "sex                               object\n",
              "age_approx                       float64\n",
              "anatom_site_general_challenge     object\n",
              "diagnosis                         object\n",
              "target                             int64\n",
              "tfrecord                           int64\n",
              "dtype: object"
            ]
          },
          "metadata": {},
          "execution_count": 88
        }
      ]
    },
    {
      "cell_type": "code",
      "source": [
        "level_map = { 'female':1,  'male':0}\n",
        "training_set['sex'] = training_set['sex'].map(level_map)\n"
      ],
      "metadata": {
        "id": "no03ujdcCyhv"
      },
      "execution_count": null,
      "outputs": []
    },
    {
      "cell_type": "code",
      "source": [
        "training_set.tail(5)"
      ],
      "metadata": {
        "colab": {
          "base_uri": "https://localhost:8080/",
          "height": 206
        },
        "id": "uju8OoyJGBmf",
        "outputId": "3443a843-d76e-4482-ba70-99231df8d10a"
      },
      "execution_count": null,
      "outputs": [
        {
          "output_type": "execute_result",
          "data": {
            "text/plain": [
              "       sex  age_approx anatom_site_general_challenge diagnosis  target  \\\n",
              "25326    1        85.0                     head/neck       BCC       0   \n",
              "25327    0        65.0                anterior torso       BKL       0   \n",
              "25328    0        70.0               lower extremity       MEL       1   \n",
              "25329    1        55.0                   palms/soles        NV       0   \n",
              "25330    0        50.0               upper extremity       BKL       0   \n",
              "\n",
              "       tfrecord  \n",
              "25326        19  \n",
              "25327         7  \n",
              "25328         9  \n",
              "25329        15  \n",
              "25330        23  "
            ],
            "text/html": [
              "\n",
              "  <div id=\"df-1cd81ea5-e972-4700-98d9-051bf521b2dd\">\n",
              "    <div class=\"colab-df-container\">\n",
              "      <div>\n",
              "<style scoped>\n",
              "    .dataframe tbody tr th:only-of-type {\n",
              "        vertical-align: middle;\n",
              "    }\n",
              "\n",
              "    .dataframe tbody tr th {\n",
              "        vertical-align: top;\n",
              "    }\n",
              "\n",
              "    .dataframe thead th {\n",
              "        text-align: right;\n",
              "    }\n",
              "</style>\n",
              "<table border=\"1\" class=\"dataframe\">\n",
              "  <thead>\n",
              "    <tr style=\"text-align: right;\">\n",
              "      <th></th>\n",
              "      <th>sex</th>\n",
              "      <th>age_approx</th>\n",
              "      <th>anatom_site_general_challenge</th>\n",
              "      <th>diagnosis</th>\n",
              "      <th>target</th>\n",
              "      <th>tfrecord</th>\n",
              "    </tr>\n",
              "  </thead>\n",
              "  <tbody>\n",
              "    <tr>\n",
              "      <th>25326</th>\n",
              "      <td>1</td>\n",
              "      <td>85.0</td>\n",
              "      <td>head/neck</td>\n",
              "      <td>BCC</td>\n",
              "      <td>0</td>\n",
              "      <td>19</td>\n",
              "    </tr>\n",
              "    <tr>\n",
              "      <th>25327</th>\n",
              "      <td>0</td>\n",
              "      <td>65.0</td>\n",
              "      <td>anterior torso</td>\n",
              "      <td>BKL</td>\n",
              "      <td>0</td>\n",
              "      <td>7</td>\n",
              "    </tr>\n",
              "    <tr>\n",
              "      <th>25328</th>\n",
              "      <td>0</td>\n",
              "      <td>70.0</td>\n",
              "      <td>lower extremity</td>\n",
              "      <td>MEL</td>\n",
              "      <td>1</td>\n",
              "      <td>9</td>\n",
              "    </tr>\n",
              "    <tr>\n",
              "      <th>25329</th>\n",
              "      <td>1</td>\n",
              "      <td>55.0</td>\n",
              "      <td>palms/soles</td>\n",
              "      <td>NV</td>\n",
              "      <td>0</td>\n",
              "      <td>15</td>\n",
              "    </tr>\n",
              "    <tr>\n",
              "      <th>25330</th>\n",
              "      <td>0</td>\n",
              "      <td>50.0</td>\n",
              "      <td>upper extremity</td>\n",
              "      <td>BKL</td>\n",
              "      <td>0</td>\n",
              "      <td>23</td>\n",
              "    </tr>\n",
              "  </tbody>\n",
              "</table>\n",
              "</div>\n",
              "      <button class=\"colab-df-convert\" onclick=\"convertToInteractive('df-1cd81ea5-e972-4700-98d9-051bf521b2dd')\"\n",
              "              title=\"Convert this dataframe to an interactive table.\"\n",
              "              style=\"display:none;\">\n",
              "        \n",
              "  <svg xmlns=\"http://www.w3.org/2000/svg\" height=\"24px\"viewBox=\"0 0 24 24\"\n",
              "       width=\"24px\">\n",
              "    <path d=\"M0 0h24v24H0V0z\" fill=\"none\"/>\n",
              "    <path d=\"M18.56 5.44l.94 2.06.94-2.06 2.06-.94-2.06-.94-.94-2.06-.94 2.06-2.06.94zm-11 1L8.5 8.5l.94-2.06 2.06-.94-2.06-.94L8.5 2.5l-.94 2.06-2.06.94zm10 10l.94 2.06.94-2.06 2.06-.94-2.06-.94-.94-2.06-.94 2.06-2.06.94z\"/><path d=\"M17.41 7.96l-1.37-1.37c-.4-.4-.92-.59-1.43-.59-.52 0-1.04.2-1.43.59L10.3 9.45l-7.72 7.72c-.78.78-.78 2.05 0 2.83L4 21.41c.39.39.9.59 1.41.59.51 0 1.02-.2 1.41-.59l7.78-7.78 2.81-2.81c.8-.78.8-2.07 0-2.86zM5.41 20L4 18.59l7.72-7.72 1.47 1.35L5.41 20z\"/>\n",
              "  </svg>\n",
              "      </button>\n",
              "      \n",
              "  <style>\n",
              "    .colab-df-container {\n",
              "      display:flex;\n",
              "      flex-wrap:wrap;\n",
              "      gap: 12px;\n",
              "    }\n",
              "\n",
              "    .colab-df-convert {\n",
              "      background-color: #E8F0FE;\n",
              "      border: none;\n",
              "      border-radius: 50%;\n",
              "      cursor: pointer;\n",
              "      display: none;\n",
              "      fill: #1967D2;\n",
              "      height: 32px;\n",
              "      padding: 0 0 0 0;\n",
              "      width: 32px;\n",
              "    }\n",
              "\n",
              "    .colab-df-convert:hover {\n",
              "      background-color: #E2EBFA;\n",
              "      box-shadow: 0px 1px 2px rgba(60, 64, 67, 0.3), 0px 1px 3px 1px rgba(60, 64, 67, 0.15);\n",
              "      fill: #174EA6;\n",
              "    }\n",
              "\n",
              "    [theme=dark] .colab-df-convert {\n",
              "      background-color: #3B4455;\n",
              "      fill: #D2E3FC;\n",
              "    }\n",
              "\n",
              "    [theme=dark] .colab-df-convert:hover {\n",
              "      background-color: #434B5C;\n",
              "      box-shadow: 0px 1px 3px 1px rgba(0, 0, 0, 0.15);\n",
              "      filter: drop-shadow(0px 1px 2px rgba(0, 0, 0, 0.3));\n",
              "      fill: #FFFFFF;\n",
              "    }\n",
              "  </style>\n",
              "\n",
              "      <script>\n",
              "        const buttonEl =\n",
              "          document.querySelector('#df-1cd81ea5-e972-4700-98d9-051bf521b2dd button.colab-df-convert');\n",
              "        buttonEl.style.display =\n",
              "          google.colab.kernel.accessAllowed ? 'block' : 'none';\n",
              "\n",
              "        async function convertToInteractive(key) {\n",
              "          const element = document.querySelector('#df-1cd81ea5-e972-4700-98d9-051bf521b2dd');\n",
              "          const dataTable =\n",
              "            await google.colab.kernel.invokeFunction('convertToInteractive',\n",
              "                                                     [key], {});\n",
              "          if (!dataTable) return;\n",
              "\n",
              "          const docLinkHtml = 'Like what you see? Visit the ' +\n",
              "            '<a target=\"_blank\" href=https://colab.research.google.com/notebooks/data_table.ipynb>data table notebook</a>'\n",
              "            + ' to learn more about interactive tables.';\n",
              "          element.innerHTML = '';\n",
              "          dataTable['output_type'] = 'display_data';\n",
              "          await google.colab.output.renderOutput(dataTable, element);\n",
              "          const docLink = document.createElement('div');\n",
              "          docLink.innerHTML = docLinkHtml;\n",
              "          element.appendChild(docLink);\n",
              "        }\n",
              "      </script>\n",
              "    </div>\n",
              "  </div>\n",
              "  "
            ]
          },
          "metadata": {},
          "execution_count": 90
        }
      ]
    },
    {
      "cell_type": "code",
      "source": [
        "training_set.dtypes"
      ],
      "metadata": {
        "colab": {
          "base_uri": "https://localhost:8080/"
        },
        "id": "cvtsaqmiG95n",
        "outputId": "96c430f8-8e51-44a7-de7d-9013d5349d21"
      },
      "execution_count": null,
      "outputs": [
        {
          "output_type": "execute_result",
          "data": {
            "text/plain": [
              "sex                                int64\n",
              "age_approx                       float64\n",
              "anatom_site_general_challenge     object\n",
              "diagnosis                         object\n",
              "target                             int64\n",
              "tfrecord                           int64\n",
              "dtype: object"
            ]
          },
          "metadata": {},
          "execution_count": 91
        }
      ]
    },
    {
      "cell_type": "code",
      "source": [
        "arr1v  =  training_set.anatom_site_general_challenge.unique()"
      ],
      "metadata": {
        "id": "aukE5LFxHOra"
      },
      "execution_count": null,
      "outputs": []
    },
    {
      "cell_type": "code",
      "source": [
        "arr1v"
      ],
      "metadata": {
        "colab": {
          "base_uri": "https://localhost:8080/"
        },
        "id": "wWC_8ltZIiHj",
        "outputId": "bd9e3d57-1317-43a1-8b7a-1d9775c35906"
      },
      "execution_count": null,
      "outputs": [
        {
          "output_type": "execute_result",
          "data": {
            "text/plain": [
              "array(['anterior torso', 'upper extremity', 'posterior torso',\n",
              "       'lower extremity', 'lateral torso', 'head/neck', 'palms/soles',\n",
              "       'oral/genital'], dtype=object)"
            ]
          },
          "metadata": {},
          "execution_count": 93
        }
      ]
    },
    {
      "cell_type": "code",
      "source": [
        "def Convert(lst):\n",
        "    res_dct = {lst[i]: i  for i in range(0, len(lst)-1, 1)}\n",
        "    return res_dct\n",
        "level_map2 =Convert(arr1v)\n",
        "level_map2"
      ],
      "metadata": {
        "colab": {
          "base_uri": "https://localhost:8080/"
        },
        "id": "5YlrqfDOIc0l",
        "outputId": "59f1a926-94bd-4bed-af05-7399eb886711"
      },
      "execution_count": null,
      "outputs": [
        {
          "output_type": "execute_result",
          "data": {
            "text/plain": [
              "{'anterior torso': 0,\n",
              " 'upper extremity': 1,\n",
              " 'posterior torso': 2,\n",
              " 'lower extremity': 3,\n",
              " 'lateral torso': 4,\n",
              " 'head/neck': 5,\n",
              " 'palms/soles': 6}"
            ]
          },
          "metadata": {},
          "execution_count": 94
        }
      ]
    },
    {
      "cell_type": "code",
      "source": [
        "training_set['anatom_site_general_challenge'] = training_set['anatom_site_general_challenge'].map(level_map2)"
      ],
      "metadata": {
        "id": "YCveie_yJdnx"
      },
      "execution_count": null,
      "outputs": []
    },
    {
      "cell_type": "code",
      "source": [
        "training_set.tail(5)"
      ],
      "metadata": {
        "colab": {
          "base_uri": "https://localhost:8080/",
          "height": 206
        },
        "id": "LlqaaotaJk2s",
        "outputId": "a2498fb9-9502-4a8a-ad35-4c5c90eb3d47"
      },
      "execution_count": null,
      "outputs": [
        {
          "output_type": "execute_result",
          "data": {
            "text/plain": [
              "       sex  age_approx  anatom_site_general_challenge diagnosis  target  \\\n",
              "25326    1        85.0                            5.0       BCC       0   \n",
              "25327    0        65.0                            0.0       BKL       0   \n",
              "25328    0        70.0                            3.0       MEL       1   \n",
              "25329    1        55.0                            6.0        NV       0   \n",
              "25330    0        50.0                            1.0       BKL       0   \n",
              "\n",
              "       tfrecord  \n",
              "25326        19  \n",
              "25327         7  \n",
              "25328         9  \n",
              "25329        15  \n",
              "25330        23  "
            ],
            "text/html": [
              "\n",
              "  <div id=\"df-e2b4e3c0-797a-42d1-9c03-9b71b1fd5b80\">\n",
              "    <div class=\"colab-df-container\">\n",
              "      <div>\n",
              "<style scoped>\n",
              "    .dataframe tbody tr th:only-of-type {\n",
              "        vertical-align: middle;\n",
              "    }\n",
              "\n",
              "    .dataframe tbody tr th {\n",
              "        vertical-align: top;\n",
              "    }\n",
              "\n",
              "    .dataframe thead th {\n",
              "        text-align: right;\n",
              "    }\n",
              "</style>\n",
              "<table border=\"1\" class=\"dataframe\">\n",
              "  <thead>\n",
              "    <tr style=\"text-align: right;\">\n",
              "      <th></th>\n",
              "      <th>sex</th>\n",
              "      <th>age_approx</th>\n",
              "      <th>anatom_site_general_challenge</th>\n",
              "      <th>diagnosis</th>\n",
              "      <th>target</th>\n",
              "      <th>tfrecord</th>\n",
              "    </tr>\n",
              "  </thead>\n",
              "  <tbody>\n",
              "    <tr>\n",
              "      <th>25326</th>\n",
              "      <td>1</td>\n",
              "      <td>85.0</td>\n",
              "      <td>5.0</td>\n",
              "      <td>BCC</td>\n",
              "      <td>0</td>\n",
              "      <td>19</td>\n",
              "    </tr>\n",
              "    <tr>\n",
              "      <th>25327</th>\n",
              "      <td>0</td>\n",
              "      <td>65.0</td>\n",
              "      <td>0.0</td>\n",
              "      <td>BKL</td>\n",
              "      <td>0</td>\n",
              "      <td>7</td>\n",
              "    </tr>\n",
              "    <tr>\n",
              "      <th>25328</th>\n",
              "      <td>0</td>\n",
              "      <td>70.0</td>\n",
              "      <td>3.0</td>\n",
              "      <td>MEL</td>\n",
              "      <td>1</td>\n",
              "      <td>9</td>\n",
              "    </tr>\n",
              "    <tr>\n",
              "      <th>25329</th>\n",
              "      <td>1</td>\n",
              "      <td>55.0</td>\n",
              "      <td>6.0</td>\n",
              "      <td>NV</td>\n",
              "      <td>0</td>\n",
              "      <td>15</td>\n",
              "    </tr>\n",
              "    <tr>\n",
              "      <th>25330</th>\n",
              "      <td>0</td>\n",
              "      <td>50.0</td>\n",
              "      <td>1.0</td>\n",
              "      <td>BKL</td>\n",
              "      <td>0</td>\n",
              "      <td>23</td>\n",
              "    </tr>\n",
              "  </tbody>\n",
              "</table>\n",
              "</div>\n",
              "      <button class=\"colab-df-convert\" onclick=\"convertToInteractive('df-e2b4e3c0-797a-42d1-9c03-9b71b1fd5b80')\"\n",
              "              title=\"Convert this dataframe to an interactive table.\"\n",
              "              style=\"display:none;\">\n",
              "        \n",
              "  <svg xmlns=\"http://www.w3.org/2000/svg\" height=\"24px\"viewBox=\"0 0 24 24\"\n",
              "       width=\"24px\">\n",
              "    <path d=\"M0 0h24v24H0V0z\" fill=\"none\"/>\n",
              "    <path d=\"M18.56 5.44l.94 2.06.94-2.06 2.06-.94-2.06-.94-.94-2.06-.94 2.06-2.06.94zm-11 1L8.5 8.5l.94-2.06 2.06-.94-2.06-.94L8.5 2.5l-.94 2.06-2.06.94zm10 10l.94 2.06.94-2.06 2.06-.94-2.06-.94-.94-2.06-.94 2.06-2.06.94z\"/><path d=\"M17.41 7.96l-1.37-1.37c-.4-.4-.92-.59-1.43-.59-.52 0-1.04.2-1.43.59L10.3 9.45l-7.72 7.72c-.78.78-.78 2.05 0 2.83L4 21.41c.39.39.9.59 1.41.59.51 0 1.02-.2 1.41-.59l7.78-7.78 2.81-2.81c.8-.78.8-2.07 0-2.86zM5.41 20L4 18.59l7.72-7.72 1.47 1.35L5.41 20z\"/>\n",
              "  </svg>\n",
              "      </button>\n",
              "      \n",
              "  <style>\n",
              "    .colab-df-container {\n",
              "      display:flex;\n",
              "      flex-wrap:wrap;\n",
              "      gap: 12px;\n",
              "    }\n",
              "\n",
              "    .colab-df-convert {\n",
              "      background-color: #E8F0FE;\n",
              "      border: none;\n",
              "      border-radius: 50%;\n",
              "      cursor: pointer;\n",
              "      display: none;\n",
              "      fill: #1967D2;\n",
              "      height: 32px;\n",
              "      padding: 0 0 0 0;\n",
              "      width: 32px;\n",
              "    }\n",
              "\n",
              "    .colab-df-convert:hover {\n",
              "      background-color: #E2EBFA;\n",
              "      box-shadow: 0px 1px 2px rgba(60, 64, 67, 0.3), 0px 1px 3px 1px rgba(60, 64, 67, 0.15);\n",
              "      fill: #174EA6;\n",
              "    }\n",
              "\n",
              "    [theme=dark] .colab-df-convert {\n",
              "      background-color: #3B4455;\n",
              "      fill: #D2E3FC;\n",
              "    }\n",
              "\n",
              "    [theme=dark] .colab-df-convert:hover {\n",
              "      background-color: #434B5C;\n",
              "      box-shadow: 0px 1px 3px 1px rgba(0, 0, 0, 0.15);\n",
              "      filter: drop-shadow(0px 1px 2px rgba(0, 0, 0, 0.3));\n",
              "      fill: #FFFFFF;\n",
              "    }\n",
              "  </style>\n",
              "\n",
              "      <script>\n",
              "        const buttonEl =\n",
              "          document.querySelector('#df-e2b4e3c0-797a-42d1-9c03-9b71b1fd5b80 button.colab-df-convert');\n",
              "        buttonEl.style.display =\n",
              "          google.colab.kernel.accessAllowed ? 'block' : 'none';\n",
              "\n",
              "        async function convertToInteractive(key) {\n",
              "          const element = document.querySelector('#df-e2b4e3c0-797a-42d1-9c03-9b71b1fd5b80');\n",
              "          const dataTable =\n",
              "            await google.colab.kernel.invokeFunction('convertToInteractive',\n",
              "                                                     [key], {});\n",
              "          if (!dataTable) return;\n",
              "\n",
              "          const docLinkHtml = 'Like what you see? Visit the ' +\n",
              "            '<a target=\"_blank\" href=https://colab.research.google.com/notebooks/data_table.ipynb>data table notebook</a>'\n",
              "            + ' to learn more about interactive tables.';\n",
              "          element.innerHTML = '';\n",
              "          dataTable['output_type'] = 'display_data';\n",
              "          await google.colab.output.renderOutput(dataTable, element);\n",
              "          const docLink = document.createElement('div');\n",
              "          docLink.innerHTML = docLinkHtml;\n",
              "          element.appendChild(docLink);\n",
              "        }\n",
              "      </script>\n",
              "    </div>\n",
              "  </div>\n",
              "  "
            ]
          },
          "metadata": {},
          "execution_count": 96
        }
      ]
    },
    {
      "cell_type": "code",
      "source": [
        "training_set.dtypes"
      ],
      "metadata": {
        "colab": {
          "base_uri": "https://localhost:8080/"
        },
        "id": "i_F3xtP9Jpq0",
        "outputId": "abdc95af-d87b-4a00-c2d2-7443dc7835c8"
      },
      "execution_count": null,
      "outputs": [
        {
          "output_type": "execute_result",
          "data": {
            "text/plain": [
              "sex                                int64\n",
              "age_approx                       float64\n",
              "anatom_site_general_challenge    float64\n",
              "diagnosis                         object\n",
              "target                             int64\n",
              "tfrecord                           int64\n",
              "dtype: object"
            ]
          },
          "metadata": {},
          "execution_count": 97
        }
      ]
    },
    {
      "cell_type": "code",
      "source": [
        "arr2v  =  training_set.diagnosis.unique()\n",
        "arr2v"
      ],
      "metadata": {
        "id": "mTRZzcnKTO6a",
        "outputId": "089956d0-e1c5-47fc-d09d-fc29d3367a7f",
        "colab": {
          "base_uri": "https://localhost:8080/"
        }
      },
      "execution_count": null,
      "outputs": [
        {
          "output_type": "execute_result",
          "data": {
            "text/plain": [
              "array(['NV', 'MEL', 'BKL', 'DF', 'SCC', 'BCC', 'VASC', 'AK'], dtype=object)"
            ]
          },
          "metadata": {},
          "execution_count": 98
        }
      ]
    },
    {
      "cell_type": "code",
      "source": [
        "level_map3 =Convert(arr2v)\n",
        "level_map3"
      ],
      "metadata": {
        "id": "NBVcUpOqTS3p",
        "outputId": "204e8108-11b0-429c-bbce-92e8d713b18b",
        "colab": {
          "base_uri": "https://localhost:8080/"
        }
      },
      "execution_count": null,
      "outputs": [
        {
          "output_type": "execute_result",
          "data": {
            "text/plain": [
              "{'NV': 0, 'MEL': 1, 'BKL': 2, 'DF': 3, 'SCC': 4, 'BCC': 5, 'VASC': 6}"
            ]
          },
          "metadata": {},
          "execution_count": 99
        }
      ]
    },
    {
      "cell_type": "code",
      "source": [
        "training_set['diagnosis'] = training_set['diagnosis'].map(level_map3)"
      ],
      "metadata": {
        "id": "p2MEX523TVpx"
      },
      "execution_count": null,
      "outputs": []
    },
    {
      "cell_type": "code",
      "source": [
        "training_set.tail(5)"
      ],
      "metadata": {
        "id": "KAvFCSlKTyPy",
        "outputId": "e0429232-6677-4389-b281-f882df2cec3e",
        "colab": {
          "base_uri": "https://localhost:8080/",
          "height": 206
        }
      },
      "execution_count": null,
      "outputs": [
        {
          "output_type": "execute_result",
          "data": {
            "text/plain": [
              "       sex  age_approx  anatom_site_general_challenge  diagnosis  target  \\\n",
              "25326    1        85.0                            5.0        5.0       0   \n",
              "25327    0        65.0                            0.0        2.0       0   \n",
              "25328    0        70.0                            3.0        1.0       1   \n",
              "25329    1        55.0                            6.0        0.0       0   \n",
              "25330    0        50.0                            1.0        2.0       0   \n",
              "\n",
              "       tfrecord  \n",
              "25326        19  \n",
              "25327         7  \n",
              "25328         9  \n",
              "25329        15  \n",
              "25330        23  "
            ],
            "text/html": [
              "\n",
              "  <div id=\"df-6d649c84-8e98-4c19-9972-1f8334289428\">\n",
              "    <div class=\"colab-df-container\">\n",
              "      <div>\n",
              "<style scoped>\n",
              "    .dataframe tbody tr th:only-of-type {\n",
              "        vertical-align: middle;\n",
              "    }\n",
              "\n",
              "    .dataframe tbody tr th {\n",
              "        vertical-align: top;\n",
              "    }\n",
              "\n",
              "    .dataframe thead th {\n",
              "        text-align: right;\n",
              "    }\n",
              "</style>\n",
              "<table border=\"1\" class=\"dataframe\">\n",
              "  <thead>\n",
              "    <tr style=\"text-align: right;\">\n",
              "      <th></th>\n",
              "      <th>sex</th>\n",
              "      <th>age_approx</th>\n",
              "      <th>anatom_site_general_challenge</th>\n",
              "      <th>diagnosis</th>\n",
              "      <th>target</th>\n",
              "      <th>tfrecord</th>\n",
              "    </tr>\n",
              "  </thead>\n",
              "  <tbody>\n",
              "    <tr>\n",
              "      <th>25326</th>\n",
              "      <td>1</td>\n",
              "      <td>85.0</td>\n",
              "      <td>5.0</td>\n",
              "      <td>5.0</td>\n",
              "      <td>0</td>\n",
              "      <td>19</td>\n",
              "    </tr>\n",
              "    <tr>\n",
              "      <th>25327</th>\n",
              "      <td>0</td>\n",
              "      <td>65.0</td>\n",
              "      <td>0.0</td>\n",
              "      <td>2.0</td>\n",
              "      <td>0</td>\n",
              "      <td>7</td>\n",
              "    </tr>\n",
              "    <tr>\n",
              "      <th>25328</th>\n",
              "      <td>0</td>\n",
              "      <td>70.0</td>\n",
              "      <td>3.0</td>\n",
              "      <td>1.0</td>\n",
              "      <td>1</td>\n",
              "      <td>9</td>\n",
              "    </tr>\n",
              "    <tr>\n",
              "      <th>25329</th>\n",
              "      <td>1</td>\n",
              "      <td>55.0</td>\n",
              "      <td>6.0</td>\n",
              "      <td>0.0</td>\n",
              "      <td>0</td>\n",
              "      <td>15</td>\n",
              "    </tr>\n",
              "    <tr>\n",
              "      <th>25330</th>\n",
              "      <td>0</td>\n",
              "      <td>50.0</td>\n",
              "      <td>1.0</td>\n",
              "      <td>2.0</td>\n",
              "      <td>0</td>\n",
              "      <td>23</td>\n",
              "    </tr>\n",
              "  </tbody>\n",
              "</table>\n",
              "</div>\n",
              "      <button class=\"colab-df-convert\" onclick=\"convertToInteractive('df-6d649c84-8e98-4c19-9972-1f8334289428')\"\n",
              "              title=\"Convert this dataframe to an interactive table.\"\n",
              "              style=\"display:none;\">\n",
              "        \n",
              "  <svg xmlns=\"http://www.w3.org/2000/svg\" height=\"24px\"viewBox=\"0 0 24 24\"\n",
              "       width=\"24px\">\n",
              "    <path d=\"M0 0h24v24H0V0z\" fill=\"none\"/>\n",
              "    <path d=\"M18.56 5.44l.94 2.06.94-2.06 2.06-.94-2.06-.94-.94-2.06-.94 2.06-2.06.94zm-11 1L8.5 8.5l.94-2.06 2.06-.94-2.06-.94L8.5 2.5l-.94 2.06-2.06.94zm10 10l.94 2.06.94-2.06 2.06-.94-2.06-.94-.94-2.06-.94 2.06-2.06.94z\"/><path d=\"M17.41 7.96l-1.37-1.37c-.4-.4-.92-.59-1.43-.59-.52 0-1.04.2-1.43.59L10.3 9.45l-7.72 7.72c-.78.78-.78 2.05 0 2.83L4 21.41c.39.39.9.59 1.41.59.51 0 1.02-.2 1.41-.59l7.78-7.78 2.81-2.81c.8-.78.8-2.07 0-2.86zM5.41 20L4 18.59l7.72-7.72 1.47 1.35L5.41 20z\"/>\n",
              "  </svg>\n",
              "      </button>\n",
              "      \n",
              "  <style>\n",
              "    .colab-df-container {\n",
              "      display:flex;\n",
              "      flex-wrap:wrap;\n",
              "      gap: 12px;\n",
              "    }\n",
              "\n",
              "    .colab-df-convert {\n",
              "      background-color: #E8F0FE;\n",
              "      border: none;\n",
              "      border-radius: 50%;\n",
              "      cursor: pointer;\n",
              "      display: none;\n",
              "      fill: #1967D2;\n",
              "      height: 32px;\n",
              "      padding: 0 0 0 0;\n",
              "      width: 32px;\n",
              "    }\n",
              "\n",
              "    .colab-df-convert:hover {\n",
              "      background-color: #E2EBFA;\n",
              "      box-shadow: 0px 1px 2px rgba(60, 64, 67, 0.3), 0px 1px 3px 1px rgba(60, 64, 67, 0.15);\n",
              "      fill: #174EA6;\n",
              "    }\n",
              "\n",
              "    [theme=dark] .colab-df-convert {\n",
              "      background-color: #3B4455;\n",
              "      fill: #D2E3FC;\n",
              "    }\n",
              "\n",
              "    [theme=dark] .colab-df-convert:hover {\n",
              "      background-color: #434B5C;\n",
              "      box-shadow: 0px 1px 3px 1px rgba(0, 0, 0, 0.15);\n",
              "      filter: drop-shadow(0px 1px 2px rgba(0, 0, 0, 0.3));\n",
              "      fill: #FFFFFF;\n",
              "    }\n",
              "  </style>\n",
              "\n",
              "      <script>\n",
              "        const buttonEl =\n",
              "          document.querySelector('#df-6d649c84-8e98-4c19-9972-1f8334289428 button.colab-df-convert');\n",
              "        buttonEl.style.display =\n",
              "          google.colab.kernel.accessAllowed ? 'block' : 'none';\n",
              "\n",
              "        async function convertToInteractive(key) {\n",
              "          const element = document.querySelector('#df-6d649c84-8e98-4c19-9972-1f8334289428');\n",
              "          const dataTable =\n",
              "            await google.colab.kernel.invokeFunction('convertToInteractive',\n",
              "                                                     [key], {});\n",
              "          if (!dataTable) return;\n",
              "\n",
              "          const docLinkHtml = 'Like what you see? Visit the ' +\n",
              "            '<a target=\"_blank\" href=https://colab.research.google.com/notebooks/data_table.ipynb>data table notebook</a>'\n",
              "            + ' to learn more about interactive tables.';\n",
              "          element.innerHTML = '';\n",
              "          dataTable['output_type'] = 'display_data';\n",
              "          await google.colab.output.renderOutput(dataTable, element);\n",
              "          const docLink = document.createElement('div');\n",
              "          docLink.innerHTML = docLinkHtml;\n",
              "          element.appendChild(docLink);\n",
              "        }\n",
              "      </script>\n",
              "    </div>\n",
              "  </div>\n",
              "  "
            ]
          },
          "metadata": {},
          "execution_count": 101
        }
      ]
    },
    {
      "cell_type": "code",
      "source": [
        "training_set.age_approx.unique()"
      ],
      "metadata": {
        "id": "0aotwFkVTX1a",
        "outputId": "d879815c-efa6-458b-dde3-29882532f1b3",
        "colab": {
          "base_uri": "https://localhost:8080/"
        }
      },
      "execution_count": null,
      "outputs": [
        {
          "output_type": "execute_result",
          "data": {
            "text/plain": [
              "array([55., 30., 60., 80., 25., 35., 50., 45., 70., 40., 65., 20., 15.,\n",
              "       85.,  5., 10., 75.,  0.])"
            ]
          },
          "metadata": {},
          "execution_count": 102
        }
      ]
    },
    {
      "cell_type": "code",
      "source": [
        "#ищем вхождения NaN\n",
        "training_set.isna().sum() "
      ],
      "metadata": {
        "colab": {
          "base_uri": "https://localhost:8080/"
        },
        "id": "UnPuK5jpKA2L",
        "outputId": "11755447-e717-4bbb-efa5-521a1426caa9"
      },
      "execution_count": null,
      "outputs": [
        {
          "output_type": "execute_result",
          "data": {
            "text/plain": [
              "sex                                0\n",
              "age_approx                         0\n",
              "anatom_site_general_challenge     59\n",
              "diagnosis                        845\n",
              "target                             0\n",
              "tfrecord                           0\n",
              "dtype: int64"
            ]
          },
          "metadata": {},
          "execution_count": 103
        }
      ]
    },
    {
      "cell_type": "code",
      "source": [
        "training_set.isna().sum()"
      ],
      "metadata": {
        "id": "y6xljQUMUCVB",
        "outputId": "ac33a32f-6406-4501-cdea-551195bb04ee",
        "colab": {
          "base_uri": "https://localhost:8080/"
        }
      },
      "execution_count": null,
      "outputs": [
        {
          "output_type": "execute_result",
          "data": {
            "text/plain": [
              "sex                                0\n",
              "age_approx                         0\n",
              "anatom_site_general_challenge     59\n",
              "diagnosis                        845\n",
              "target                             0\n",
              "tfrecord                           0\n",
              "dtype: int64"
            ]
          },
          "metadata": {},
          "execution_count": 104
        }
      ]
    },
    {
      "cell_type": "code",
      "source": [
        "training_set = training_set.dropna() "
      ],
      "metadata": {
        "id": "fM4CFYxiKTbz"
      },
      "execution_count": null,
      "outputs": []
    },
    {
      "cell_type": "code",
      "source": [
        "training_set.tail(5)"
      ],
      "metadata": {
        "colab": {
          "base_uri": "https://localhost:8080/",
          "height": 206
        },
        "id": "SzmYo71zKWmU",
        "outputId": "baca6d05-22c4-46cf-e7c3-a51a936be43e"
      },
      "execution_count": null,
      "outputs": [
        {
          "output_type": "execute_result",
          "data": {
            "text/plain": [
              "       sex  age_approx  anatom_site_general_challenge  diagnosis  target  \\\n",
              "25326    1        85.0                            5.0        5.0       0   \n",
              "25327    0        65.0                            0.0        2.0       0   \n",
              "25328    0        70.0                            3.0        1.0       1   \n",
              "25329    1        55.0                            6.0        0.0       0   \n",
              "25330    0        50.0                            1.0        2.0       0   \n",
              "\n",
              "       tfrecord  \n",
              "25326        19  \n",
              "25327         7  \n",
              "25328         9  \n",
              "25329        15  \n",
              "25330        23  "
            ],
            "text/html": [
              "\n",
              "  <div id=\"df-17e72845-6870-429d-931b-87bc33d59619\">\n",
              "    <div class=\"colab-df-container\">\n",
              "      <div>\n",
              "<style scoped>\n",
              "    .dataframe tbody tr th:only-of-type {\n",
              "        vertical-align: middle;\n",
              "    }\n",
              "\n",
              "    .dataframe tbody tr th {\n",
              "        vertical-align: top;\n",
              "    }\n",
              "\n",
              "    .dataframe thead th {\n",
              "        text-align: right;\n",
              "    }\n",
              "</style>\n",
              "<table border=\"1\" class=\"dataframe\">\n",
              "  <thead>\n",
              "    <tr style=\"text-align: right;\">\n",
              "      <th></th>\n",
              "      <th>sex</th>\n",
              "      <th>age_approx</th>\n",
              "      <th>anatom_site_general_challenge</th>\n",
              "      <th>diagnosis</th>\n",
              "      <th>target</th>\n",
              "      <th>tfrecord</th>\n",
              "    </tr>\n",
              "  </thead>\n",
              "  <tbody>\n",
              "    <tr>\n",
              "      <th>25326</th>\n",
              "      <td>1</td>\n",
              "      <td>85.0</td>\n",
              "      <td>5.0</td>\n",
              "      <td>5.0</td>\n",
              "      <td>0</td>\n",
              "      <td>19</td>\n",
              "    </tr>\n",
              "    <tr>\n",
              "      <th>25327</th>\n",
              "      <td>0</td>\n",
              "      <td>65.0</td>\n",
              "      <td>0.0</td>\n",
              "      <td>2.0</td>\n",
              "      <td>0</td>\n",
              "      <td>7</td>\n",
              "    </tr>\n",
              "    <tr>\n",
              "      <th>25328</th>\n",
              "      <td>0</td>\n",
              "      <td>70.0</td>\n",
              "      <td>3.0</td>\n",
              "      <td>1.0</td>\n",
              "      <td>1</td>\n",
              "      <td>9</td>\n",
              "    </tr>\n",
              "    <tr>\n",
              "      <th>25329</th>\n",
              "      <td>1</td>\n",
              "      <td>55.0</td>\n",
              "      <td>6.0</td>\n",
              "      <td>0.0</td>\n",
              "      <td>0</td>\n",
              "      <td>15</td>\n",
              "    </tr>\n",
              "    <tr>\n",
              "      <th>25330</th>\n",
              "      <td>0</td>\n",
              "      <td>50.0</td>\n",
              "      <td>1.0</td>\n",
              "      <td>2.0</td>\n",
              "      <td>0</td>\n",
              "      <td>23</td>\n",
              "    </tr>\n",
              "  </tbody>\n",
              "</table>\n",
              "</div>\n",
              "      <button class=\"colab-df-convert\" onclick=\"convertToInteractive('df-17e72845-6870-429d-931b-87bc33d59619')\"\n",
              "              title=\"Convert this dataframe to an interactive table.\"\n",
              "              style=\"display:none;\">\n",
              "        \n",
              "  <svg xmlns=\"http://www.w3.org/2000/svg\" height=\"24px\"viewBox=\"0 0 24 24\"\n",
              "       width=\"24px\">\n",
              "    <path d=\"M0 0h24v24H0V0z\" fill=\"none\"/>\n",
              "    <path d=\"M18.56 5.44l.94 2.06.94-2.06 2.06-.94-2.06-.94-.94-2.06-.94 2.06-2.06.94zm-11 1L8.5 8.5l.94-2.06 2.06-.94-2.06-.94L8.5 2.5l-.94 2.06-2.06.94zm10 10l.94 2.06.94-2.06 2.06-.94-2.06-.94-.94-2.06-.94 2.06-2.06.94z\"/><path d=\"M17.41 7.96l-1.37-1.37c-.4-.4-.92-.59-1.43-.59-.52 0-1.04.2-1.43.59L10.3 9.45l-7.72 7.72c-.78.78-.78 2.05 0 2.83L4 21.41c.39.39.9.59 1.41.59.51 0 1.02-.2 1.41-.59l7.78-7.78 2.81-2.81c.8-.78.8-2.07 0-2.86zM5.41 20L4 18.59l7.72-7.72 1.47 1.35L5.41 20z\"/>\n",
              "  </svg>\n",
              "      </button>\n",
              "      \n",
              "  <style>\n",
              "    .colab-df-container {\n",
              "      display:flex;\n",
              "      flex-wrap:wrap;\n",
              "      gap: 12px;\n",
              "    }\n",
              "\n",
              "    .colab-df-convert {\n",
              "      background-color: #E8F0FE;\n",
              "      border: none;\n",
              "      border-radius: 50%;\n",
              "      cursor: pointer;\n",
              "      display: none;\n",
              "      fill: #1967D2;\n",
              "      height: 32px;\n",
              "      padding: 0 0 0 0;\n",
              "      width: 32px;\n",
              "    }\n",
              "\n",
              "    .colab-df-convert:hover {\n",
              "      background-color: #E2EBFA;\n",
              "      box-shadow: 0px 1px 2px rgba(60, 64, 67, 0.3), 0px 1px 3px 1px rgba(60, 64, 67, 0.15);\n",
              "      fill: #174EA6;\n",
              "    }\n",
              "\n",
              "    [theme=dark] .colab-df-convert {\n",
              "      background-color: #3B4455;\n",
              "      fill: #D2E3FC;\n",
              "    }\n",
              "\n",
              "    [theme=dark] .colab-df-convert:hover {\n",
              "      background-color: #434B5C;\n",
              "      box-shadow: 0px 1px 3px 1px rgba(0, 0, 0, 0.15);\n",
              "      filter: drop-shadow(0px 1px 2px rgba(0, 0, 0, 0.3));\n",
              "      fill: #FFFFFF;\n",
              "    }\n",
              "  </style>\n",
              "\n",
              "      <script>\n",
              "        const buttonEl =\n",
              "          document.querySelector('#df-17e72845-6870-429d-931b-87bc33d59619 button.colab-df-convert');\n",
              "        buttonEl.style.display =\n",
              "          google.colab.kernel.accessAllowed ? 'block' : 'none';\n",
              "\n",
              "        async function convertToInteractive(key) {\n",
              "          const element = document.querySelector('#df-17e72845-6870-429d-931b-87bc33d59619');\n",
              "          const dataTable =\n",
              "            await google.colab.kernel.invokeFunction('convertToInteractive',\n",
              "                                                     [key], {});\n",
              "          if (!dataTable) return;\n",
              "\n",
              "          const docLinkHtml = 'Like what you see? Visit the ' +\n",
              "            '<a target=\"_blank\" href=https://colab.research.google.com/notebooks/data_table.ipynb>data table notebook</a>'\n",
              "            + ' to learn more about interactive tables.';\n",
              "          element.innerHTML = '';\n",
              "          dataTable['output_type'] = 'display_data';\n",
              "          await google.colab.output.renderOutput(dataTable, element);\n",
              "          const docLink = document.createElement('div');\n",
              "          docLink.innerHTML = docLinkHtml;\n",
              "          element.appendChild(docLink);\n",
              "        }\n",
              "      </script>\n",
              "    </div>\n",
              "  </div>\n",
              "  "
            ]
          },
          "metadata": {},
          "execution_count": 106
        }
      ]
    },
    {
      "cell_type": "code",
      "source": [
        "training_set.isna().sum() "
      ],
      "metadata": {
        "colab": {
          "base_uri": "https://localhost:8080/"
        },
        "id": "6W_SPdjNKcLq",
        "outputId": "5e861c78-6194-42b3-f474-081944a97df0"
      },
      "execution_count": null,
      "outputs": [
        {
          "output_type": "execute_result",
          "data": {
            "text/plain": [
              "sex                              0\n",
              "age_approx                       0\n",
              "anatom_site_general_challenge    0\n",
              "diagnosis                        0\n",
              "target                           0\n",
              "tfrecord                         0\n",
              "dtype: int64"
            ]
          },
          "metadata": {},
          "execution_count": 107
        }
      ]
    },
    {
      "cell_type": "code",
      "source": [
        "# выдергивам в отдельный датасет колнку с нащим результатом диагноза\n",
        "target = training_set.pop('target')"
      ],
      "metadata": {
        "id": "E7I5rVBFQFOL"
      },
      "execution_count": null,
      "outputs": []
    },
    {
      "cell_type": "code",
      "source": [
        "#нормализуем данные\n",
        "\n",
        "from sklearn import preprocessing\n",
        "\n",
        "training_set = preprocessing.normalize(training_set)"
      ],
      "metadata": {
        "id": "1Api80JmDEYY"
      },
      "execution_count": null,
      "outputs": []
    },
    {
      "cell_type": "code",
      "source": [
        "training_set"
      ],
      "metadata": {
        "colab": {
          "base_uri": "https://localhost:8080/"
        },
        "id": "XYFBgNL1LBdT",
        "outputId": "b855d3c9-9afd-4aac-f9f0-b97b885a9963"
      },
      "execution_count": null,
      "outputs": [
        {
          "output_type": "execute_result",
          "data": {
            "text/plain": [
              "array([[0.01813094, 0.99720187, 0.        , 0.        , 0.07252377],\n",
              "       [0.02857143, 0.85714286, 0.        , 0.        , 0.51428571],\n",
              "       [0.01665973, 0.99958359, 0.01665973, 0.01665973, 0.        ],\n",
              "       ...,\n",
              "       [0.        , 0.99084165, 0.04246464, 0.01415488, 0.12739393],\n",
              "       [0.01744216, 0.95931854, 0.10465293, 0.        , 0.26163233],\n",
              "       [0.        , 0.90774155, 0.01815483, 0.03630966, 0.41756111]])"
            ]
          },
          "metadata": {},
          "execution_count": 110
        }
      ]
    },
    {
      "cell_type": "code",
      "source": [
        "len(training_set)"
      ],
      "metadata": {
        "colab": {
          "base_uri": "https://localhost:8080/"
        },
        "id": "vsI-0SIXOytd",
        "outputId": "1d85566e-b09b-4d14-f593-3077ad27ddc3"
      },
      "execution_count": null,
      "outputs": [
        {
          "output_type": "execute_result",
          "data": {
            "text/plain": [
              "21576"
            ]
          },
          "metadata": {},
          "execution_count": 111
        }
      ]
    },
    {
      "cell_type": "code",
      "source": [
        "len(target)"
      ],
      "metadata": {
        "colab": {
          "base_uri": "https://localhost:8080/"
        },
        "id": "lZXHc7j8O9EO",
        "outputId": "4b36cc27-3d79-4bf1-9f29-652cc0411077"
      },
      "execution_count": null,
      "outputs": [
        {
          "output_type": "execute_result",
          "data": {
            "text/plain": [
              "21576"
            ]
          },
          "metadata": {},
          "execution_count": 112
        }
      ]
    },
    {
      "cell_type": "code",
      "source": [
        "target.tail(5)"
      ],
      "metadata": {
        "colab": {
          "base_uri": "https://localhost:8080/"
        },
        "id": "3vaEgZL8LLXp",
        "outputId": "fd6e0b47-d5da-4204-9fa6-1c21f32a3ca2"
      },
      "execution_count": null,
      "outputs": [
        {
          "output_type": "execute_result",
          "data": {
            "text/plain": [
              "25326    0\n",
              "25327    0\n",
              "25328    1\n",
              "25329    0\n",
              "25330    0\n",
              "Name: target, dtype: int64"
            ]
          },
          "metadata": {},
          "execution_count": 113
        }
      ]
    },
    {
      "cell_type": "code",
      "source": [
        "from sklearn.model_selection import train_test_split\n",
        "X_train, X_test, y_train, y_test = train_test_split(training_set, target, test_size=0.2, random_state=True)"
      ],
      "metadata": {
        "id": "riKLDsq3B8RA"
      },
      "execution_count": null,
      "outputs": []
    },
    {
      "cell_type": "code",
      "source": [
        "from keras.models import Sequential\n",
        "from keras.layers import Dense\n",
        "classifier = Sequential() # Инициализация НС\n",
        "classifier.add(Dense(units = 16, activation = 'relu', input_dim = 5))#6 - потому что на входе всего 6 чисел\n",
        "classifier.add(Dense(units = 8, activation = 'relu'))\n",
        "classifier.add(Dense(units = 6, activation = 'relu'))\n",
        "classifier.add(Dense(units = 1, activation = 'sigmoid'))"
      ],
      "metadata": {
        "id": "h7BjDCqNCDHp"
      },
      "execution_count": null,
      "outputs": []
    },
    {
      "cell_type": "code",
      "source": [
        "classifier.compile(optimizer = 'rmsprop', loss = 'binary_crossentropy', metrics=['accuracy'])"
      ],
      "metadata": {
        "id": "tKFoc6KuCOUK"
      },
      "execution_count": null,
      "outputs": []
    },
    {
      "cell_type": "code",
      "source": [
        "monitor1 = classifier.fit(X_train, y_train, batch_size = 30, epochs = 100)"
      ],
      "metadata": {
        "colab": {
          "base_uri": "https://localhost:8080/"
        },
        "id": "YzFqm6awCRW5",
        "outputId": "e7777146-029b-4c63-dae4-19c25a39511a"
      },
      "execution_count": null,
      "outputs": [
        {
          "output_type": "stream",
          "name": "stdout",
          "text": [
            "Epoch 1/100\n",
            "576/576 [==============================] - 6s 3ms/step - loss: 0.5044 - accuracy: 0.8027\n",
            "Epoch 2/100\n",
            "576/576 [==============================] - 2s 3ms/step - loss: 0.4904 - accuracy: 0.8027\n",
            "Epoch 3/100\n",
            "576/576 [==============================] - 3s 4ms/step - loss: 0.4884 - accuracy: 0.8027\n",
            "Epoch 4/100\n",
            "576/576 [==============================] - 2s 3ms/step - loss: 0.4859 - accuracy: 0.8027\n",
            "Epoch 5/100\n",
            "576/576 [==============================] - 2s 3ms/step - loss: 0.4834 - accuracy: 0.8027\n",
            "Epoch 6/100\n",
            "576/576 [==============================] - 2s 3ms/step - loss: 0.4786 - accuracy: 0.8027\n",
            "Epoch 7/100\n",
            "576/576 [==============================] - 2s 3ms/step - loss: 0.4685 - accuracy: 0.8027\n",
            "Epoch 8/100\n",
            "576/576 [==============================] - 2s 3ms/step - loss: 0.4543 - accuracy: 0.8027\n",
            "Epoch 9/100\n",
            "576/576 [==============================] - 3s 5ms/step - loss: 0.4381 - accuracy: 0.8027\n",
            "Epoch 10/100\n",
            "576/576 [==============================] - 2s 3ms/step - loss: 0.4242 - accuracy: 0.8027\n",
            "Epoch 11/100\n",
            "576/576 [==============================] - 2s 3ms/step - loss: 0.4102 - accuracy: 0.8027\n",
            "Epoch 12/100\n",
            "576/576 [==============================] - 2s 3ms/step - loss: 0.3732 - accuracy: 0.8027\n",
            "Epoch 13/100\n",
            "576/576 [==============================] - 2s 3ms/step - loss: 0.2901 - accuracy: 0.8505\n",
            "Epoch 14/100\n",
            "576/576 [==============================] - 2s 4ms/step - loss: 0.1813 - accuracy: 0.9521\n",
            "Epoch 15/100\n",
            "576/576 [==============================] - 3s 4ms/step - loss: 0.1249 - accuracy: 0.9669\n",
            "Epoch 16/100\n",
            "576/576 [==============================] - 2s 3ms/step - loss: 0.1040 - accuracy: 0.9692\n",
            "Epoch 17/100\n",
            "576/576 [==============================] - 2s 3ms/step - loss: 0.0956 - accuracy: 0.9699\n",
            "Epoch 18/100\n",
            "576/576 [==============================] - 2s 3ms/step - loss: 0.0898 - accuracy: 0.9718\n",
            "Epoch 19/100\n",
            "576/576 [==============================] - 2s 3ms/step - loss: 0.0886 - accuracy: 0.9713\n",
            "Epoch 20/100\n",
            "576/576 [==============================] - 2s 3ms/step - loss: 0.0841 - accuracy: 0.9719\n",
            "Epoch 21/100\n",
            "576/576 [==============================] - 2s 4ms/step - loss: 0.0841 - accuracy: 0.9721\n",
            "Epoch 22/100\n",
            "576/576 [==============================] - 2s 4ms/step - loss: 0.0838 - accuracy: 0.9711\n",
            "Epoch 23/100\n",
            "576/576 [==============================] - 2s 3ms/step - loss: 0.0810 - accuracy: 0.9716\n",
            "Epoch 24/100\n",
            "576/576 [==============================] - 2s 4ms/step - loss: 0.0773 - accuracy: 0.9733\n",
            "Epoch 25/100\n",
            "576/576 [==============================] - 2s 4ms/step - loss: 0.0792 - accuracy: 0.9721\n",
            "Epoch 26/100\n",
            "576/576 [==============================] - 2s 3ms/step - loss: 0.0783 - accuracy: 0.9729\n",
            "Epoch 27/100\n",
            "576/576 [==============================] - 3s 5ms/step - loss: 0.0760 - accuracy: 0.9728\n",
            "Epoch 28/100\n",
            "576/576 [==============================] - 2s 3ms/step - loss: 0.0757 - accuracy: 0.9748\n",
            "Epoch 29/100\n",
            "576/576 [==============================] - 2s 3ms/step - loss: 0.0754 - accuracy: 0.9737\n",
            "Epoch 30/100\n",
            "576/576 [==============================] - 2s 3ms/step - loss: 0.0745 - accuracy: 0.9750\n",
            "Epoch 31/100\n",
            "576/576 [==============================] - 2s 3ms/step - loss: 0.0745 - accuracy: 0.9732\n",
            "Epoch 32/100\n",
            "576/576 [==============================] - 2s 3ms/step - loss: 0.0742 - accuracy: 0.9733\n",
            "Epoch 33/100\n",
            "576/576 [==============================] - 3s 4ms/step - loss: 0.0735 - accuracy: 0.9738\n",
            "Epoch 34/100\n",
            "576/576 [==============================] - 2s 3ms/step - loss: 0.0730 - accuracy: 0.9746\n",
            "Epoch 35/100\n",
            "576/576 [==============================] - 2s 3ms/step - loss: 0.0720 - accuracy: 0.9746\n",
            "Epoch 36/100\n",
            "576/576 [==============================] - 2s 3ms/step - loss: 0.0701 - accuracy: 0.9755\n",
            "Epoch 37/100\n",
            "576/576 [==============================] - 2s 3ms/step - loss: 0.0689 - accuracy: 0.9748\n",
            "Epoch 38/100\n",
            "576/576 [==============================] - 2s 3ms/step - loss: 0.0689 - accuracy: 0.9751\n",
            "Epoch 39/100\n",
            "576/576 [==============================] - 2s 4ms/step - loss: 0.0687 - accuracy: 0.9754\n",
            "Epoch 40/100\n",
            "576/576 [==============================] - 2s 4ms/step - loss: 0.0681 - accuracy: 0.9751\n",
            "Epoch 41/100\n",
            "576/576 [==============================] - 2s 3ms/step - loss: 0.0663 - accuracy: 0.9758\n",
            "Epoch 42/100\n",
            "576/576 [==============================] - 2s 3ms/step - loss: 0.0641 - accuracy: 0.9753\n",
            "Epoch 43/100\n",
            "576/576 [==============================] - 2s 3ms/step - loss: 0.0640 - accuracy: 0.9767\n",
            "Epoch 44/100\n",
            "576/576 [==============================] - 2s 3ms/step - loss: 0.0632 - accuracy: 0.9761\n",
            "Epoch 45/100\n",
            "576/576 [==============================] - 2s 4ms/step - loss: 0.0618 - accuracy: 0.9765\n",
            "Epoch 46/100\n",
            "576/576 [==============================] - 2s 4ms/step - loss: 0.0602 - accuracy: 0.9778\n",
            "Epoch 47/100\n",
            "576/576 [==============================] - 2s 3ms/step - loss: 0.0585 - accuracy: 0.9770\n",
            "Epoch 48/100\n",
            "576/576 [==============================] - 2s 3ms/step - loss: 0.0570 - accuracy: 0.9780\n",
            "Epoch 49/100\n",
            "576/576 [==============================] - 2s 3ms/step - loss: 0.0573 - accuracy: 0.9774\n",
            "Epoch 50/100\n",
            "576/576 [==============================] - 2s 3ms/step - loss: 0.0563 - accuracy: 0.9779\n",
            "Epoch 51/100\n",
            "576/576 [==============================] - 2s 4ms/step - loss: 0.0563 - accuracy: 0.9785\n",
            "Epoch 52/100\n",
            "576/576 [==============================] - 2s 4ms/step - loss: 0.0553 - accuracy: 0.9779\n",
            "Epoch 53/100\n",
            "576/576 [==============================] - 2s 3ms/step - loss: 0.0553 - accuracy: 0.9787\n",
            "Epoch 54/100\n",
            "576/576 [==============================] - 2s 3ms/step - loss: 0.0548 - accuracy: 0.9791\n",
            "Epoch 55/100\n",
            "576/576 [==============================] - 3s 4ms/step - loss: 0.0543 - accuracy: 0.9786\n",
            "Epoch 56/100\n",
            "576/576 [==============================] - 2s 3ms/step - loss: 0.0542 - accuracy: 0.9791\n",
            "Epoch 57/100\n",
            "576/576 [==============================] - 2s 4ms/step - loss: 0.0541 - accuracy: 0.9786\n",
            "Epoch 58/100\n",
            "576/576 [==============================] - 2s 4ms/step - loss: 0.0542 - accuracy: 0.9793\n",
            "Epoch 59/100\n",
            "576/576 [==============================] - 2s 3ms/step - loss: 0.0534 - accuracy: 0.9790\n",
            "Epoch 60/100\n",
            "576/576 [==============================] - 2s 3ms/step - loss: 0.0539 - accuracy: 0.9791\n",
            "Epoch 61/100\n",
            "576/576 [==============================] - 2s 3ms/step - loss: 0.0544 - accuracy: 0.9790\n",
            "Epoch 62/100\n",
            "576/576 [==============================] - 2s 3ms/step - loss: 0.0543 - accuracy: 0.9789\n",
            "Epoch 63/100\n",
            "576/576 [==============================] - 2s 4ms/step - loss: 0.0541 - accuracy: 0.9789\n",
            "Epoch 64/100\n",
            "576/576 [==============================] - 2s 4ms/step - loss: 0.0531 - accuracy: 0.9801\n",
            "Epoch 65/100\n",
            "576/576 [==============================] - 2s 3ms/step - loss: 0.0538 - accuracy: 0.9788\n",
            "Epoch 66/100\n",
            "576/576 [==============================] - 2s 3ms/step - loss: 0.0537 - accuracy: 0.9798\n",
            "Epoch 67/100\n",
            "576/576 [==============================] - 2s 3ms/step - loss: 0.0542 - accuracy: 0.9786\n",
            "Epoch 68/100\n",
            "576/576 [==============================] - 2s 3ms/step - loss: 0.0523 - accuracy: 0.9797\n",
            "Epoch 69/100\n",
            "576/576 [==============================] - 2s 4ms/step - loss: 0.0536 - accuracy: 0.9795\n",
            "Epoch 70/100\n",
            "576/576 [==============================] - 2s 4ms/step - loss: 0.0529 - accuracy: 0.9801\n",
            "Epoch 71/100\n",
            "576/576 [==============================] - 2s 3ms/step - loss: 0.0525 - accuracy: 0.9803\n",
            "Epoch 72/100\n",
            "576/576 [==============================] - 2s 3ms/step - loss: 0.0532 - accuracy: 0.9798\n",
            "Epoch 73/100\n",
            "576/576 [==============================] - 2s 3ms/step - loss: 0.0523 - accuracy: 0.9804\n",
            "Epoch 74/100\n",
            "576/576 [==============================] - 2s 3ms/step - loss: 0.0511 - accuracy: 0.9801\n",
            "Epoch 75/100\n",
            "576/576 [==============================] - 2s 4ms/step - loss: 0.0506 - accuracy: 0.9800\n",
            "Epoch 76/100\n",
            "576/576 [==============================] - 2s 4ms/step - loss: 0.0511 - accuracy: 0.9804\n",
            "Epoch 77/100\n",
            "576/576 [==============================] - 2s 3ms/step - loss: 0.0504 - accuracy: 0.9816\n",
            "Epoch 78/100\n",
            "576/576 [==============================] - 2s 3ms/step - loss: 0.0499 - accuracy: 0.9813\n",
            "Epoch 79/100\n",
            "576/576 [==============================] - 2s 3ms/step - loss: 0.0500 - accuracy: 0.9817\n",
            "Epoch 80/100\n",
            "576/576 [==============================] - 2s 3ms/step - loss: 0.0503 - accuracy: 0.9819\n",
            "Epoch 81/100\n",
            "576/576 [==============================] - 2s 4ms/step - loss: 0.0490 - accuracy: 0.9817\n",
            "Epoch 82/100\n",
            "576/576 [==============================] - 2s 4ms/step - loss: 0.0491 - accuracy: 0.9817\n",
            "Epoch 83/100\n",
            "576/576 [==============================] - 2s 3ms/step - loss: 0.0495 - accuracy: 0.9814\n",
            "Epoch 84/100\n",
            "576/576 [==============================] - 2s 3ms/step - loss: 0.0492 - accuracy: 0.9816\n",
            "Epoch 85/100\n",
            "576/576 [==============================] - 2s 4ms/step - loss: 0.0471 - accuracy: 0.9824\n",
            "Epoch 86/100\n",
            "576/576 [==============================] - 2s 4ms/step - loss: 0.0489 - accuracy: 0.9819\n",
            "Epoch 87/100\n",
            "576/576 [==============================] - 2s 4ms/step - loss: 0.0485 - accuracy: 0.9822\n",
            "Epoch 88/100\n",
            "576/576 [==============================] - 2s 4ms/step - loss: 0.0475 - accuracy: 0.9827\n",
            "Epoch 89/100\n",
            "576/576 [==============================] - 2s 3ms/step - loss: 0.0478 - accuracy: 0.9835\n",
            "Epoch 90/100\n",
            "576/576 [==============================] - 2s 3ms/step - loss: 0.0482 - accuracy: 0.9832\n",
            "Epoch 91/100\n",
            "576/576 [==============================] - 2s 3ms/step - loss: 0.0483 - accuracy: 0.9841\n",
            "Epoch 92/100\n",
            "576/576 [==============================] - 2s 3ms/step - loss: 0.0457 - accuracy: 0.9842\n",
            "Epoch 93/100\n",
            "576/576 [==============================] - 2s 4ms/step - loss: 0.0473 - accuracy: 0.9842\n",
            "Epoch 94/100\n",
            "576/576 [==============================] - 2s 4ms/step - loss: 0.0458 - accuracy: 0.9849\n",
            "Epoch 95/100\n",
            "576/576 [==============================] - 2s 3ms/step - loss: 0.0459 - accuracy: 0.9856\n",
            "Epoch 96/100\n",
            "576/576 [==============================] - 2s 3ms/step - loss: 0.0454 - accuracy: 0.9852\n",
            "Epoch 97/100\n",
            "576/576 [==============================] - 2s 3ms/step - loss: 0.0445 - accuracy: 0.9852\n",
            "Epoch 98/100\n",
            "576/576 [==============================] - 2s 3ms/step - loss: 0.0449 - accuracy: 0.9867\n",
            "Epoch 99/100\n",
            "576/576 [==============================] - 2s 4ms/step - loss: 0.0433 - accuracy: 0.9861\n",
            "Epoch 100/100\n",
            "576/576 [==============================] - 2s 4ms/step - loss: 0.0432 - accuracy: 0.9866\n"
          ]
        }
      ]
    },
    {
      "cell_type": "code",
      "source": [
        "history = monitor1"
      ],
      "metadata": {
        "id": "9iKA-ixiVsvp"
      },
      "execution_count": null,
      "outputs": []
    },
    {
      "cell_type": "code",
      "source": [
        "history.history['accuracy'].insert(0, 0.1)"
      ],
      "metadata": {
        "id": "iANY281vVk_B"
      },
      "execution_count": null,
      "outputs": []
    },
    {
      "cell_type": "code",
      "source": [
        "history.history['loss'].insert(0, 1.0)"
      ],
      "metadata": {
        "id": "wpIfOq7MVnVi"
      },
      "execution_count": null,
      "outputs": []
    },
    {
      "cell_type": "code",
      "source": [
        "import matplotlib.pyplot as plt\n",
        "plt.plot(history.history['accuracy'])\n",
        "plt.plot(history.history['loss'])\n",
        "plt.title('model education')\n",
        "plt.ylabel('value')\n",
        "plt.xlabel('epoch')\n",
        "plt.legend(['accuracy', 'loss'], loc='center right')\n",
        "plt.show()"
      ],
      "metadata": {
        "id": "DCS03RF5Vphp",
        "outputId": "9458e65c-a5e7-4f30-8b6e-ff93e105726f",
        "colab": {
          "base_uri": "https://localhost:8080/",
          "height": 295
        }
      },
      "execution_count": null,
      "outputs": [
        {
          "output_type": "display_data",
          "data": {
            "text/plain": [
              "<Figure size 432x288 with 1 Axes>"
            ],
            "image/png": "[encoded data removed]"
          },
          "metadata": {
            "needs_background": "light"
          }
        }
      ]
    },
    {
      "cell_type": "code",
      "source": [
        "Y_pred = classifier.predict(X_test) # подаём на вход обученной НС тестовый набор данных\n",
        "Y_pred = [ 1 if y>=0.5 else 0 for y in Y_pred ]"
      ],
      "metadata": {
        "id": "HdD0-_pEQyyX",
        "outputId": "ad670a15-b1ca-4dec-ff6c-5eddc71038d7",
        "colab": {
          "base_uri": "https://localhost:8080/"
        }
      },
      "execution_count": null,
      "outputs": [
        {
          "output_type": "stream",
          "name": "stdout",
          "text": [
            "135/135 [==============================] - 0s 1ms/step\n"
          ]
        }
      ]
    },
    {
      "cell_type": "code",
      "source": [
        "#у тест превратили в массив из цифр\n",
        "y_test1 = y_test.to_numpy()"
      ],
      "metadata": {
        "id": "NYTLPMNMXQOZ"
      },
      "execution_count": null,
      "outputs": []
    },
    {
      "cell_type": "code",
      "source": [
        "total = 0\n",
        "correct = 0\n",
        "wrong = 0\n",
        "for i in range(len(Y_pred)):\n",
        " total=total+1\n",
        " if(y_test1[i] == Y_pred[i]):\n",
        "  correct=correct+1\n",
        " else:\n",
        "  wrong=wrong+1\n",
        "\n",
        "print(\"Total \" + str(total))\n",
        "print(\"Correct \" + str(correct))\n",
        "print(\"Wrong \" + str(wrong))"
      ],
      "metadata": {
        "id": "NSynGLj0Q8Yn",
        "outputId": "6541472e-d661-437c-fb4c-280caa190439",
        "colab": {
          "base_uri": "https://localhost:8080/"
        }
      },
      "execution_count": null,
      "outputs": [
        {
          "output_type": "stream",
          "name": "stdout",
          "text": [
            "Total 4316\n",
            "Correct 4269\n",
            "Wrong 47\n"
          ]
        }
      ]
    }
  ]
}