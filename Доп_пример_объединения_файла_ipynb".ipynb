{
  "nbformat": 4,
  "nbformat_minor": 0,
  "metadata": {
    "colab": {
      "provenance": [],
      "include_colab_link": true
    },
    "kernelspec": {
      "name": "python3",
      "display_name": "Python 3"
    },
    "language_info": {
      "name": "python"
    },
    "accelerator": "GPU",
    "gpuClass": "standard"
  },
  "cells": [
    {
      "cell_type": "markdown",
      "metadata": {
        "id": "view-in-github",
        "colab_type": "text"
      },
      "source": [
        "<a href=\"https://colab.research.google.com/github/kulakovand/colabr_epo/blob/main/%D0%94%D0%BE%D0%BF_%D0%BF%D1%80%D0%B8%D0%BC%D0%B5%D1%80_%D0%BE%D0%B1%D1%8A%D0%B5%D0%B4%D0%B8%D0%BD%D0%B5%D0%BD%D0%B8%D1%8F_%D1%84%D0%B0%D0%B9%D0%BB%D0%B0_ipynb%22.ipynb\" target=\"_parent\"><img src=\"https://colab.research.google.com/assets/colab-badge.svg\" alt=\"Open In Colab\"/></a>"
      ]
    },
    {
      "cell_type": "code",
      "execution_count": 2,
      "metadata": {
        "colab": {
          "base_uri": "https://localhost:8080/",
          "height": 180
        },
        "id": "1Q7-MD8jyrbp",
        "outputId": "bf7ae70f-664d-49a7-ba2e-6b039f59ce13"
      },
      "outputs": [
        {
          "output_type": "display_data",
          "data": {
            "text/plain": [
              "<IPython.core.display.HTML object>"
            ],
            "text/html": [
              "\n",
              "     <input type=\"file\" id=\"files-9e793640-1de9-4367-9a0e-472f8e92d7a2\" name=\"files[]\" multiple disabled\n",
              "        style=\"border:none\" />\n",
              "     <output id=\"result-9e793640-1de9-4367-9a0e-472f8e92d7a2\">\n",
              "      Upload widget is only available when the cell has been executed in the\n",
              "      current browser session. Please rerun this cell to enable.\n",
              "      </output>\n",
              "      <script>// Copyright 2017 Google LLC\n",
              "//\n",
              "// Licensed under the Apache License, Version 2.0 (the \"License\");\n",
              "// you may not use this file except in compliance with the License.\n",
              "// You may obtain a copy of the License at\n",
              "//\n",
              "//      http://www.apache.org/licenses/LICENSE-2.0\n",
              "//\n",
              "// Unless required by applicable law or agreed to in writing, software\n",
              "// distributed under the License is distributed on an \"AS IS\" BASIS,\n",
              "// WITHOUT WARRANTIES OR CONDITIONS OF ANY KIND, either express or implied.\n",
              "// See the License for the specific language governing permissions and\n",
              "// limitations under the License.\n",
              "\n",
              "/**\n",
              " * @fileoverview Helpers for google.colab Python module.\n",
              " */\n",
              "(function(scope) {\n",
              "function span(text, styleAttributes = {}) {\n",
              "  const element = document.createElement('span');\n",
              "  element.textContent = text;\n",
              "  for (const key of Object.keys(styleAttributes)) {\n",
              "    element.style[key] = styleAttributes[key];\n",
              "  }\n",
              "  return element;\n",
              "}\n",
              "\n",
              "// Max number of bytes which will be uploaded at a time.\n",
              "const MAX_PAYLOAD_SIZE = 100 * 1024;\n",
              "\n",
              "function _uploadFiles(inputId, outputId) {\n",
              "  const steps = uploadFilesStep(inputId, outputId);\n",
              "  const outputElement = document.getElementById(outputId);\n",
              "  // Cache steps on the outputElement to make it available for the next call\n",
              "  // to uploadFilesContinue from Python.\n",
              "  outputElement.steps = steps;\n",
              "\n",
              "  return _uploadFilesContinue(outputId);\n",
              "}\n",
              "\n",
              "// This is roughly an async generator (not supported in the browser yet),\n",
              "// where there are multiple asynchronous steps and the Python side is going\n",
              "// to poll for completion of each step.\n",
              "// This uses a Promise to block the python side on completion of each step,\n",
              "// then passes the result of the previous step as the input to the next step.\n",
              "function _uploadFilesContinue(outputId) {\n",
              "  const outputElement = document.getElementById(outputId);\n",
              "  const steps = outputElement.steps;\n",
              "\n",
              "  const next = steps.next(outputElement.lastPromiseValue);\n",
              "  return Promise.resolve(next.value.promise).then((value) => {\n",
              "    // Cache the last promise value to make it available to the next\n",
              "    // step of the generator.\n",
              "    outputElement.lastPromiseValue = value;\n",
              "    return next.value.response;\n",
              "  });\n",
              "}\n",
              "\n",
              "/**\n",
              " * Generator function which is called between each async step of the upload\n",
              " * process.\n",
              " * @param {string} inputId Element ID of the input file picker element.\n",
              " * @param {string} outputId Element ID of the output display.\n",
              " * @return {!Iterable<!Object>} Iterable of next steps.\n",
              " */\n",
              "function* uploadFilesStep(inputId, outputId) {\n",
              "  const inputElement = document.getElementById(inputId);\n",
              "  inputElement.disabled = false;\n",
              "\n",
              "  const outputElement = document.getElementById(outputId);\n",
              "  outputElement.innerHTML = '';\n",
              "\n",
              "  const pickedPromise = new Promise((resolve) => {\n",
              "    inputElement.addEventListener('change', (e) => {\n",
              "      resolve(e.target.files);\n",
              "    });\n",
              "  });\n",
              "\n",
              "  const cancel = document.createElement('button');\n",
              "  inputElement.parentElement.appendChild(cancel);\n",
              "  cancel.textContent = 'Cancel upload';\n",
              "  const cancelPromise = new Promise((resolve) => {\n",
              "    cancel.onclick = () => {\n",
              "      resolve(null);\n",
              "    };\n",
              "  });\n",
              "\n",
              "  // Wait for the user to pick the files.\n",
              "  const files = yield {\n",
              "    promise: Promise.race([pickedPromise, cancelPromise]),\n",
              "    response: {\n",
              "      action: 'starting',\n",
              "    }\n",
              "  };\n",
              "\n",
              "  cancel.remove();\n",
              "\n",
              "  // Disable the input element since further picks are not allowed.\n",
              "  inputElement.disabled = true;\n",
              "\n",
              "  if (!files) {\n",
              "    return {\n",
              "      response: {\n",
              "        action: 'complete',\n",
              "      }\n",
              "    };\n",
              "  }\n",
              "\n",
              "  for (const file of files) {\n",
              "    const li = document.createElement('li');\n",
              "    li.append(span(file.name, {fontWeight: 'bold'}));\n",
              "    li.append(span(\n",
              "        `(${file.type || 'n/a'}) - ${file.size} bytes, ` +\n",
              "        `last modified: ${\n",
              "            file.lastModifiedDate ? file.lastModifiedDate.toLocaleDateString() :\n",
              "                                    'n/a'} - `));\n",
              "    const percent = span('0% done');\n",
              "    li.appendChild(percent);\n",
              "\n",
              "    outputElement.appendChild(li);\n",
              "\n",
              "    const fileDataPromise = new Promise((resolve) => {\n",
              "      const reader = new FileReader();\n",
              "      reader.onload = (e) => {\n",
              "        resolve(e.target.result);\n",
              "      };\n",
              "      reader.readAsArrayBuffer(file);\n",
              "    });\n",
              "    // Wait for the data to be ready.\n",
              "    let fileData = yield {\n",
              "      promise: fileDataPromise,\n",
              "      response: {\n",
              "        action: 'continue',\n",
              "      }\n",
              "    };\n",
              "\n",
              "    // Use a chunked sending to avoid message size limits. See b/62115660.\n",
              "    let position = 0;\n",
              "    do {\n",
              "      const length = Math.min(fileData.byteLength - position, MAX_PAYLOAD_SIZE);\n",
              "      const chunk = new Uint8Array(fileData, position, length);\n",
              "      position += length;\n",
              "\n",
              "      const base64 = btoa(String.fromCharCode.apply(null, chunk));\n",
              "      yield {\n",
              "        response: {\n",
              "          action: 'append',\n",
              "          file: file.name,\n",
              "          data: base64,\n",
              "        },\n",
              "      };\n",
              "\n",
              "      let percentDone = fileData.byteLength === 0 ?\n",
              "          100 :\n",
              "          Math.round((position / fileData.byteLength) * 100);\n",
              "      percent.textContent = `${percentDone}% done`;\n",
              "\n",
              "    } while (position < fileData.byteLength);\n",
              "  }\n",
              "\n",
              "  // All done.\n",
              "  yield {\n",
              "    response: {\n",
              "      action: 'complete',\n",
              "    }\n",
              "  };\n",
              "}\n",
              "\n",
              "scope.google = scope.google || {};\n",
              "scope.google.colab = scope.google.colab || {};\n",
              "scope.google.colab._files = {\n",
              "  _uploadFiles,\n",
              "  _uploadFilesContinue,\n",
              "};\n",
              "})(self);\n",
              "</script> "
            ]
          },
          "metadata": {}
        },
        {
          "output_type": "stream",
          "name": "stdout",
          "text": [
            "Saving KDDTest+.xlsx to KDDTest+.xlsx\n",
            "Saving KDDTest-21.xlsx to KDDTest-21.xlsx\n",
            "Saving KDDTrain+.xlsx to KDDTrain+.xlsx\n",
            "Saving KDDTrain+_20Percent.xlsx to KDDTrain+_20Percent.xlsx\n"
          ]
        }
      ],
      "source": [
        "from google.colab import files\n",
        "uploaded = files.upload()"
      ]
    },
    {
      "cell_type": "code",
      "source": [
        "for filename in uploaded.keys():\n",
        "    print('Файл \"'+filename+'\" был загружен')"
      ],
      "metadata": {
        "colab": {
          "base_uri": "https://localhost:8080/"
        },
        "id": "QTWGWE0Jy1BB",
        "outputId": "49b35693-1e6c-4b47-f5d6-ce0dc63617d0"
      },
      "execution_count": 3,
      "outputs": [
        {
          "output_type": "stream",
          "name": "stdout",
          "text": [
            "Файл \"KDDTest+.xlsx\" был загружен\n",
            "Файл \"KDDTest-21.xlsx\" был загружен\n",
            "Файл \"KDDTrain+.xlsx\" был загружен\n",
            "Файл \"KDDTrain+_20Percent.xlsx\" был загружен\n"
          ]
        }
      ]
    },
    {
      "cell_type": "code",
      "source": [
        "import glob # выполняет действия с окружающей файловой системой, в нашем случае ищет файлы\n",
        "\n",
        "excel_files = glob.glob('*.xlsx')\n",
        "\n",
        "print(excel_files)"
      ],
      "metadata": {
        "colab": {
          "base_uri": "https://localhost:8080/"
        },
        "id": "LQ1WycB5zaAn",
        "outputId": "427bb3f3-8852-49c6-d4ae-7a5913da474c"
      },
      "execution_count": 4,
      "outputs": [
        {
          "output_type": "stream",
          "name": "stdout",
          "text": [
            "['KDDTest-21.xlsx', 'KDDTest+.xlsx', 'KDDTrain+_20Percent.xlsx', 'KDDTrain+.xlsx']\n"
          ]
        }
      ]
    },
    {
      "cell_type": "code",
      "source": [
        "import os\n",
        "import pandas as pd\n",
        "\n",
        "# Создаем список файлов\n",
        "file_list = excel_files\n",
        "#file_list = ['KDDTrain+.xlsx']\n",
        "\n",
        "# Создаем пустой DataFrame\n",
        "df = pd.DataFrame()\n",
        "\n",
        "# Загружаем данные из каждого файла и добавляем в DataFrame\n",
        "for file in file_list:\n",
        "    df_temp = pd.read_excel(file, header=None) # записываем во сременную переменную\n",
        "    print(\"-----df\")\n",
        "    print(df.head())\n",
        "    print(len(df.columns)) \n",
        "    print(\"-----df_temp\")\n",
        "    print(df_temp.head())\n",
        "    print(len(df_temp.columns)) \n",
        "    df = pd.concat([df, df_temp])\n",
        "\n",
        "# Выводим результат\n",
        "print(df.head())\n"
      ],
      "metadata": {
        "colab": {
          "base_uri": "https://localhost:8080/"
        },
        "id": "vCKQN9W_zn7U",
        "outputId": "c97395ec-c51b-4e64-9188-94072c3943ee"
      },
      "execution_count": 5,
      "outputs": [
        {
          "output_type": "stream",
          "name": "stdout",
          "text": [
            "-----df\n",
            "Empty DataFrame\n",
            "Columns: []\n",
            "Index: []\n",
            "0\n",
            "-----df_temp\n",
            "   0    1        2   3    4     5   6   7   8   9   ...    33    34    35  \\\n",
            "0  13  tcp   telnet  SF  118  2425   0   0   0   0  ...  0.38  0.12  0.04   \n",
            "1   0  udp  private  SF   44     0   0   0   0   0  ...  1.00  0.01  0.01   \n",
            "2   0  tcp   telnet  S3    0    44   0   0   0   0  ...  0.31  0.61  0.00   \n",
            "3   0  udp  private  SF   53    55   0   0   0   0  ...  1.00  0.00  0.87   \n",
            "4   0  tcp  private  SH    0     0   0   0   0   0  ...  0.06  1.00  1.00   \n",
            "\n",
            "    36    37    38    39   40            41  42  \n",
            "0  0.0  0.00  0.00  0.12  0.3  guess_passwd   2  \n",
            "1  0.0  0.00  0.00  0.00  0.0     snmpguess  12  \n",
            "2  0.0  0.21  0.68  0.60  0.0  processtable  18  \n",
            "3  0.0  0.00  0.00  0.00  0.0        normal  17  \n",
            "4  0.0  1.00  1.00  0.00  0.0          nmap  17  \n",
            "\n",
            "[5 rows x 43 columns]\n",
            "43\n",
            "-----df\n",
            "   0    1        2   3    4     5   6   7   8   9   ...    33    34    35  \\\n",
            "0  13  tcp   telnet  SF  118  2425   0   0   0   0  ...  0.38  0.12  0.04   \n",
            "1   0  udp  private  SF   44     0   0   0   0   0  ...  1.00  0.01  0.01   \n",
            "2   0  tcp   telnet  S3    0    44   0   0   0   0  ...  0.31  0.61  0.00   \n",
            "3   0  udp  private  SF   53    55   0   0   0   0  ...  1.00  0.00  0.87   \n",
            "4   0  tcp  private  SH    0     0   0   0   0   0  ...  0.06  1.00  1.00   \n",
            "\n",
            "    36    37    38    39   40            41  42  \n",
            "0  0.0  0.00  0.00  0.12  0.3  guess_passwd   2  \n",
            "1  0.0  0.00  0.00  0.00  0.0     snmpguess  12  \n",
            "2  0.0  0.21  0.68  0.60  0.0  processtable  18  \n",
            "3  0.0  0.00  0.00  0.00  0.0        normal  17  \n",
            "4  0.0  1.00  1.00  0.00  0.0          nmap  17  \n",
            "\n",
            "[5 rows x 43 columns]\n",
            "43\n",
            "-----df_temp\n",
            "   0     1         2     3      4   5   6   7   8   9   ...    33    34    35  \\\n",
            "0   0   tcp   private   REJ      0   0   0   0   0   0  ...  0.04  0.06  0.00   \n",
            "1   0   tcp   private   REJ      0   0   0   0   0   0  ...  0.00  0.06  0.00   \n",
            "2   2   tcp  ftp_data    SF  12983   0   0   0   0   0  ...  0.61  0.04  0.61   \n",
            "3   0  icmp     eco_i    SF     20   0   0   0   0   0  ...  1.00  0.00  1.00   \n",
            "4   1   tcp    telnet  RSTO      0  15   0   0   0   0  ...  0.31  0.17  0.03   \n",
            "\n",
            "     36   37   38    39    40       41  42  \n",
            "0  0.00  0.0  0.0  1.00  1.00  neptune  21  \n",
            "1  0.00  0.0  0.0  1.00  1.00  neptune  21  \n",
            "2  0.02  0.0  0.0  0.00  0.00   normal  21  \n",
            "3  0.28  0.0  0.0  0.00  0.00    saint  15  \n",
            "4  0.02  0.0  0.0  0.83  0.71    mscan  11  \n",
            "\n",
            "[5 rows x 43 columns]\n",
            "43\n",
            "-----df\n",
            "   0    1        2   3    4     5   6   7   8   9   ...    33    34    35  \\\n",
            "0  13  tcp   telnet  SF  118  2425   0   0   0   0  ...  0.38  0.12  0.04   \n",
            "1   0  udp  private  SF   44     0   0   0   0   0  ...  1.00  0.01  0.01   \n",
            "2   0  tcp   telnet  S3    0    44   0   0   0   0  ...  0.31  0.61  0.00   \n",
            "3   0  udp  private  SF   53    55   0   0   0   0  ...  1.00  0.00  0.87   \n",
            "4   0  tcp  private  SH    0     0   0   0   0   0  ...  0.06  1.00  1.00   \n",
            "\n",
            "    36    37    38    39   40            41  42  \n",
            "0  0.0  0.00  0.00  0.12  0.3  guess_passwd   2  \n",
            "1  0.0  0.00  0.00  0.00  0.0     snmpguess  12  \n",
            "2  0.0  0.21  0.68  0.60  0.0  processtable  18  \n",
            "3  0.0  0.00  0.00  0.00  0.0        normal  17  \n",
            "4  0.0  1.00  1.00  0.00  0.0          nmap  17  \n",
            "\n",
            "[5 rows x 43 columns]\n",
            "43\n",
            "-----df_temp\n",
            "   0    1         2   3    4     5   6   7   8   9   ...    33    34    35  \\\n",
            "0   0  tcp  ftp_data  SF  491     0   0   0   0   0  ...  0.17  0.03  0.17   \n",
            "1   0  udp     other  SF  146     0   0   0   0   0  ...  0.00  0.60  0.88   \n",
            "2   0  tcp   private  S0    0     0   0   0   0   0  ...  0.10  0.05  0.00   \n",
            "3   0  tcp      http  SF  232  8153   0   0   0   0  ...  1.00  0.00  0.03   \n",
            "4   0  tcp      http  SF  199   420   0   0   0   0  ...  1.00  0.00  0.00   \n",
            "\n",
            "     36    37    38    39    40       41  42  \n",
            "0  0.00  0.00  0.00  0.05  0.00   normal  20  \n",
            "1  0.00  0.00  0.00  0.00  0.00   normal  15  \n",
            "2  0.00  1.00  1.00  0.00  0.00  neptune  19  \n",
            "3  0.04  0.03  0.01  0.00  0.01   normal  21  \n",
            "4  0.00  0.00  0.00  0.00  0.00   normal  21  \n",
            "\n",
            "[5 rows x 43 columns]\n",
            "43\n",
            "-----df\n",
            "   0    1        2   3    4     5   6   7   8   9   ...    33    34    35  \\\n",
            "0  13  tcp   telnet  SF  118  2425   0   0   0   0  ...  0.38  0.12  0.04   \n",
            "1   0  udp  private  SF   44     0   0   0   0   0  ...  1.00  0.01  0.01   \n",
            "2   0  tcp   telnet  S3    0    44   0   0   0   0  ...  0.31  0.61  0.00   \n",
            "3   0  udp  private  SF   53    55   0   0   0   0  ...  1.00  0.00  0.87   \n",
            "4   0  tcp  private  SH    0     0   0   0   0   0  ...  0.06  1.00  1.00   \n",
            "\n",
            "    36    37    38    39   40            41  42  \n",
            "0  0.0  0.00  0.00  0.12  0.3  guess_passwd   2  \n",
            "1  0.0  0.00  0.00  0.00  0.0     snmpguess  12  \n",
            "2  0.0  0.21  0.68  0.60  0.0  processtable  18  \n",
            "3  0.0  0.00  0.00  0.00  0.0        normal  17  \n",
            "4  0.0  1.00  1.00  0.00  0.0          nmap  17  \n",
            "\n",
            "[5 rows x 43 columns]\n",
            "43\n",
            "-----df_temp\n",
            "   0    1         2   3    4     5   6   7   8   9   ...    33    34    35  \\\n",
            "0   0  tcp  ftp_data  SF  491     0   0   0   0   0  ...  0.17  0.03  0.17   \n",
            "1   0  udp     other  SF  146     0   0   0   0   0  ...  0.00  0.60  0.88   \n",
            "2   0  tcp   private  S0    0     0   0   0   0   0  ...  0.10  0.05  0.00   \n",
            "3   0  tcp      http  SF  232  8153   0   0   0   0  ...  1.00  0.00  0.03   \n",
            "4   0  tcp      http  SF  199   420   0   0   0   0  ...  1.00  0.00  0.00   \n",
            "\n",
            "     36    37    38    39    40       41  42  \n",
            "0  0.00  0.00  0.00  0.05  0.00   normal  20  \n",
            "1  0.00  0.00  0.00  0.00  0.00   normal  15  \n",
            "2  0.00  1.00  1.00  0.00  0.00  neptune  19  \n",
            "3  0.04  0.03  0.01  0.00  0.01   normal  21  \n",
            "4  0.00  0.00  0.00  0.00  0.00   normal  21  \n",
            "\n",
            "[5 rows x 43 columns]\n",
            "43\n",
            "   0    1        2   3    4     5   6   7   8   9   ...    33    34    35  \\\n",
            "0  13  tcp   telnet  SF  118  2425   0   0   0   0  ...  0.38  0.12  0.04   \n",
            "1   0  udp  private  SF   44     0   0   0   0   0  ...  1.00  0.01  0.01   \n",
            "2   0  tcp   telnet  S3    0    44   0   0   0   0  ...  0.31  0.61  0.00   \n",
            "3   0  udp  private  SF   53    55   0   0   0   0  ...  1.00  0.00  0.87   \n",
            "4   0  tcp  private  SH    0     0   0   0   0   0  ...  0.06  1.00  1.00   \n",
            "\n",
            "    36    37    38    39   40            41  42  \n",
            "0  0.0  0.00  0.00  0.12  0.3  guess_passwd   2  \n",
            "1  0.0  0.00  0.00  0.00  0.0     snmpguess  12  \n",
            "2  0.0  0.21  0.68  0.60  0.0  processtable  18  \n",
            "3  0.0  0.00  0.00  0.00  0.0        normal  17  \n",
            "4  0.0  1.00  1.00  0.00  0.0          nmap  17  \n",
            "\n",
            "[5 rows x 43 columns]\n"
          ]
        }
      ]
    },
    {
      "cell_type": "code",
      "source": [
        "import copy\n",
        "df1 = copy.deepcopy(df)\n",
        "df2 = copy.copy(df)"
      ],
      "metadata": {
        "id": "V1zu4MZNM0Yg"
      },
      "execution_count": 6,
      "outputs": []
    },
    {
      "cell_type": "code",
      "source": [
        "print(df1.head())"
      ],
      "metadata": {
        "colab": {
          "base_uri": "https://localhost:8080/"
        },
        "id": "AvOF4A77Kn9H",
        "outputId": "937a41ed-8b5e-4b05-9c4e-b3d8ace745eb"
      },
      "execution_count": 7,
      "outputs": [
        {
          "output_type": "stream",
          "name": "stdout",
          "text": [
            "   0    1        2   3    4     5   6   7   8   9   ...    33    34    35  \\\n",
            "0  13  tcp   telnet  SF  118  2425   0   0   0   0  ...  0.38  0.12  0.04   \n",
            "1   0  udp  private  SF   44     0   0   0   0   0  ...  1.00  0.01  0.01   \n",
            "2   0  tcp   telnet  S3    0    44   0   0   0   0  ...  0.31  0.61  0.00   \n",
            "3   0  udp  private  SF   53    55   0   0   0   0  ...  1.00  0.00  0.87   \n",
            "4   0  tcp  private  SH    0     0   0   0   0   0  ...  0.06  1.00  1.00   \n",
            "\n",
            "    36    37    38    39   40            41  42  \n",
            "0  0.0  0.00  0.00  0.12  0.3  guess_passwd   2  \n",
            "1  0.0  0.00  0.00  0.00  0.0     snmpguess  12  \n",
            "2  0.0  0.21  0.68  0.60  0.0  processtable  18  \n",
            "3  0.0  0.00  0.00  0.00  0.0        normal  17  \n",
            "4  0.0  1.00  1.00  0.00  0.0          nmap  17  \n",
            "\n",
            "[5 rows x 43 columns]\n"
          ]
        }
      ]
    },
    {
      "cell_type": "code",
      "source": [
        "df = pd.DataFrame()#снова. создаем чистый датафрейм\n",
        "df = df1"
      ],
      "metadata": {
        "id": "9Org2mH0JUZc"
      },
      "execution_count": 8,
      "outputs": []
    },
    {
      "cell_type": "code",
      "source": [
        "print(len(df))"
      ],
      "metadata": {
        "colab": {
          "base_uri": "https://localhost:8080/"
        },
        "id": "ajNuQ06VDVCO",
        "outputId": "9c51f0a9-1e87-4dd5-ea50-89ec16fc886c"
      },
      "execution_count": 9,
      "outputs": [
        {
          "output_type": "stream",
          "name": "stdout",
          "text": [
            "185559\n"
          ]
        }
      ]
    },
    {
      "cell_type": "code",
      "source": [
        "df.columns=['duration', 'protocol_type', 'service', 'flag', 'src_bytes', 'dst_bytes', 'land', 'wrong_fragment', 'urgent', 'hot', 'num_failed_logins', 'logged_in', 'num_compromised', 'root_shell', 'su_attempted', 'num_root', 'num_file_creations', 'num_shells', 'num_access_files', 'num_outbound_cmds', 'is_host_login', 'is_guest_login', 'count', 'srv_count', 'serror_rate', 'srv_serror_rate', 'rerror_rate', 'srv_rerror_rate', 'same_srv_rate', 'diff_srv_rate', 'srv_diff_host_rate', 'dst_host_count', 'dst_host_srv_count', 'dst_host_same_srv_rate', 'dst_host_diff_srv_rate', 'dst_host_same_src_port_rate', 'dst_host_srv_diff_host_rate', 'dst_host_serror_rate', 'dst_host_srv_serror_rate', 'dst_host_rerror_rate', 'dst_host_srv_rerror_rate', 'nameAttack', 'typeAttack']\n",
        "#задаем имена колонок - взято с https://github.com/defcom17/NSL_KDD/blob/master/Field%20Names.csv"
      ],
      "metadata": {
        "id": "1x6vyi7AB3BS"
      },
      "execution_count": 10,
      "outputs": []
    },
    {
      "cell_type": "code",
      "source": [
        "print(df.head())"
      ],
      "metadata": {
        "colab": {
          "base_uri": "https://localhost:8080/"
        },
        "id": "bx6XrWbODiaE",
        "outputId": "1b927f47-34fc-4608-9a9c-230bc978b19c"
      },
      "execution_count": 11,
      "outputs": [
        {
          "output_type": "stream",
          "name": "stdout",
          "text": [
            "   duration protocol_type  service flag  src_bytes  dst_bytes  land  \\\n",
            "0        13           tcp   telnet   SF        118       2425     0   \n",
            "1         0           udp  private   SF         44          0     0   \n",
            "2         0           tcp   telnet   S3          0         44     0   \n",
            "3         0           udp  private   SF         53         55     0   \n",
            "4         0           tcp  private   SH          0          0     0   \n",
            "\n",
            "   wrong_fragment  urgent  hot  ...  dst_host_same_srv_rate  \\\n",
            "0               0       0    0  ...                    0.38   \n",
            "1               0       0    0  ...                    1.00   \n",
            "2               0       0    0  ...                    0.31   \n",
            "3               0       0    0  ...                    1.00   \n",
            "4               0       0    0  ...                    0.06   \n",
            "\n",
            "   dst_host_diff_srv_rate  dst_host_same_src_port_rate  \\\n",
            "0                    0.12                         0.04   \n",
            "1                    0.01                         0.01   \n",
            "2                    0.61                         0.00   \n",
            "3                    0.00                         0.87   \n",
            "4                    1.00                         1.00   \n",
            "\n",
            "   dst_host_srv_diff_host_rate  dst_host_serror_rate  \\\n",
            "0                          0.0                  0.00   \n",
            "1                          0.0                  0.00   \n",
            "2                          0.0                  0.21   \n",
            "3                          0.0                  0.00   \n",
            "4                          0.0                  1.00   \n",
            "\n",
            "   dst_host_srv_serror_rate  dst_host_rerror_rate  dst_host_srv_rerror_rate  \\\n",
            "0                      0.00                  0.12                       0.3   \n",
            "1                      0.00                  0.00                       0.0   \n",
            "2                      0.68                  0.60                       0.0   \n",
            "3                      0.00                  0.00                       0.0   \n",
            "4                      1.00                  0.00                       0.0   \n",
            "\n",
            "     nameAttack  typeAttack  \n",
            "0  guess_passwd           2  \n",
            "1     snmpguess          12  \n",
            "2  processtable          18  \n",
            "3        normal          17  \n",
            "4          nmap          17  \n",
            "\n",
            "[5 rows x 43 columns]\n"
          ]
        }
      ]
    },
    {
      "cell_type": "code",
      "source": [
        "df.drop_duplicates(inplace=True)#удаляем дублирующиеся строки"
      ],
      "metadata": {
        "id": "rlGPATB0DfYO"
      },
      "execution_count": 12,
      "outputs": []
    },
    {
      "cell_type": "code",
      "source": [
        "print(len(df))"
      ],
      "metadata": {
        "colab": {
          "base_uri": "https://localhost:8080/"
        },
        "id": "E5WvLcQZD5ci",
        "outputId": "4a6b8f79-32dd-42ea-81b3-bb71fe5d6e3e"
      },
      "execution_count": 13,
      "outputs": [
        {
          "output_type": "stream",
          "name": "stdout",
          "text": [
            "147907\n"
          ]
        }
      ]
    },
    {
      "cell_type": "code",
      "source": [
        "(df.dtypes)"
      ],
      "metadata": {
        "colab": {
          "base_uri": "https://localhost:8080/"
        },
        "id": "1miaSeVDEFtk",
        "outputId": "02cb65f4-dea3-4113-8453-877f9c3a22ef"
      },
      "execution_count": 14,
      "outputs": [
        {
          "output_type": "execute_result",
          "data": {
            "text/plain": [
              "duration                         int64\n",
              "protocol_type                   object\n",
              "service                         object\n",
              "flag                            object\n",
              "src_bytes                        int64\n",
              "dst_bytes                        int64\n",
              "land                             int64\n",
              "wrong_fragment                   int64\n",
              "urgent                           int64\n",
              "hot                              int64\n",
              "num_failed_logins                int64\n",
              "logged_in                        int64\n",
              "num_compromised                  int64\n",
              "root_shell                       int64\n",
              "su_attempted                     int64\n",
              "num_root                         int64\n",
              "num_file_creations               int64\n",
              "num_shells                       int64\n",
              "num_access_files                 int64\n",
              "num_outbound_cmds                int64\n",
              "is_host_login                    int64\n",
              "is_guest_login                   int64\n",
              "count                            int64\n",
              "srv_count                        int64\n",
              "serror_rate                    float64\n",
              "srv_serror_rate                float64\n",
              "rerror_rate                    float64\n",
              "srv_rerror_rate                float64\n",
              "same_srv_rate                  float64\n",
              "diff_srv_rate                  float64\n",
              "srv_diff_host_rate             float64\n",
              "dst_host_count                   int64\n",
              "dst_host_srv_count               int64\n",
              "dst_host_same_srv_rate         float64\n",
              "dst_host_diff_srv_rate         float64\n",
              "dst_host_same_src_port_rate    float64\n",
              "dst_host_srv_diff_host_rate    float64\n",
              "dst_host_serror_rate           float64\n",
              "dst_host_srv_serror_rate       float64\n",
              "dst_host_rerror_rate           float64\n",
              "dst_host_srv_rerror_rate       float64\n",
              "nameAttack                      object\n",
              "typeAttack                       int64\n",
              "dtype: object"
            ]
          },
          "metadata": {},
          "execution_count": 14
        }
      ]
    },
    {
      "cell_type": "code",
      "source": [
        "arr1v = df.protocol_type.unique()\n",
        "print(arr1v)\n",
        "arr2v = df.nameAttack.unique()\n",
        "print(arr2v)\n",
        "arr3v = df.service.unique()\n",
        "print(arr3v)\n",
        "arr4v = df.flag.unique()\n",
        "print(arr4v)"
      ],
      "metadata": {
        "colab": {
          "base_uri": "https://localhost:8080/"
        },
        "id": "N0tLllW-Fzoc",
        "outputId": "1691ef8b-2ae7-49b1-e973-4ed8d18f5a70"
      },
      "execution_count": 15,
      "outputs": [
        {
          "output_type": "stream",
          "name": "stdout",
          "text": [
            "['tcp' 'udp' 'icmp']\n",
            "['guess_passwd' 'snmpguess' 'processtable' 'normal' 'nmap' 'back'\n",
            " 'neptune' 'satan' 'saint' 'mscan' 'apache2' 'httptunnel' 'warezmaster'\n",
            " 'ipsweep' 'smurf' 'mailbomb' 'teardrop' 'portsweep' 'snmpgetattack'\n",
            " 'multihop' 'worm' 'land' 'sendmail' 'buffer_overflow' 'pod' 'rootkit'\n",
            " 'xlock' 'xterm' 'xsnoop' 'ps' 'named' 'ftp_write' 'loadmodule' 'phf'\n",
            " 'udpstorm' 'perl' 'sqlattack' 'imap' 'warezclient' 'spy']\n",
            "['telnet' 'private' 'http' 'imap4' 'ftp_data' 'other' 'ctf' 'pop_3' 'ftp'\n",
            " 'domain_u' 'domain' 'eco_i' 'ecr_i' 'finger' 'name' 'smtp' 'vmnet' 'mtp'\n",
            " 'bgp' 'exec' 'sunrpc' 'uucp_path' 'iso_tsap' 'echo' 'auth' 'hostnames'\n",
            " 'courier' 'uucp' 'daytime' 'nntp' 'netstat' 'urp_i' 'http_443' 'csnet_ns'\n",
            " 'login' 'klogin' 'whois' 'time' 'link' 'discard' 'gopher' 'supdup'\n",
            " 'netbios_ns' 'systat' 'netbios_dgm' 'kshell' 'efs' 'nnsp' 'ssh'\n",
            " 'netbios_ssn' 'Z39_50' 'IRC' 'ntp_u' 'X11' 'pm_dump' 'ldap' 'remote_job'\n",
            " 'sql_net' 'shell' 'tim_i' 'pop_2' 'tftp_u' 'rje' 'printer' 'red_i'\n",
            " 'urh_i' 'http_8001' 'aol' 'http_2784' 'harvest']\n",
            "['SF' 'S3' 'SH' 'REJ' 'S0' 'RSTO' 'RSTR' 'RSTOS0' 'S1' 'S2' 'OTH']\n"
          ]
        }
      ]
    },
    {
      "cell_type": "code",
      "source": [
        "def Convert(lst):\n",
        "    res_dct = {lst[i]: i+1  for i in range(0, len(lst), 1)}\n",
        "    return res_dct\n",
        "\n",
        "\n",
        "\n",
        "arr1v1 =Convert(arr1v)\n",
        "print(arr1v1)\n",
        "arr2v1 =Convert(arr2v)\n",
        "print(arr2v1)\n",
        "arr3v1 =Convert(arr3v)\n",
        "print(arr3v1)\n",
        "arr4v1 =Convert(arr4v)\n",
        "print(arr4v1)"
      ],
      "metadata": {
        "colab": {
          "base_uri": "https://localhost:8080/"
        },
        "id": "5YlrqfDOIc0l",
        "outputId": "5dc87a20-c3dd-4429-ac51-f394303b7c2b"
      },
      "execution_count": 16,
      "outputs": [
        {
          "output_type": "stream",
          "name": "stdout",
          "text": [
            "{'tcp': 1, 'udp': 2, 'icmp': 3}\n",
            "{'guess_passwd': 1, 'snmpguess': 2, 'processtable': 3, 'normal': 4, 'nmap': 5, 'back': 6, 'neptune': 7, 'satan': 8, 'saint': 9, 'mscan': 10, 'apache2': 11, 'httptunnel': 12, 'warezmaster': 13, 'ipsweep': 14, 'smurf': 15, 'mailbomb': 16, 'teardrop': 17, 'portsweep': 18, 'snmpgetattack': 19, 'multihop': 20, 'worm': 21, 'land': 22, 'sendmail': 23, 'buffer_overflow': 24, 'pod': 25, 'rootkit': 26, 'xlock': 27, 'xterm': 28, 'xsnoop': 29, 'ps': 30, 'named': 31, 'ftp_write': 32, 'loadmodule': 33, 'phf': 34, 'udpstorm': 35, 'perl': 36, 'sqlattack': 37, 'imap': 38, 'warezclient': 39, 'spy': 40}\n",
            "{'telnet': 1, 'private': 2, 'http': 3, 'imap4': 4, 'ftp_data': 5, 'other': 6, 'ctf': 7, 'pop_3': 8, 'ftp': 9, 'domain_u': 10, 'domain': 11, 'eco_i': 12, 'ecr_i': 13, 'finger': 14, 'name': 15, 'smtp': 16, 'vmnet': 17, 'mtp': 18, 'bgp': 19, 'exec': 20, 'sunrpc': 21, 'uucp_path': 22, 'iso_tsap': 23, 'echo': 24, 'auth': 25, 'hostnames': 26, 'courier': 27, 'uucp': 28, 'daytime': 29, 'nntp': 30, 'netstat': 31, 'urp_i': 32, 'http_443': 33, 'csnet_ns': 34, 'login': 35, 'klogin': 36, 'whois': 37, 'time': 38, 'link': 39, 'discard': 40, 'gopher': 41, 'supdup': 42, 'netbios_ns': 43, 'systat': 44, 'netbios_dgm': 45, 'kshell': 46, 'efs': 47, 'nnsp': 48, 'ssh': 49, 'netbios_ssn': 50, 'Z39_50': 51, 'IRC': 52, 'ntp_u': 53, 'X11': 54, 'pm_dump': 55, 'ldap': 56, 'remote_job': 57, 'sql_net': 58, 'shell': 59, 'tim_i': 60, 'pop_2': 61, 'tftp_u': 62, 'rje': 63, 'printer': 64, 'red_i': 65, 'urh_i': 66, 'http_8001': 67, 'aol': 68, 'http_2784': 69, 'harvest': 70}\n",
            "{'SF': 1, 'S3': 2, 'SH': 3, 'REJ': 4, 'S0': 5, 'RSTO': 6, 'RSTR': 7, 'RSTOS0': 8, 'S1': 9, 'S2': 10, 'OTH': 11}\n"
          ]
        }
      ]
    },
    {
      "cell_type": "code",
      "source": [
        "df['protocol_type'] = df['protocol_type'].map(arr1v1)\n",
        "df['nameAttack'] = df['nameAttack'].map(arr2v1)\n",
        "\n",
        "df['service'] = df['service'].map(arr3v1)\n",
        "df['flag'] = df['flag'].map(arr4v1)\n"
      ],
      "metadata": {
        "id": "0o7LbKuVHB4R"
      },
      "execution_count": 17,
      "outputs": []
    },
    {
      "cell_type": "code",
      "source": [
        "# df['protocol_type'] = df['protocol_type'].map(arr1v1)\n",
        "# df['nameAttack'] = df['nameAttack'].map(arr2v1)\n",
        "\n",
        "# df['service'] = df['service'].map(arr3v1)\n",
        "# df['flag'] = df['flag'].map(arr4v1)\n"
      ],
      "metadata": {
        "id": "oNafktmyI9Xi"
      },
      "execution_count": null,
      "outputs": []
    },
    {
      "cell_type": "code",
      "source": [
        "df['protocol_type'] = df['protocol_type'].astype (float)\n",
        "df['nameAttack'] = df['nameAttack'].astype (float)\n",
        "df['service'] = df['service'].astype (float)\n",
        "df['flag'] = df['flag'].astype (float)"
      ],
      "metadata": {
        "id": "vJHNT5BaH3SI"
      },
      "execution_count": 18,
      "outputs": []
    },
    {
      "cell_type": "code",
      "source": [
        "(df.dtypes)"
      ],
      "metadata": {
        "colab": {
          "base_uri": "https://localhost:8080/"
        },
        "id": "KLaBsLIGHWC8",
        "outputId": "e160cfe1-ecda-4ef4-d817-3fa85ea87019"
      },
      "execution_count": 19,
      "outputs": [
        {
          "output_type": "execute_result",
          "data": {
            "text/plain": [
              "duration                         int64\n",
              "protocol_type                  float64\n",
              "service                        float64\n",
              "flag                           float64\n",
              "src_bytes                        int64\n",
              "dst_bytes                        int64\n",
              "land                             int64\n",
              "wrong_fragment                   int64\n",
              "urgent                           int64\n",
              "hot                              int64\n",
              "num_failed_logins                int64\n",
              "logged_in                        int64\n",
              "num_compromised                  int64\n",
              "root_shell                       int64\n",
              "su_attempted                     int64\n",
              "num_root                         int64\n",
              "num_file_creations               int64\n",
              "num_shells                       int64\n",
              "num_access_files                 int64\n",
              "num_outbound_cmds                int64\n",
              "is_host_login                    int64\n",
              "is_guest_login                   int64\n",
              "count                            int64\n",
              "srv_count                        int64\n",
              "serror_rate                    float64\n",
              "srv_serror_rate                float64\n",
              "rerror_rate                    float64\n",
              "srv_rerror_rate                float64\n",
              "same_srv_rate                  float64\n",
              "diff_srv_rate                  float64\n",
              "srv_diff_host_rate             float64\n",
              "dst_host_count                   int64\n",
              "dst_host_srv_count               int64\n",
              "dst_host_same_srv_rate         float64\n",
              "dst_host_diff_srv_rate         float64\n",
              "dst_host_same_src_port_rate    float64\n",
              "dst_host_srv_diff_host_rate    float64\n",
              "dst_host_serror_rate           float64\n",
              "dst_host_srv_serror_rate       float64\n",
              "dst_host_rerror_rate           float64\n",
              "dst_host_srv_rerror_rate       float64\n",
              "nameAttack                     float64\n",
              "typeAttack                       int64\n",
              "dtype: object"
            ]
          },
          "metadata": {},
          "execution_count": 19
        }
      ]
    },
    {
      "cell_type": "code",
      "source": [
        "print(df.head())"
      ],
      "metadata": {
        "colab": {
          "base_uri": "https://localhost:8080/"
        },
        "id": "A8rQ_Vs2Hl11",
        "outputId": "e45ed561-15ed-46ba-ddd6-e70b20501e53"
      },
      "execution_count": 20,
      "outputs": [
        {
          "output_type": "stream",
          "name": "stdout",
          "text": [
            "   duration  protocol_type  service  flag  src_bytes  dst_bytes  land  \\\n",
            "0        13            1.0      1.0   1.0        118       2425     0   \n",
            "1         0            2.0      2.0   1.0         44          0     0   \n",
            "2         0            1.0      1.0   2.0          0         44     0   \n",
            "3         0            2.0      2.0   1.0         53         55     0   \n",
            "4         0            1.0      2.0   3.0          0          0     0   \n",
            "\n",
            "   wrong_fragment  urgent  hot  ...  dst_host_same_srv_rate  \\\n",
            "0               0       0    0  ...                    0.38   \n",
            "1               0       0    0  ...                    1.00   \n",
            "2               0       0    0  ...                    0.31   \n",
            "3               0       0    0  ...                    1.00   \n",
            "4               0       0    0  ...                    0.06   \n",
            "\n",
            "   dst_host_diff_srv_rate  dst_host_same_src_port_rate  \\\n",
            "0                    0.12                         0.04   \n",
            "1                    0.01                         0.01   \n",
            "2                    0.61                         0.00   \n",
            "3                    0.00                         0.87   \n",
            "4                    1.00                         1.00   \n",
            "\n",
            "   dst_host_srv_diff_host_rate  dst_host_serror_rate  \\\n",
            "0                          0.0                  0.00   \n",
            "1                          0.0                  0.00   \n",
            "2                          0.0                  0.21   \n",
            "3                          0.0                  0.00   \n",
            "4                          0.0                  1.00   \n",
            "\n",
            "   dst_host_srv_serror_rate  dst_host_rerror_rate  dst_host_srv_rerror_rate  \\\n",
            "0                      0.00                  0.12                       0.3   \n",
            "1                      0.00                  0.00                       0.0   \n",
            "2                      0.68                  0.60                       0.0   \n",
            "3                      0.00                  0.00                       0.0   \n",
            "4                      1.00                  0.00                       0.0   \n",
            "\n",
            "   nameAttack  typeAttack  \n",
            "0         1.0           2  \n",
            "1         2.0          12  \n",
            "2         3.0          18  \n",
            "3         4.0          17  \n",
            "4         5.0          17  \n",
            "\n",
            "[5 rows x 43 columns]\n"
          ]
        }
      ]
    },
    {
      "cell_type": "code",
      "source": [
        "df.isna().sum() "
      ],
      "metadata": {
        "colab": {
          "base_uri": "https://localhost:8080/"
        },
        "id": "CxgYDuZeMh5J",
        "outputId": "5c48ca3e-5256-40a9-882d-ec891e52438a"
      },
      "execution_count": 21,
      "outputs": [
        {
          "output_type": "execute_result",
          "data": {
            "text/plain": [
              "duration                       0\n",
              "protocol_type                  0\n",
              "service                        0\n",
              "flag                           0\n",
              "src_bytes                      0\n",
              "dst_bytes                      0\n",
              "land                           0\n",
              "wrong_fragment                 0\n",
              "urgent                         0\n",
              "hot                            0\n",
              "num_failed_logins              0\n",
              "logged_in                      0\n",
              "num_compromised                0\n",
              "root_shell                     0\n",
              "su_attempted                   0\n",
              "num_root                       0\n",
              "num_file_creations             0\n",
              "num_shells                     0\n",
              "num_access_files               0\n",
              "num_outbound_cmds              0\n",
              "is_host_login                  0\n",
              "is_guest_login                 0\n",
              "count                          0\n",
              "srv_count                      0\n",
              "serror_rate                    0\n",
              "srv_serror_rate                0\n",
              "rerror_rate                    0\n",
              "srv_rerror_rate                0\n",
              "same_srv_rate                  0\n",
              "diff_srv_rate                  0\n",
              "srv_diff_host_rate             0\n",
              "dst_host_count                 0\n",
              "dst_host_srv_count             0\n",
              "dst_host_same_srv_rate         0\n",
              "dst_host_diff_srv_rate         0\n",
              "dst_host_same_src_port_rate    0\n",
              "dst_host_srv_diff_host_rate    0\n",
              "dst_host_serror_rate           0\n",
              "dst_host_srv_serror_rate       0\n",
              "dst_host_rerror_rate           0\n",
              "dst_host_srv_rerror_rate       0\n",
              "nameAttack                     0\n",
              "typeAttack                     0\n",
              "dtype: int64"
            ]
          },
          "metadata": {},
          "execution_count": 21
        }
      ]
    },
    {
      "cell_type": "code",
      "source": [
        "df = df.dropna() "
      ],
      "metadata": {
        "id": "pWOJFpx9OR1r"
      },
      "execution_count": 22,
      "outputs": []
    },
    {
      "cell_type": "code",
      "source": [
        "# Конвертация столбца \"class\" в числовой формат\n",
        "#df[\"class\"] = pd.factorize(df[\"class\"])[0]"
      ],
      "metadata": {
        "id": "5fqGfpOiLzWC"
      },
      "execution_count": null,
      "outputs": []
    },
    {
      "cell_type": "code",
      "source": [
        "nameAttack = df.pop('nameAttack')\n",
        "typeAttack = df.pop('typeAttack')"
      ],
      "metadata": {
        "id": "aJ8OiI0oL0yj"
      },
      "execution_count": 23,
      "outputs": []
    },
    {
      "cell_type": "code",
      "source": [
        "# for col1 in df.columns:\n",
        "#   if col1.find('_rate')>-1:\n",
        "#     dropped = df.pop(col1)"
      ],
      "metadata": {
        "id": "48ABhWjNT1GL"
      },
      "execution_count": null,
      "outputs": []
    },
    {
      "cell_type": "code",
      "source": [
        "# for col1 in df.columns:\n",
        "#   if col1.find('_login')>-1:\n",
        "#     dropped = df.pop(col1)"
      ],
      "metadata": {
        "id": "gjve_9qOVDlJ"
      },
      "execution_count": null,
      "outputs": []
    },
    {
      "cell_type": "code",
      "source": [
        "# for col1 in df.columns:\n",
        "#   if col1.find('_bytes')>-1:\n",
        "#     dropped = df.pop(col1)"
      ],
      "metadata": {
        "id": "Y_oRBdUQVR_J"
      },
      "execution_count": null,
      "outputs": []
    },
    {
      "cell_type": "code",
      "source": [
        "from sklearn import preprocessing\n",
        "dfN = preprocessing.normalize(df)"
      ],
      "metadata": {
        "id": "DMZigA-1MRfs"
      },
      "execution_count": 24,
      "outputs": []
    },
    {
      "cell_type": "code",
      "source": [
        "from sklearn.model_selection import train_test_split\n",
        "X_train, X_test, y_train, y_test = train_test_split(dfN, nameAttack, test_size=0.3, random_state=0)"
      ],
      "metadata": {
        "id": "ltjN3GoIOd3B"
      },
      "execution_count": 26,
      "outputs": []
    },
    {
      "cell_type": "code",
      "source": [
        "from keras.models import Sequential\n",
        "from keras.layers import Dense\n",
        "from keras import layers\n",
        "classifier = Sequential() # Инициализация НС\n",
        "classifier.add(Dense(units = 16, activation = 'relu', input_dim = 41))\n",
        "classifier.add(Dense(units = 8, activation = 'relu'))\n",
        "classifier.add(layers.Dropout(0.2))\n",
        "classifier.add(Dense(units = 6, activation = 'relu'))\n",
        "classifier.add(Dense(units = 1, activation = 'sigmoid'))"
      ],
      "metadata": {
        "id": "n2gkjRO9PAho"
      },
      "execution_count": 58,
      "outputs": []
    },
    {
      "cell_type": "code",
      "source": [
        "# import tensorflow as tf\n",
        "# classifier = tf.keras.Sequential([\n",
        "#     tf.keras.layers.Dense(64, activation='relu', input_shape=[41]),\n",
        "#     tf.keras.layers.Dense(64, activation='relu'),\n",
        "#     tf.keras.layers.Dense(1, activation='sigmoid')\n",
        "# ])"
      ],
      "metadata": {
        "id": "iEDdcQDuRhqU"
      },
      "execution_count": null,
      "outputs": []
    },
    {
      "cell_type": "code",
      "source": [
        "# from keras.models import Sequential\n",
        "# from keras.optimizers import Adam\n",
        "# from keras import layers\n",
        "# classifier = Sequential() # Инициализация НС\n",
        "# classifier.add(layers.Flatten(input_dim = 26))\n",
        "# #classifier.add(Dense(units = 32, activation = 'relu', input_dim = 6))#6 - потому что на входе всего 6 чисел\n",
        "# classifier.add(layers.Dense(units = 512, activation = 'relu'))\n",
        "# classifier.add(layers.Dense(units = 256, activation = 'relu'))\n",
        "# classifier.add(layers.Dense(units = 128, activation = 'relu'))\n",
        "# classifier.add(layers.Dropout(0.3))\n",
        "# #classifier.add(layers.BatchNormalization())\n",
        "# classifier.add(layers.Dense(2, activation='softmax'))\n",
        "# classifier.add(layers.Dense(units = 1, activation = 'sigmoid'))"
      ],
      "metadata": {
        "id": "h7BjDCqNCDHp"
      },
      "execution_count": null,
      "outputs": []
    },
    {
      "cell_type": "code",
      "source": [
        "classifier.compile(optimizer = 'adam', loss = 'binary_crossentropy',metrics=['accuracy'])"
      ],
      "metadata": {
        "id": "3sHIZfPuPAZD"
      },
      "execution_count": 59,
      "outputs": []
    },
    {
      "cell_type": "code",
      "source": [
        "hist1 = classifier.fit(X_train, y_train, batch_size = 20, epochs = 10)"
      ],
      "metadata": {
        "colab": {
          "base_uri": "https://localhost:8080/"
        },
        "id": "f-Y61x9IPAPb",
        "outputId": "b9ad1c79-cea3-44d5-c92e-cc9a0e031223"
      },
      "execution_count": 63,
      "outputs": [
        {
          "output_type": "stream",
          "name": "stdout",
          "text": [
            "Epoch 1/10\n",
            "5177/5177 [==============================] - 21s 4ms/step - loss: -7657777664.0000 - accuracy: 0.0085\n",
            "Epoch 2/10\n",
            "5177/5177 [==============================] - 20s 4ms/step - loss: -13493940224.0000 - accuracy: 0.0085\n",
            "Epoch 3/10\n",
            "5177/5177 [==============================] - 20s 4ms/step - loss: -22092908544.0000 - accuracy: 0.0085\n",
            "Epoch 4/10\n",
            "5177/5177 [==============================] - 20s 4ms/step - loss: -34113900544.0000 - accuracy: 0.0085\n",
            "Epoch 5/10\n",
            "5177/5177 [==============================] - 20s 4ms/step - loss: -50462920704.0000 - accuracy: 0.0085\n",
            "Epoch 6/10\n",
            "5177/5177 [==============================] - 21s 4ms/step - loss: -71860543488.0000 - accuracy: 0.0085\n",
            "Epoch 7/10\n",
            "5177/5177 [==============================] - 20s 4ms/step - loss: -99343425536.0000 - accuracy: 0.0085\n",
            "Epoch 8/10\n",
            "5177/5177 [==============================] - 21s 4ms/step - loss: -134085304320.0000 - accuracy: 0.0085\n",
            "Epoch 9/10\n",
            "5177/5177 [==============================] - 21s 4ms/step - loss: -176976887808.0000 - accuracy: 0.0085\n",
            "Epoch 10/10\n",
            "5177/5177 [==============================] - 20s 4ms/step - loss: -229178474496.0000 - accuracy: 0.0085\n"
          ]
        }
      ]
    },
    {
      "cell_type": "code",
      "source": [
        "\n"
      ],
      "metadata": {
        "id": "HORdvZwEk4HY"
      },
      "execution_count": null,
      "outputs": []
    },
    {
      "cell_type": "code",
      "source": [],
      "metadata": {
        "id": "RY0ZQYcwo5_h"
      },
      "execution_count": null,
      "outputs": []
    }
  ]
}