{
  "nbformat": 4,
  "nbformat_minor": 0,
  "metadata": {
    "colab": {
      "provenance": [],
      "include_colab_link": true
    },
    "kernelspec": {
      "name": "python3",
      "display_name": "Python 3"
    },
    "language_info": {
      "name": "python"
    },
    "accelerator": "GPU",
    "gpuClass": "standard"
  },
  "cells": [
    {
      "cell_type": "markdown",
      "metadata": {
        "id": "view-in-github",
        "colab_type": "text"
      },
      "source": [
        "<a href=\"https://colab.research.google.com/github/kulakovand/colabr_epo/blob/main/%D0%94%D0%BE%D0%BF_%D0%BF%D1%80%D0%B8%D0%BC%D0%B5%D1%80_%D0%BE%D0%B1%D1%8A%D0%B5%D0%B4%D0%B8%D0%BD%D0%B5%D0%BD%D0%B8%D1%8F_%D1%84%D0%B0%D0%B9%D0%BB%D0%B0_ipynb%22.ipynb\" target=\"_parent\"><img src=\"https://colab.research.google.com/assets/colab-badge.svg\" alt=\"Open In Colab\"/></a>"
      ]
    },
    {
      "cell_type": "code",
      "execution_count": null,
      "metadata": {
        "colab": {
          "base_uri": "https://localhost:8080/",
          "height": 177
        },
        "id": "1Q7-MD8jyrbp",
        "outputId": "e33d6c91-ef83-4169-800d-7978aa5d0e7b"
      },
      "outputs": [
        {
          "output_type": "display_data",
          "data": {
            "text/plain": [
              "<IPython.core.display.HTML object>"
            ],
            "text/html": [
              "\n",
              "     <input type=\"file\" id=\"files-4716b794-7612-43b5-ba2e-0067b610d4ae\" name=\"files[]\" multiple disabled\n",
              "        style=\"border:none\" />\n",
              "     <output id=\"result-4716b794-7612-43b5-ba2e-0067b610d4ae\">\n",
              "      Upload widget is only available when the cell has been executed in the\n",
              "      current browser session. Please rerun this cell to enable.\n",
              "      </output>\n",
              "      <script>// Copyright 2017 Google LLC\n",
              "//\n",
              "// Licensed under the Apache License, Version 2.0 (the \"License\");\n",
              "// you may not use this file except in compliance with the License.\n",
              "// You may obtain a copy of the License at\n",
              "//\n",
              "//      http://www.apache.org/licenses/LICENSE-2.0\n",
              "//\n",
              "// Unless required by applicable law or agreed to in writing, software\n",
              "// distributed under the License is distributed on an \"AS IS\" BASIS,\n",
              "// WITHOUT WARRANTIES OR CONDITIONS OF ANY KIND, either express or implied.\n",
              "// See the License for the specific language governing permissions and\n",
              "// limitations under the License.\n",
              "\n",
              "/**\n",
              " * @fileoverview Helpers for google.colab Python module.\n",
              " */\n",
              "(function(scope) {\n",
              "function span(text, styleAttributes = {}) {\n",
              "  const element = document.createElement('span');\n",
              "  element.textContent = text;\n",
              "  for (const key of Object.keys(styleAttributes)) {\n",
              "    element.style[key] = styleAttributes[key];\n",
              "  }\n",
              "  return element;\n",
              "}\n",
              "\n",
              "// Max number of bytes which will be uploaded at a time.\n",
              "const MAX_PAYLOAD_SIZE = 100 * 1024;\n",
              "\n",
              "function _uploadFiles(inputId, outputId) {\n",
              "  const steps = uploadFilesStep(inputId, outputId);\n",
              "  const outputElement = document.getElementById(outputId);\n",
              "  // Cache steps on the outputElement to make it available for the next call\n",
              "  // to uploadFilesContinue from Python.\n",
              "  outputElement.steps = steps;\n",
              "\n",
              "  return _uploadFilesContinue(outputId);\n",
              "}\n",
              "\n",
              "// This is roughly an async generator (not supported in the browser yet),\n",
              "// where there are multiple asynchronous steps and the Python side is going\n",
              "// to poll for completion of each step.\n",
              "// This uses a Promise to block the python side on completion of each step,\n",
              "// then passes the result of the previous step as the input to the next step.\n",
              "function _uploadFilesContinue(outputId) {\n",
              "  const outputElement = document.getElementById(outputId);\n",
              "  const steps = outputElement.steps;\n",
              "\n",
              "  const next = steps.next(outputElement.lastPromiseValue);\n",
              "  return Promise.resolve(next.value.promise).then((value) => {\n",
              "    // Cache the last promise value to make it available to the next\n",
              "    // step of the generator.\n",
              "    outputElement.lastPromiseValue = value;\n",
              "    return next.value.response;\n",
              "  });\n",
              "}\n",
              "\n",
              "/**\n",
              " * Generator function which is called between each async step of the upload\n",
              " * process.\n",
              " * @param {string} inputId Element ID of the input file picker element.\n",
              " * @param {string} outputId Element ID of the output display.\n",
              " * @return {!Iterable<!Object>} Iterable of next steps.\n",
              " */\n",
              "function* uploadFilesStep(inputId, outputId) {\n",
              "  const inputElement = document.getElementById(inputId);\n",
              "  inputElement.disabled = false;\n",
              "\n",
              "  const outputElement = document.getElementById(outputId);\n",
              "  outputElement.innerHTML = '';\n",
              "\n",
              "  const pickedPromise = new Promise((resolve) => {\n",
              "    inputElement.addEventListener('change', (e) => {\n",
              "      resolve(e.target.files);\n",
              "    });\n",
              "  });\n",
              "\n",
              "  const cancel = document.createElement('button');\n",
              "  inputElement.parentElement.appendChild(cancel);\n",
              "  cancel.textContent = 'Cancel upload';\n",
              "  const cancelPromise = new Promise((resolve) => {\n",
              "    cancel.onclick = () => {\n",
              "      resolve(null);\n",
              "    };\n",
              "  });\n",
              "\n",
              "  // Wait for the user to pick the files.\n",
              "  const files = yield {\n",
              "    promise: Promise.race([pickedPromise, cancelPromise]),\n",
              "    response: {\n",
              "      action: 'starting',\n",
              "    }\n",
              "  };\n",
              "\n",
              "  cancel.remove();\n",
              "\n",
              "  // Disable the input element since further picks are not allowed.\n",
              "  inputElement.disabled = true;\n",
              "\n",
              "  if (!files) {\n",
              "    return {\n",
              "      response: {\n",
              "        action: 'complete',\n",
              "      }\n",
              "    };\n",
              "  }\n",
              "\n",
              "  for (const file of files) {\n",
              "    const li = document.createElement('li');\n",
              "    li.append(span(file.name, {fontWeight: 'bold'}));\n",
              "    li.append(span(\n",
              "        `(${file.type || 'n/a'}) - ${file.size} bytes, ` +\n",
              "        `last modified: ${\n",
              "            file.lastModifiedDate ? file.lastModifiedDate.toLocaleDateString() :\n",
              "                                    'n/a'} - `));\n",
              "    const percent = span('0% done');\n",
              "    li.appendChild(percent);\n",
              "\n",
              "    outputElement.appendChild(li);\n",
              "\n",
              "    const fileDataPromise = new Promise((resolve) => {\n",
              "      const reader = new FileReader();\n",
              "      reader.onload = (e) => {\n",
              "        resolve(e.target.result);\n",
              "      };\n",
              "      reader.readAsArrayBuffer(file);\n",
              "    });\n",
              "    // Wait for the data to be ready.\n",
              "    let fileData = yield {\n",
              "      promise: fileDataPromise,\n",
              "      response: {\n",
              "        action: 'continue',\n",
              "      }\n",
              "    };\n",
              "\n",
              "    // Use a chunked sending to avoid message size limits. See b/62115660.\n",
              "    let position = 0;\n",
              "    do {\n",
              "      const length = Math.min(fileData.byteLength - position, MAX_PAYLOAD_SIZE);\n",
              "      const chunk = new Uint8Array(fileData, position, length);\n",
              "      position += length;\n",
              "\n",
              "      const base64 = btoa(String.fromCharCode.apply(null, chunk));\n",
              "      yield {\n",
              "        response: {\n",
              "          action: 'append',\n",
              "          file: file.name,\n",
              "          data: base64,\n",
              "        },\n",
              "      };\n",
              "\n",
              "      let percentDone = fileData.byteLength === 0 ?\n",
              "          100 :\n",
              "          Math.round((position / fileData.byteLength) * 100);\n",
              "      percent.textContent = `${percentDone}% done`;\n",
              "\n",
              "    } while (position < fileData.byteLength);\n",
              "  }\n",
              "\n",
              "  // All done.\n",
              "  yield {\n",
              "    response: {\n",
              "      action: 'complete',\n",
              "    }\n",
              "  };\n",
              "}\n",
              "\n",
              "scope.google = scope.google || {};\n",
              "scope.google.colab = scope.google.colab || {};\n",
              "scope.google.colab._files = {\n",
              "  _uploadFiles,\n",
              "  _uploadFilesContinue,\n",
              "};\n",
              "})(self);\n",
              "</script> "
            ]
          },
          "metadata": {}
        },
        {
          "output_type": "stream",
          "name": "stdout",
          "text": [
            "Saving KDDTrain+_20Percent.xlsx to KDDTrain+_20Percent.xlsx\n",
            "Saving KDDTrain+.xlsx to KDDTrain+ (1).xlsx\n",
            "Saving KDDTest+.xlsx to KDDTest+.xlsx\n",
            "Saving KDDTest-21.xlsx to KDDTest-21.xlsx\n"
          ]
        }
      ],
      "source": [
        "from google.colab import files\n",
        "uploaded = files.upload()"
      ]
    },
    {
      "cell_type": "code",
      "source": [
        "for filename in uploaded.keys():\n",
        "    print('Файл \"'+filename+'\" был загружен')"
      ],
      "metadata": {
        "colab": {
          "base_uri": "https://localhost:8080/"
        },
        "id": "QTWGWE0Jy1BB",
        "outputId": "d9b77cb5-45aa-4bb1-fb4b-9825eb4af41c"
      },
      "execution_count": null,
      "outputs": [
        {
          "output_type": "stream",
          "name": "stdout",
          "text": [
            "Файл \"KDDTrain+_20Percent.xlsx\" был загружен\n",
            "Файл \"KDDTrain+.xlsx\" был загружен\n",
            "Файл \"KDDTest+.xlsx\" был загружен\n",
            "Файл \"KDDTest-21.xlsx\" был загружен\n"
          ]
        }
      ]
    },
    {
      "cell_type": "code",
      "source": [
        "import glob\n",
        "\n",
        "excel_files = glob.glob('*.xlsx')\n",
        "\n",
        "print(excel_files)"
      ],
      "metadata": {
        "colab": {
          "base_uri": "https://localhost:8080/"
        },
        "id": "LQ1WycB5zaAn",
        "outputId": "e41eda06-6b3b-465f-cfcc-6c04c2cab603"
      },
      "execution_count": null,
      "outputs": [
        {
          "output_type": "stream",
          "name": "stdout",
          "text": [
            "['KDDTest-21.xlsx', 'KDDTest+.xlsx', 'KDDTrain+_20Percent.xlsx', 'KDDTrain+.xlsx', 'KDDTrain+ (1).xlsx']\n"
          ]
        }
      ]
    },
    {
      "cell_type": "code",
      "source": [
        "import os\n",
        "import pandas as pd\n",
        "\n",
        "# Создаем список файлов\n",
        "# file_list = excel_files\n",
        "file_list = ['KDDTrain+.xlsx']\n",
        "\n",
        "# Создаем пустой DataFrame\n",
        "df = pd.DataFrame()\n",
        "\n",
        "# Загружаем данные из каждого файла и добавляем в DataFrame\n",
        "for file in file_list:\n",
        "    df_temp = pd.read_excel(file, header=None)\n",
        "    print(\"-----df\")\n",
        "    print(df.head())\n",
        "    print(len(df.columns)) \n",
        "    print(\"-----df_temp\")\n",
        "    print(df_temp.head())\n",
        "    print(len(df_temp.columns)) \n",
        "    df = pd.concat([df, df_temp])\n",
        "\n",
        "# Выводим результат\n",
        "print(df.head())\n"
      ],
      "metadata": {
        "colab": {
          "base_uri": "https://localhost:8080/"
        },
        "id": "vCKQN9W_zn7U",
        "outputId": "25f558a0-d297-437e-aa3b-ccff58cca3d7"
      },
      "execution_count": null,
      "outputs": [
        {
          "output_type": "stream",
          "name": "stdout",
          "text": [
            "-----df\n",
            "Empty DataFrame\n",
            "Columns: []\n",
            "Index: []\n",
            "0\n",
            "-----df_temp\n",
            "   0    1         2   3    4     5   6   7   8   9   ...    33    34    35  \\\n",
            "0   0  tcp  ftp_data  SF  491     0   0   0   0   0  ...  0.17  0.03  0.17   \n",
            "1   0  udp     other  SF  146     0   0   0   0   0  ...  0.00  0.60  0.88   \n",
            "2   0  tcp   private  S0    0     0   0   0   0   0  ...  0.10  0.05  0.00   \n",
            "3   0  tcp      http  SF  232  8153   0   0   0   0  ...  1.00  0.00  0.03   \n",
            "4   0  tcp      http  SF  199   420   0   0   0   0  ...  1.00  0.00  0.00   \n",
            "\n",
            "     36    37    38    39    40       41  42  \n",
            "0  0.00  0.00  0.00  0.05  0.00   normal  20  \n",
            "1  0.00  0.00  0.00  0.00  0.00   normal  15  \n",
            "2  0.00  1.00  1.00  0.00  0.00  neptune  19  \n",
            "3  0.04  0.03  0.01  0.00  0.01   normal  21  \n",
            "4  0.00  0.00  0.00  0.00  0.00   normal  21  \n",
            "\n",
            "[5 rows x 43 columns]\n",
            "43\n",
            "   0    1         2   3    4     5   6   7   8   9   ...    33    34    35  \\\n",
            "0   0  tcp  ftp_data  SF  491     0   0   0   0   0  ...  0.17  0.03  0.17   \n",
            "1   0  udp     other  SF  146     0   0   0   0   0  ...  0.00  0.60  0.88   \n",
            "2   0  tcp   private  S0    0     0   0   0   0   0  ...  0.10  0.05  0.00   \n",
            "3   0  tcp      http  SF  232  8153   0   0   0   0  ...  1.00  0.00  0.03   \n",
            "4   0  tcp      http  SF  199   420   0   0   0   0  ...  1.00  0.00  0.00   \n",
            "\n",
            "     36    37    38    39    40       41  42  \n",
            "0  0.00  0.00  0.00  0.05  0.00   normal  20  \n",
            "1  0.00  0.00  0.00  0.00  0.00   normal  15  \n",
            "2  0.00  1.00  1.00  0.00  0.00  neptune  19  \n",
            "3  0.04  0.03  0.01  0.00  0.01   normal  21  \n",
            "4  0.00  0.00  0.00  0.00  0.00   normal  21  \n",
            "\n",
            "[5 rows x 43 columns]\n"
          ]
        }
      ]
    },
    {
      "cell_type": "code",
      "source": [
        "import copy\n",
        "df1 = copy.deepcopy(df)\n",
        "df2 = copy.copy(df)"
      ],
      "metadata": {
        "id": "V1zu4MZNM0Yg"
      },
      "execution_count": null,
      "outputs": []
    },
    {
      "cell_type": "code",
      "source": [
        "print(df1.head())"
      ],
      "metadata": {
        "colab": {
          "base_uri": "https://localhost:8080/"
        },
        "id": "AvOF4A77Kn9H",
        "outputId": "22673ac5-8e07-40e8-c11a-1d8583d76736"
      },
      "execution_count": null,
      "outputs": [
        {
          "output_type": "stream",
          "name": "stdout",
          "text": [
            "   0    1         2   3    4     5   6   7   8   9   ...    33    34    35  \\\n",
            "0   0  tcp  ftp_data  SF  491     0   0   0   0   0  ...  0.17  0.03  0.17   \n",
            "1   0  udp     other  SF  146     0   0   0   0   0  ...  0.00  0.60  0.88   \n",
            "2   0  tcp   private  S0    0     0   0   0   0   0  ...  0.10  0.05  0.00   \n",
            "3   0  tcp      http  SF  232  8153   0   0   0   0  ...  1.00  0.00  0.03   \n",
            "4   0  tcp      http  SF  199   420   0   0   0   0  ...  1.00  0.00  0.00   \n",
            "\n",
            "     36    37    38    39    40       41  42  \n",
            "0  0.00  0.00  0.00  0.05  0.00   normal  20  \n",
            "1  0.00  0.00  0.00  0.00  0.00   normal  15  \n",
            "2  0.00  1.00  1.00  0.00  0.00  neptune  19  \n",
            "3  0.04  0.03  0.01  0.00  0.01   normal  21  \n",
            "4  0.00  0.00  0.00  0.00  0.00   normal  21  \n",
            "\n",
            "[5 rows x 43 columns]\n"
          ]
        }
      ]
    },
    {
      "cell_type": "code",
      "source": [
        "df = pd.DataFrame()#снова. создаем чистый датафрейм\n",
        "df = df1"
      ],
      "metadata": {
        "id": "9Org2mH0JUZc"
      },
      "execution_count": null,
      "outputs": []
    },
    {
      "cell_type": "code",
      "source": [
        "print(len(df))"
      ],
      "metadata": {
        "colab": {
          "base_uri": "https://localhost:8080/"
        },
        "id": "ajNuQ06VDVCO",
        "outputId": "4cd28ba7-9f53-4a20-b72c-dc474d0cbf76"
      },
      "execution_count": null,
      "outputs": [
        {
          "output_type": "stream",
          "name": "stdout",
          "text": [
            "125973\n"
          ]
        }
      ]
    },
    {
      "cell_type": "code",
      "source": [
        "df.columns=['duration', 'protocol_type', 'service', 'flag', 'src_bytes', 'dst_bytes', 'land', 'wrong_fragment', 'urgent', 'hot', 'num_failed_logins', 'logged_in', 'num_compromised', 'root_shell', 'su_attempted', 'num_root', 'num_file_creations', 'num_shells', 'num_access_files', 'num_outbound_cmds', 'is_host_login', 'is_guest_login', 'count', 'srv_count', 'serror_rate', 'srv_serror_rate', 'rerror_rate', 'srv_rerror_rate', 'same_srv_rate', 'diff_srv_rate', 'srv_diff_host_rate', 'dst_host_count', 'dst_host_srv_count', 'dst_host_same_srv_rate', 'dst_host_diff_srv_rate', 'dst_host_same_src_port_rate', 'dst_host_srv_diff_host_rate', 'dst_host_serror_rate', 'dst_host_srv_serror_rate', 'dst_host_rerror_rate', 'dst_host_srv_rerror_rate', 'nameAttack', 'typeAttack']\n",
        "#задаем имена колонок - взято отсуюда https://github.com/defcom17/NSL_KDD/blob/master/Field%20Names.csv"
      ],
      "metadata": {
        "id": "1x6vyi7AB3BS"
      },
      "execution_count": null,
      "outputs": []
    },
    {
      "cell_type": "code",
      "source": [
        "print(df.head())"
      ],
      "metadata": {
        "colab": {
          "base_uri": "https://localhost:8080/"
        },
        "id": "bx6XrWbODiaE",
        "outputId": "719dba7d-bc73-457c-e3ed-f4db43be0145"
      },
      "execution_count": null,
      "outputs": [
        {
          "output_type": "stream",
          "name": "stdout",
          "text": [
            "   duration protocol_type   service flag  src_bytes  dst_bytes  land  \\\n",
            "0         0           tcp  ftp_data   SF        491          0     0   \n",
            "1         0           udp     other   SF        146          0     0   \n",
            "2         0           tcp   private   S0          0          0     0   \n",
            "3         0           tcp      http   SF        232       8153     0   \n",
            "4         0           tcp      http   SF        199        420     0   \n",
            "\n",
            "   wrong_fragment  urgent  hot  ...  dst_host_same_srv_rate  \\\n",
            "0               0       0    0  ...                    0.17   \n",
            "1               0       0    0  ...                    0.00   \n",
            "2               0       0    0  ...                    0.10   \n",
            "3               0       0    0  ...                    1.00   \n",
            "4               0       0    0  ...                    1.00   \n",
            "\n",
            "   dst_host_diff_srv_rate  dst_host_same_src_port_rate  \\\n",
            "0                    0.03                         0.17   \n",
            "1                    0.60                         0.88   \n",
            "2                    0.05                         0.00   \n",
            "3                    0.00                         0.03   \n",
            "4                    0.00                         0.00   \n",
            "\n",
            "   dst_host_srv_diff_host_rate  dst_host_serror_rate  \\\n",
            "0                         0.00                  0.00   \n",
            "1                         0.00                  0.00   \n",
            "2                         0.00                  1.00   \n",
            "3                         0.04                  0.03   \n",
            "4                         0.00                  0.00   \n",
            "\n",
            "   dst_host_srv_serror_rate  dst_host_rerror_rate  dst_host_srv_rerror_rate  \\\n",
            "0                      0.00                  0.05                      0.00   \n",
            "1                      0.00                  0.00                      0.00   \n",
            "2                      1.00                  0.00                      0.00   \n",
            "3                      0.01                  0.00                      0.01   \n",
            "4                      0.00                  0.00                      0.00   \n",
            "\n",
            "   nameAttack  typeAttack  \n",
            "0      normal          20  \n",
            "1      normal          15  \n",
            "2     neptune          19  \n",
            "3      normal          21  \n",
            "4      normal          21  \n",
            "\n",
            "[5 rows x 43 columns]\n"
          ]
        }
      ]
    },
    {
      "cell_type": "code",
      "source": [
        "df.drop_duplicates(inplace=True)#удаляем дублирующиеся строки"
      ],
      "metadata": {
        "id": "rlGPATB0DfYO"
      },
      "execution_count": null,
      "outputs": []
    },
    {
      "cell_type": "code",
      "source": [
        "print(len(df))"
      ],
      "metadata": {
        "colab": {
          "base_uri": "https://localhost:8080/"
        },
        "id": "E5WvLcQZD5ci",
        "outputId": "3be3ef16-b80d-4a92-95f5-690eac983d81"
      },
      "execution_count": null,
      "outputs": [
        {
          "output_type": "stream",
          "name": "stdout",
          "text": [
            "125973\n"
          ]
        }
      ]
    },
    {
      "cell_type": "code",
      "source": [
        "(df.dtypes)"
      ],
      "metadata": {
        "colab": {
          "base_uri": "https://localhost:8080/"
        },
        "id": "1miaSeVDEFtk",
        "outputId": "acaa1c6f-22d0-46cc-e9c9-6e36f366a9dd"
      },
      "execution_count": null,
      "outputs": [
        {
          "output_type": "execute_result",
          "data": {
            "text/plain": [
              "duration                         int64\n",
              "protocol_type                   object\n",
              "service                         object\n",
              "flag                            object\n",
              "src_bytes                        int64\n",
              "dst_bytes                        int64\n",
              "land                             int64\n",
              "wrong_fragment                   int64\n",
              "urgent                           int64\n",
              "hot                              int64\n",
              "num_failed_logins                int64\n",
              "logged_in                        int64\n",
              "num_compromised                  int64\n",
              "root_shell                       int64\n",
              "su_attempted                     int64\n",
              "num_root                         int64\n",
              "num_file_creations               int64\n",
              "num_shells                       int64\n",
              "num_access_files                 int64\n",
              "num_outbound_cmds                int64\n",
              "is_host_login                    int64\n",
              "is_guest_login                   int64\n",
              "count                            int64\n",
              "srv_count                        int64\n",
              "serror_rate                    float64\n",
              "srv_serror_rate                float64\n",
              "rerror_rate                    float64\n",
              "srv_rerror_rate                float64\n",
              "same_srv_rate                  float64\n",
              "diff_srv_rate                  float64\n",
              "srv_diff_host_rate             float64\n",
              "dst_host_count                   int64\n",
              "dst_host_srv_count               int64\n",
              "dst_host_same_srv_rate         float64\n",
              "dst_host_diff_srv_rate         float64\n",
              "dst_host_same_src_port_rate    float64\n",
              "dst_host_srv_diff_host_rate    float64\n",
              "dst_host_serror_rate           float64\n",
              "dst_host_srv_serror_rate       float64\n",
              "dst_host_rerror_rate           float64\n",
              "dst_host_srv_rerror_rate       float64\n",
              "nameAttack                      object\n",
              "typeAttack                       int64\n",
              "dtype: object"
            ]
          },
          "metadata": {},
          "execution_count": 46
        }
      ]
    },
    {
      "cell_type": "code",
      "source": [
        "arr1v = df.protocol_type.unique()\n",
        "print(arr1v)\n",
        "arr2v = df.nameAttack.unique()\n",
        "print(arr2v)\n",
        "arr3v = df.service.unique()\n",
        "print(arr3v)\n",
        "arr4v = df.flag.unique()\n",
        "print(arr4v)"
      ],
      "metadata": {
        "colab": {
          "base_uri": "https://localhost:8080/"
        },
        "id": "N0tLllW-Fzoc",
        "outputId": "c34d83a2-d794-423e-8741-7778e9b673cb"
      },
      "execution_count": null,
      "outputs": [
        {
          "output_type": "stream",
          "name": "stdout",
          "text": [
            "['tcp' 'udp' 'icmp']\n",
            "['normal' 'neptune' 'warezclient' 'ipsweep' 'portsweep' 'teardrop' 'nmap'\n",
            " 'satan' 'smurf' 'pod' 'back' 'guess_passwd' 'ftp_write' 'multihop'\n",
            " 'rootkit' 'buffer_overflow' 'imap' 'warezmaster' 'phf' 'land'\n",
            " 'loadmodule' 'spy' 'perl']\n",
            "['ftp_data' 'other' 'private' 'http' 'remote_job' 'name' 'netbios_ns'\n",
            " 'eco_i' 'mtp' 'telnet' 'finger' 'domain_u' 'supdup' 'uucp_path' 'Z39_50'\n",
            " 'smtp' 'csnet_ns' 'uucp' 'netbios_dgm' 'urp_i' 'auth' 'domain' 'ftp'\n",
            " 'bgp' 'ldap' 'ecr_i' 'gopher' 'vmnet' 'systat' 'http_443' 'efs' 'whois'\n",
            " 'imap4' 'iso_tsap' 'echo' 'klogin' 'link' 'sunrpc' 'login' 'kshell'\n",
            " 'sql_net' 'time' 'hostnames' 'exec' 'ntp_u' 'discard' 'nntp' 'courier'\n",
            " 'ctf' 'ssh' 'daytime' 'shell' 'netstat' 'pop_3' 'nnsp' 'IRC' 'pop_2'\n",
            " 'printer' 'tim_i' 'pm_dump' 'red_i' 'netbios_ssn' 'rje' 'X11' 'urh_i'\n",
            " 'http_8001' 'aol' 'http_2784' 'tftp_u' 'harvest']\n",
            "['SF' 'S0' 'REJ' 'RSTR' 'SH' 'RSTO' 'S1' 'RSTOS0' 'S3' 'S2' 'OTH']\n"
          ]
        }
      ]
    },
    {
      "cell_type": "code",
      "source": [
        "def Convert(lst):\n",
        "    res_dct = {lst[i]: i+1  for i in range(0, len(lst), 1)}\n",
        "    return res_dct\n",
        "\n",
        "\n",
        "\n",
        "arr1v1 =Convert(arr1v)\n",
        "print(arr1v1)\n",
        "arr2v1 =Convert(arr2v)\n",
        "print(arr2v1)\n",
        "arr3v1 =Convert(arr3v)\n",
        "print(arr3v1)\n",
        "arr4v1 =Convert(arr4v)\n",
        "print(arr4v1)"
      ],
      "metadata": {
        "colab": {
          "base_uri": "https://localhost:8080/"
        },
        "id": "5YlrqfDOIc0l",
        "outputId": "4ba3a35f-62aa-488e-eee4-ec328320398c"
      },
      "execution_count": null,
      "outputs": [
        {
          "output_type": "stream",
          "name": "stdout",
          "text": [
            "{'tcp': 1, 'udp': 2, 'icmp': 3}\n",
            "{'normal': 1, 'neptune': 2, 'warezclient': 3, 'ipsweep': 4, 'portsweep': 5, 'teardrop': 6, 'nmap': 7, 'satan': 8, 'smurf': 9, 'pod': 10, 'back': 11, 'guess_passwd': 12, 'ftp_write': 13, 'multihop': 14, 'rootkit': 15, 'buffer_overflow': 16, 'imap': 17, 'warezmaster': 18, 'phf': 19, 'land': 20, 'loadmodule': 21, 'spy': 22, 'perl': 23}\n",
            "{'ftp_data': 1, 'other': 2, 'private': 3, 'http': 4, 'remote_job': 5, 'name': 6, 'netbios_ns': 7, 'eco_i': 8, 'mtp': 9, 'telnet': 10, 'finger': 11, 'domain_u': 12, 'supdup': 13, 'uucp_path': 14, 'Z39_50': 15, 'smtp': 16, 'csnet_ns': 17, 'uucp': 18, 'netbios_dgm': 19, 'urp_i': 20, 'auth': 21, 'domain': 22, 'ftp': 23, 'bgp': 24, 'ldap': 25, 'ecr_i': 26, 'gopher': 27, 'vmnet': 28, 'systat': 29, 'http_443': 30, 'efs': 31, 'whois': 32, 'imap4': 33, 'iso_tsap': 34, 'echo': 35, 'klogin': 36, 'link': 37, 'sunrpc': 38, 'login': 39, 'kshell': 40, 'sql_net': 41, 'time': 42, 'hostnames': 43, 'exec': 44, 'ntp_u': 45, 'discard': 46, 'nntp': 47, 'courier': 48, 'ctf': 49, 'ssh': 50, 'daytime': 51, 'shell': 52, 'netstat': 53, 'pop_3': 54, 'nnsp': 55, 'IRC': 56, 'pop_2': 57, 'printer': 58, 'tim_i': 59, 'pm_dump': 60, 'red_i': 61, 'netbios_ssn': 62, 'rje': 63, 'X11': 64, 'urh_i': 65, 'http_8001': 66, 'aol': 67, 'http_2784': 68, 'tftp_u': 69, 'harvest': 70}\n",
            "{'SF': 1, 'S0': 2, 'REJ': 3, 'RSTR': 4, 'SH': 5, 'RSTO': 6, 'S1': 7, 'RSTOS0': 8, 'S3': 9, 'S2': 10, 'OTH': 11}\n"
          ]
        }
      ]
    },
    {
      "cell_type": "code",
      "source": [
        "df['protocol_type'] = df['protocol_type'].map(arr1v1)\n",
        "df['nameAttack'] = df['nameAttack'].map(arr2v1)\n",
        "\n",
        "df['service'] = df['service'].map(arr3v1)\n",
        "df['flag'] = df['flag'].map(arr4v1)\n"
      ],
      "metadata": {
        "id": "0o7LbKuVHB4R"
      },
      "execution_count": null,
      "outputs": []
    },
    {
      "cell_type": "code",
      "source": [
        "# df['protocol_type'] = df['protocol_type'].map(arr1v1)\n",
        "# df['nameAttack'] = df['nameAttack'].map(arr2v1)\n",
        "\n",
        "# df['service'] = df['service'].map(arr3v1)\n",
        "# df['flag'] = df['flag'].map(arr4v1)\n"
      ],
      "metadata": {
        "id": "oNafktmyI9Xi"
      },
      "execution_count": null,
      "outputs": []
    },
    {
      "cell_type": "code",
      "source": [
        "df['protocol_type'] = df['protocol_type'].astype (float)\n",
        "df['nameAttack'] = df['nameAttack'].astype (float)\n",
        "df['service'] = df['service'].astype (float)\n",
        "df['flag'] = df['flag'].astype (float)"
      ],
      "metadata": {
        "id": "vJHNT5BaH3SI"
      },
      "execution_count": null,
      "outputs": []
    },
    {
      "cell_type": "code",
      "source": [
        "(df.dtypes)"
      ],
      "metadata": {
        "colab": {
          "base_uri": "https://localhost:8080/"
        },
        "id": "KLaBsLIGHWC8",
        "outputId": "787fb155-771b-4eb6-ca05-871adce4f531"
      },
      "execution_count": null,
      "outputs": [
        {
          "output_type": "execute_result",
          "data": {
            "text/plain": [
              "duration                         int64\n",
              "protocol_type                  float64\n",
              "service                        float64\n",
              "flag                           float64\n",
              "src_bytes                        int64\n",
              "dst_bytes                        int64\n",
              "land                             int64\n",
              "wrong_fragment                   int64\n",
              "urgent                           int64\n",
              "hot                              int64\n",
              "num_failed_logins                int64\n",
              "logged_in                        int64\n",
              "num_compromised                  int64\n",
              "root_shell                       int64\n",
              "su_attempted                     int64\n",
              "num_root                         int64\n",
              "num_file_creations               int64\n",
              "num_shells                       int64\n",
              "num_access_files                 int64\n",
              "num_outbound_cmds                int64\n",
              "is_host_login                    int64\n",
              "is_guest_login                   int64\n",
              "count                            int64\n",
              "srv_count                        int64\n",
              "serror_rate                    float64\n",
              "srv_serror_rate                float64\n",
              "rerror_rate                    float64\n",
              "srv_rerror_rate                float64\n",
              "same_srv_rate                  float64\n",
              "diff_srv_rate                  float64\n",
              "srv_diff_host_rate             float64\n",
              "dst_host_count                   int64\n",
              "dst_host_srv_count               int64\n",
              "dst_host_same_srv_rate         float64\n",
              "dst_host_diff_srv_rate         float64\n",
              "dst_host_same_src_port_rate    float64\n",
              "dst_host_srv_diff_host_rate    float64\n",
              "dst_host_serror_rate           float64\n",
              "dst_host_srv_serror_rate       float64\n",
              "dst_host_rerror_rate           float64\n",
              "dst_host_srv_rerror_rate       float64\n",
              "nameAttack                     float64\n",
              "typeAttack                       int64\n",
              "dtype: object"
            ]
          },
          "metadata": {},
          "execution_count": 52
        }
      ]
    },
    {
      "cell_type": "code",
      "source": [
        "print(df.head())"
      ],
      "metadata": {
        "colab": {
          "base_uri": "https://localhost:8080/"
        },
        "id": "A8rQ_Vs2Hl11",
        "outputId": "09641d85-1335-4e14-847d-30d4459676e3"
      },
      "execution_count": null,
      "outputs": [
        {
          "output_type": "stream",
          "name": "stdout",
          "text": [
            "   duration  protocol_type  service  flag  src_bytes  dst_bytes  land  \\\n",
            "0         0            1.0      1.0   1.0        491          0     0   \n",
            "1         0            2.0      2.0   1.0        146          0     0   \n",
            "2         0            1.0      3.0   2.0          0          0     0   \n",
            "3         0            1.0      4.0   1.0        232       8153     0   \n",
            "4         0            1.0      4.0   1.0        199        420     0   \n",
            "\n",
            "   wrong_fragment  urgent  hot  ...  dst_host_same_srv_rate  \\\n",
            "0               0       0    0  ...                    0.17   \n",
            "1               0       0    0  ...                    0.00   \n",
            "2               0       0    0  ...                    0.10   \n",
            "3               0       0    0  ...                    1.00   \n",
            "4               0       0    0  ...                    1.00   \n",
            "\n",
            "   dst_host_diff_srv_rate  dst_host_same_src_port_rate  \\\n",
            "0                    0.03                         0.17   \n",
            "1                    0.60                         0.88   \n",
            "2                    0.05                         0.00   \n",
            "3                    0.00                         0.03   \n",
            "4                    0.00                         0.00   \n",
            "\n",
            "   dst_host_srv_diff_host_rate  dst_host_serror_rate  \\\n",
            "0                         0.00                  0.00   \n",
            "1                         0.00                  0.00   \n",
            "2                         0.00                  1.00   \n",
            "3                         0.04                  0.03   \n",
            "4                         0.00                  0.00   \n",
            "\n",
            "   dst_host_srv_serror_rate  dst_host_rerror_rate  dst_host_srv_rerror_rate  \\\n",
            "0                      0.00                  0.05                      0.00   \n",
            "1                      0.00                  0.00                      0.00   \n",
            "2                      1.00                  0.00                      0.00   \n",
            "3                      0.01                  0.00                      0.01   \n",
            "4                      0.00                  0.00                      0.00   \n",
            "\n",
            "   nameAttack  typeAttack  \n",
            "0         1.0          20  \n",
            "1         1.0          15  \n",
            "2         2.0          19  \n",
            "3         1.0          21  \n",
            "4         1.0          21  \n",
            "\n",
            "[5 rows x 43 columns]\n"
          ]
        }
      ]
    },
    {
      "cell_type": "code",
      "source": [
        "df.isna().sum() "
      ],
      "metadata": {
        "colab": {
          "base_uri": "https://localhost:8080/"
        },
        "id": "CxgYDuZeMh5J",
        "outputId": "a8b8c8a9-d418-4080-8066-21e49bfa1ccc"
      },
      "execution_count": null,
      "outputs": [
        {
          "output_type": "execute_result",
          "data": {
            "text/plain": [
              "duration                       0\n",
              "protocol_type                  0\n",
              "service                        0\n",
              "flag                           0\n",
              "src_bytes                      0\n",
              "dst_bytes                      0\n",
              "land                           0\n",
              "wrong_fragment                 0\n",
              "urgent                         0\n",
              "hot                            0\n",
              "num_failed_logins              0\n",
              "logged_in                      0\n",
              "num_compromised                0\n",
              "root_shell                     0\n",
              "su_attempted                   0\n",
              "num_root                       0\n",
              "num_file_creations             0\n",
              "num_shells                     0\n",
              "num_access_files               0\n",
              "num_outbound_cmds              0\n",
              "is_host_login                  0\n",
              "is_guest_login                 0\n",
              "count                          0\n",
              "srv_count                      0\n",
              "serror_rate                    0\n",
              "srv_serror_rate                0\n",
              "rerror_rate                    0\n",
              "srv_rerror_rate                0\n",
              "same_srv_rate                  0\n",
              "diff_srv_rate                  0\n",
              "srv_diff_host_rate             0\n",
              "dst_host_count                 0\n",
              "dst_host_srv_count             0\n",
              "dst_host_same_srv_rate         0\n",
              "dst_host_diff_srv_rate         0\n",
              "dst_host_same_src_port_rate    0\n",
              "dst_host_srv_diff_host_rate    0\n",
              "dst_host_serror_rate           0\n",
              "dst_host_srv_serror_rate       0\n",
              "dst_host_rerror_rate           0\n",
              "dst_host_srv_rerror_rate       0\n",
              "nameAttack                     0\n",
              "typeAttack                     0\n",
              "dtype: int64"
            ]
          },
          "metadata": {},
          "execution_count": 54
        }
      ]
    },
    {
      "cell_type": "code",
      "source": [
        "df = df.dropna() "
      ],
      "metadata": {
        "id": "pWOJFpx9OR1r"
      },
      "execution_count": null,
      "outputs": []
    },
    {
      "cell_type": "code",
      "source": [
        "# Конвертация столбца \"class\" в числовой формат\n",
        "#df[\"class\"] = pd.factorize(df[\"class\"])[0]"
      ],
      "metadata": {
        "id": "5fqGfpOiLzWC"
      },
      "execution_count": null,
      "outputs": []
    },
    {
      "cell_type": "code",
      "source": [
        "nameAttack = df.pop('nameAttack')\n",
        "typeAttack = df.pop('typeAttack')"
      ],
      "metadata": {
        "id": "aJ8OiI0oL0yj"
      },
      "execution_count": null,
      "outputs": []
    },
    {
      "cell_type": "code",
      "source": [
        "# for col1 in df.columns:\n",
        "#   if col1.find('_rate')>-1:\n",
        "#     dropped = df.pop(col1)"
      ],
      "metadata": {
        "id": "48ABhWjNT1GL"
      },
      "execution_count": null,
      "outputs": []
    },
    {
      "cell_type": "code",
      "source": [
        "# for col1 in df.columns:\n",
        "#   if col1.find('_login')>-1:\n",
        "#     dropped = df.pop(col1)"
      ],
      "metadata": {
        "id": "gjve_9qOVDlJ"
      },
      "execution_count": null,
      "outputs": []
    },
    {
      "cell_type": "code",
      "source": [
        "# for col1 in df.columns:\n",
        "#   if col1.find('_bytes')>-1:\n",
        "#     dropped = df.pop(col1)"
      ],
      "metadata": {
        "id": "Y_oRBdUQVR_J"
      },
      "execution_count": null,
      "outputs": []
    },
    {
      "cell_type": "code",
      "source": [
        "from sklearn import preprocessing\n",
        "dfN = preprocessing.normalize(df)"
      ],
      "metadata": {
        "id": "DMZigA-1MRfs"
      },
      "execution_count": null,
      "outputs": []
    },
    {
      "cell_type": "code",
      "source": [
        "from sklearn.model_selection import train_test_split\n",
        "X_train, X_test, y_train, y_test = train_test_split(dfN, nameAttack, test_size=0.2, random_state=1)"
      ],
      "metadata": {
        "id": "ltjN3GoIOd3B"
      },
      "execution_count": null,
      "outputs": []
    },
    {
      "cell_type": "code",
      "source": [
        "from keras.models import Sequential\n",
        "from keras.layers import Dense\n",
        "from keras import layers\n",
        "classifier = Sequential() # Инициализация НС\n",
        "classifier.add(Dense(units = 16, activation = 'relu', input_dim = 41))\n",
        "classifier.add(Dense(units = 8, activation = 'relu'))\n",
        "classifier.add(layers.Dropout(0.2))\n",
        "classifier.add(Dense(units = 6, activation = 'relu'))\n",
        "classifier.add(Dense(units = 1, activation = 'sigmoid'))"
      ],
      "metadata": {
        "id": "n2gkjRO9PAho"
      },
      "execution_count": null,
      "outputs": []
    },
    {
      "cell_type": "code",
      "source": [
        "# import tensorflow as tf\n",
        "# classifier = tf.keras.Sequential([\n",
        "#     tf.keras.layers.Dense(64, activation='relu', input_shape=[41]),\n",
        "#     tf.keras.layers.Dense(64, activation='relu'),\n",
        "#     tf.keras.layers.Dense(1, activation='sigmoid')\n",
        "# ])"
      ],
      "metadata": {
        "id": "iEDdcQDuRhqU"
      },
      "execution_count": null,
      "outputs": []
    },
    {
      "cell_type": "code",
      "source": [
        "# from keras.models import Sequential\n",
        "# from keras.optimizers import Adam\n",
        "# from keras import layers\n",
        "# classifier = Sequential() # Инициализация НС\n",
        "# classifier.add(layers.Flatten(input_dim = 26))\n",
        "# #classifier.add(Dense(units = 32, activation = 'relu', input_dim = 6))#6 - потому что на входе всего 6 чисел\n",
        "# classifier.add(layers.Dense(units = 512, activation = 'relu'))\n",
        "# classifier.add(layers.Dense(units = 256, activation = 'relu'))\n",
        "# classifier.add(layers.Dense(units = 128, activation = 'relu'))\n",
        "# classifier.add(layers.Dropout(0.3))\n",
        "# #classifier.add(layers.BatchNormalization())\n",
        "# classifier.add(layers.Dense(2, activation='softmax'))\n",
        "# classifier.add(layers.Dense(units = 1, activation = 'sigmoid'))"
      ],
      "metadata": {
        "id": "h7BjDCqNCDHp"
      },
      "execution_count": null,
      "outputs": []
    },
    {
      "cell_type": "code",
      "source": [
        "classifier.compile(optimizer = 'adam', loss = 'binary_crossentropy',metrics=['accuracy'])"
      ],
      "metadata": {
        "id": "3sHIZfPuPAZD"
      },
      "execution_count": null,
      "outputs": []
    },
    {
      "cell_type": "code",
      "source": [
        "hist1 = classifier.fit(X_train, y_train, batch_size = 32, epochs = 10)"
      ],
      "metadata": {
        "colab": {
          "base_uri": "https://localhost:8080/"
        },
        "id": "f-Y61x9IPAPb",
        "outputId": "13e26826-05a0-4954-9c00-0ec916a9779e"
      },
      "execution_count": null,
      "outputs": [
        {
          "output_type": "stream",
          "name": "stdout",
          "text": [
            "Epoch 1/10\n",
            "3150/3150 [==============================] - 11s 3ms/step - loss: -260538.2188 - accuracy: 0.5342\n",
            "Epoch 2/10\n",
            "3150/3150 [==============================] - 10s 3ms/step - loss: -2707018.7500 - accuracy: 0.5342\n",
            "Epoch 3/10\n",
            "3150/3150 [==============================] - 11s 3ms/step - loss: -9039746.0000 - accuracy: 0.5342\n",
            "Epoch 4/10\n",
            "3150/3150 [==============================] - 10s 3ms/step - loss: -20375992.0000 - accuracy: 0.5342\n",
            "Epoch 5/10\n",
            "3150/3150 [==============================] - 11s 3ms/step - loss: -37950060.0000 - accuracy: 0.5342\n",
            "Epoch 6/10\n",
            "3150/3150 [==============================] - 10s 3ms/step - loss: -62963380.0000 - accuracy: 0.5342\n",
            "Epoch 7/10\n",
            "3150/3150 [==============================] - 10s 3ms/step - loss: -96497400.0000 - accuracy: 0.5342\n",
            "Epoch 8/10\n",
            "3150/3150 [==============================] - 10s 3ms/step - loss: -139620704.0000 - accuracy: 0.5342\n",
            "Epoch 9/10\n",
            "3150/3150 [==============================] - 10s 3ms/step - loss: -193709328.0000 - accuracy: 0.5342\n",
            "Epoch 10/10\n",
            "3150/3150 [==============================] - 10s 3ms/step - loss: -259645120.0000 - accuracy: 0.5342\n"
          ]
        }
      ]
    },
    {
      "cell_type": "code",
      "source": [
        "\n"
      ],
      "metadata": {
        "id": "HORdvZwEk4HY"
      },
      "execution_count": null,
      "outputs": []
    },
    {
      "cell_type": "code",
      "source": [],
      "metadata": {
        "id": "RY0ZQYcwo5_h"
      },
      "execution_count": null,
      "outputs": []
    }
  ]
}