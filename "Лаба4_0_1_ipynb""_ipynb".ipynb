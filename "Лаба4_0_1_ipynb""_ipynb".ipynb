{
  "nbformat": 4,
  "nbformat_minor": 0,
  "metadata": {
    "colab": {
      "provenance": [],
      "include_colab_link": true
    },
    "kernelspec": {
      "name": "python3",
      "display_name": "Python 3"
    },
    "language_info": {
      "name": "python"
    },
    "accelerator": "GPU",
    "gpuClass": "standard"
  },
  "cells": [
    {
      "cell_type": "markdown",
      "metadata": {
        "id": "view-in-github",
        "colab_type": "text"
      },
      "source": [
        "<a href=\"https://colab.research.google.com/github/kulakovand/colabr_epo/blob/main/%22%D0%9B%D0%B0%D0%B1%D0%B04_0_1_ipynb%22%22_ipynb%22.ipynb\" target=\"_parent\"><img src=\"https://colab.research.google.com/assets/colab-badge.svg\" alt=\"Open In Colab\"/></a>"
      ]
    },
    {
      "cell_type": "code",
      "execution_count": null,
      "metadata": {
        "id": "avi7vi6vB2to",
        "colab": {
          "base_uri": "https://localhost:8080/"
        },
        "outputId": "71a23175-1a95-43c4-d5d2-38b6663ac4f1"
      },
      "outputs": [
        {
          "output_type": "stream",
          "name": "stdout",
          "text": [
            "Looking in indexes: https://pypi.org/simple, https://us-python.pkg.dev/colab-wheels/public/simple/\n",
            "Requirement already satisfied: tensorflow in /usr/local/lib/python3.9/dist-packages (2.11.0)\n",
            "Requirement already satisfied: gast<=0.4.0,>=0.2.1 in /usr/local/lib/python3.9/dist-packages (from tensorflow) (0.4.0)\n",
            "Requirement already satisfied: grpcio<2.0,>=1.24.3 in /usr/local/lib/python3.9/dist-packages (from tensorflow) (1.51.3)\n",
            "Requirement already satisfied: google-pasta>=0.1.1 in /usr/local/lib/python3.9/dist-packages (from tensorflow) (0.2.0)\n",
            "Requirement already satisfied: libclang>=13.0.0 in /usr/local/lib/python3.9/dist-packages (from tensorflow) (15.0.6.1)\n",
            "Requirement already satisfied: six>=1.12.0 in /usr/local/lib/python3.9/dist-packages (from tensorflow) (1.15.0)\n",
            "Requirement already satisfied: typing-extensions>=3.6.6 in /usr/local/lib/python3.9/dist-packages (from tensorflow) (4.5.0)\n",
            "Requirement already satisfied: keras<2.12,>=2.11.0 in /usr/local/lib/python3.9/dist-packages (from tensorflow) (2.11.0)\n",
            "Requirement already satisfied: termcolor>=1.1.0 in /usr/local/lib/python3.9/dist-packages (from tensorflow) (2.2.0)\n",
            "Requirement already satisfied: tensorflow-estimator<2.12,>=2.11.0 in /usr/local/lib/python3.9/dist-packages (from tensorflow) (2.11.0)\n",
            "Requirement already satisfied: astunparse>=1.6.0 in /usr/local/lib/python3.9/dist-packages (from tensorflow) (1.6.3)\n",
            "Requirement already satisfied: numpy>=1.20 in /usr/local/lib/python3.9/dist-packages (from tensorflow) (1.22.4)\n",
            "Requirement already satisfied: tensorboard<2.12,>=2.11 in /usr/local/lib/python3.9/dist-packages (from tensorflow) (2.11.2)\n",
            "Requirement already satisfied: opt-einsum>=2.3.2 in /usr/local/lib/python3.9/dist-packages (from tensorflow) (3.3.0)\n",
            "Requirement already satisfied: absl-py>=1.0.0 in /usr/local/lib/python3.9/dist-packages (from tensorflow) (1.4.0)\n",
            "Requirement already satisfied: tensorflow-io-gcs-filesystem>=0.23.1 in /usr/local/lib/python3.9/dist-packages (from tensorflow) (0.31.0)\n",
            "Requirement already satisfied: packaging in /usr/local/lib/python3.9/dist-packages (from tensorflow) (23.0)\n",
            "Requirement already satisfied: wrapt>=1.11.0 in /usr/local/lib/python3.9/dist-packages (from tensorflow) (1.15.0)\n",
            "Requirement already satisfied: flatbuffers>=2.0 in /usr/local/lib/python3.9/dist-packages (from tensorflow) (23.3.3)\n",
            "Requirement already satisfied: h5py>=2.9.0 in /usr/local/lib/python3.9/dist-packages (from tensorflow) (3.1.0)\n",
            "Requirement already satisfied: setuptools in /usr/local/lib/python3.9/dist-packages (from tensorflow) (57.4.0)\n",
            "Requirement already satisfied: protobuf<3.20,>=3.9.2 in /usr/local/lib/python3.9/dist-packages (from tensorflow) (3.19.6)\n",
            "Requirement already satisfied: wheel<1.0,>=0.23.0 in /usr/local/lib/python3.9/dist-packages (from astunparse>=1.6.0->tensorflow) (0.38.4)\n",
            "Requirement already satisfied: google-auth-oauthlib<0.5,>=0.4.1 in /usr/local/lib/python3.9/dist-packages (from tensorboard<2.12,>=2.11->tensorflow) (0.4.6)\n",
            "Requirement already satisfied: markdown>=2.6.8 in /usr/local/lib/python3.9/dist-packages (from tensorboard<2.12,>=2.11->tensorflow) (3.4.1)\n",
            "Requirement already satisfied: google-auth<3,>=1.6.3 in /usr/local/lib/python3.9/dist-packages (from tensorboard<2.12,>=2.11->tensorflow) (2.16.2)\n",
            "Requirement already satisfied: requests<3,>=2.21.0 in /usr/local/lib/python3.9/dist-packages (from tensorboard<2.12,>=2.11->tensorflow) (2.25.1)\n",
            "Requirement already satisfied: tensorboard-plugin-wit>=1.6.0 in /usr/local/lib/python3.9/dist-packages (from tensorboard<2.12,>=2.11->tensorflow) (1.8.1)\n",
            "Requirement already satisfied: werkzeug>=1.0.1 in /usr/local/lib/python3.9/dist-packages (from tensorboard<2.12,>=2.11->tensorflow) (2.2.3)\n",
            "Requirement already satisfied: tensorboard-data-server<0.7.0,>=0.6.0 in /usr/local/lib/python3.9/dist-packages (from tensorboard<2.12,>=2.11->tensorflow) (0.6.1)\n",
            "Requirement already satisfied: pyasn1-modules>=0.2.1 in /usr/local/lib/python3.9/dist-packages (from google-auth<3,>=1.6.3->tensorboard<2.12,>=2.11->tensorflow) (0.2.8)\n",
            "Requirement already satisfied: cachetools<6.0,>=2.0.0 in /usr/local/lib/python3.9/dist-packages (from google-auth<3,>=1.6.3->tensorboard<2.12,>=2.11->tensorflow) (5.3.0)\n",
            "Requirement already satisfied: rsa<5,>=3.1.4 in /usr/local/lib/python3.9/dist-packages (from google-auth<3,>=1.6.3->tensorboard<2.12,>=2.11->tensorflow) (4.9)\n",
            "Requirement already satisfied: requests-oauthlib>=0.7.0 in /usr/local/lib/python3.9/dist-packages (from google-auth-oauthlib<0.5,>=0.4.1->tensorboard<2.12,>=2.11->tensorflow) (1.3.1)\n",
            "Requirement already satisfied: importlib-metadata>=4.4 in /usr/local/lib/python3.9/dist-packages (from markdown>=2.6.8->tensorboard<2.12,>=2.11->tensorflow) (6.0.0)\n",
            "Requirement already satisfied: certifi>=2017.4.17 in /usr/local/lib/python3.9/dist-packages (from requests<3,>=2.21.0->tensorboard<2.12,>=2.11->tensorflow) (2022.12.7)\n",
            "Requirement already satisfied: chardet<5,>=3.0.2 in /usr/local/lib/python3.9/dist-packages (from requests<3,>=2.21.0->tensorboard<2.12,>=2.11->tensorflow) (4.0.0)\n",
            "Requirement already satisfied: idna<3,>=2.5 in /usr/local/lib/python3.9/dist-packages (from requests<3,>=2.21.0->tensorboard<2.12,>=2.11->tensorflow) (2.10)\n",
            "Requirement already satisfied: urllib3<1.27,>=1.21.1 in /usr/local/lib/python3.9/dist-packages (from requests<3,>=2.21.0->tensorboard<2.12,>=2.11->tensorflow) (1.26.14)\n",
            "Requirement already satisfied: MarkupSafe>=2.1.1 in /usr/local/lib/python3.9/dist-packages (from werkzeug>=1.0.1->tensorboard<2.12,>=2.11->tensorflow) (2.1.2)\n",
            "Requirement already satisfied: zipp>=0.5 in /usr/local/lib/python3.9/dist-packages (from importlib-metadata>=4.4->markdown>=2.6.8->tensorboard<2.12,>=2.11->tensorflow) (3.15.0)\n",
            "Requirement already satisfied: pyasn1<0.5.0,>=0.4.6 in /usr/local/lib/python3.9/dist-packages (from pyasn1-modules>=0.2.1->google-auth<3,>=1.6.3->tensorboard<2.12,>=2.11->tensorflow) (0.4.8)\n",
            "Requirement already satisfied: oauthlib>=3.0.0 in /usr/local/lib/python3.9/dist-packages (from requests-oauthlib>=0.7.0->google-auth-oauthlib<0.5,>=0.4.1->tensorboard<2.12,>=2.11->tensorflow) (3.2.2)\n"
          ]
        }
      ],
      "source": [
        "!pip install tensorflow  # для выполнения данной работы рекомендуется  1.14"
      ]
    },
    {
      "cell_type": "code",
      "source": [
        "!pip install -q seaborn # при необходимости"
      ],
      "metadata": {
        "id": "4NJitss0EiN0"
      },
      "execution_count": null,
      "outputs": []
    },
    {
      "cell_type": "code",
      "source": [
        "import tensorflow as tf\n",
        "import pandas as pd\n",
        "import keras as ks\n",
        "\n",
        "\n",
        "import matplotlib.pyplot as plt\n",
        "import seaborn as sns"
      ],
      "metadata": {
        "id": "WyTfSNo1FY0Y"
      },
      "execution_count": null,
      "outputs": []
    },
    {
      "cell_type": "code",
      "source": [
        "# проверка отго что мы таки переключили эту среду выполнения на гпу\n",
        "tf.test.gpu_device_name() # в случае успешности будет выдан примерно такойрезультат '/device:GPU:0' "
      ],
      "metadata": {
        "id": "ueXRa9lTGuS3",
        "colab": {
          "base_uri": "https://localhost:8080/",
          "height": 36
        },
        "outputId": "5e8198ca-85b9-4343-b9f8-e1f38a7ac054"
      },
      "execution_count": null,
      "outputs": [
        {
          "output_type": "execute_result",
          "data": {
            "text/plain": [
              "'/device:GPU:0'"
            ],
            "application/vnd.google.colaboratory.intrinsic+json": {
              "type": "string"
            }
          },
          "metadata": {},
          "execution_count": 4
        }
      ]
    },
    {
      "cell_type": "code",
      "source": [
        "!pip install -q  sklearn"
      ],
      "metadata": {
        "id": "wr_E9-mIMJfh",
        "colab": {
          "base_uri": "https://localhost:8080/"
        },
        "outputId": "1c166047-35c2-4025-acfa-1033aae21515"
      },
      "execution_count": null,
      "outputs": [
        {
          "output_type": "stream",
          "name": "stdout",
          "text": [
            "  Preparing metadata (setup.py) ... \u001b[?25l\u001b[?25hdone\n",
            "  Building wheel for sklearn (setup.py) ... \u001b[?25l\u001b[?25hdone\n"
          ]
        }
      ]
    },
    {
      "cell_type": "code",
      "source": [
        "from sklearn.datasets import load_breast_cancer\n",
        "data = load_breast_cancer()\n",
        "import numpy as np\n",
        "from sklearn.model_selection import train_test_split"
      ],
      "metadata": {
        "id": "7AL9H4uKMc2p"
      },
      "execution_count": null,
      "outputs": []
    },
    {
      "cell_type": "code",
      "source": [
        "type(data)"
      ],
      "metadata": {
        "id": "wrSIzQjkF15C",
        "outputId": "e36c9025-0c04-4c27-f826-8c9bb94b954b",
        "colab": {
          "base_uri": "https://localhost:8080/"
        }
      },
      "execution_count": null,
      "outputs": [
        {
          "output_type": "execute_result",
          "data": {
            "text/plain": [
              "sklearn.utils._bunch.Bunch"
            ]
          },
          "metadata": {},
          "execution_count": 7
        }
      ]
    },
    {
      "cell_type": "code",
      "source": [
        "x,y = load_breast_cancer(return_X_y=True)\n",
        "\n",
        "# 2 варианта создать датасеты                     \n",
        "X_train, X_test, y_train, y_test = train_test_split(x, y, test_size=0.4, random_state=True)\n",
        "#X_train, X_test,y_train, y_test = train_test_split(x,y ,random_state=104,test_size=0.25, shuffle=True)\n",
        "\n",
        "# printing out train and test sets\n",
        "print('X_train : ')\n",
        "print(len(X_train))\n",
        "print('')\n",
        "print('X_test : ')\n",
        "print(len(X_test))\n",
        "print('')\n",
        "print('y_train : ')\n",
        "print(len(y_train))\n",
        "print('')\n",
        "print('y_test : ')\n",
        "print(len(y_test))"
      ],
      "metadata": {
        "id": "CS2DQNXuMhsz",
        "colab": {
          "base_uri": "https://localhost:8080/"
        },
        "outputId": "3684c0eb-0ec5-436c-935b-53278a5c0994"
      },
      "execution_count": null,
      "outputs": [
        {
          "output_type": "stream",
          "name": "stdout",
          "text": [
            "X_train : \n",
            "341\n",
            "\n",
            "X_test : \n",
            "228\n",
            "\n",
            "y_train : \n",
            "341\n",
            "\n",
            "y_test : \n",
            "228\n"
          ]
        }
      ]
    },
    {
      "cell_type": "code",
      "source": [
        "# так-же, как вариант, можно в интернете найти файлы Breast Cancer Wisconsin (Diagnostic) Data Set исоздать свой набор данных\n",
        "#from google.colab import files\n",
        "#file = files.upload()\n",
        "#X_train = pd.read_csv(\"xtrain.csv\", header=None)\n",
        "#Y_train = pd.read_csv(\"ytrain.csv\", header=None)\n",
        "#X_test = pd.read_csv(\"xtest.csv\", header=None)\n",
        "#Y_test = pd.read_csv(\"ytest.csv\", header=None)\n",
        "\n",
        "\n",
        "from keras.models import Sequential\n",
        "from keras.layers import Dense\n",
        "classifier = Sequential() # Инициализация НС\n",
        "classifier.add(Dense(units = 16, activation = 'relu', input_dim = 30))\n",
        "classifier.add(Dense(units = 8, activation = 'relu'))\n",
        "classifier.add(Dense(units = 6, activation = 'relu'))\n",
        "classifier.add(Dense(units = 1, activation = 'sigmoid'))"
      ],
      "metadata": {
        "id": "wLLvOIL0FUq2"
      },
      "execution_count": null,
      "outputs": []
    },
    {
      "cell_type": "code",
      "source": [
        "classifier.compile(optimizer = 'rmsprop', loss = 'binary_crossentropy', metrics=['accuracy'])"
      ],
      "metadata": {
        "id": "1UM0nbGrPxpJ"
      },
      "execution_count": null,
      "outputs": []
    },
    {
      "cell_type": "code",
      "source": [
        "historyfit = classifier.fit(X_train, y_train, batch_size = 20, epochs = 200)"
      ],
      "metadata": {
        "id": "eVcHO-6nP3YR",
        "colab": {
          "base_uri": "https://localhost:8080/"
        },
        "outputId": "5436a765-e887-4cea-aa9a-62317468ed4f"
      },
      "execution_count": null,
      "outputs": [
        {
          "output_type": "stream",
          "name": "stdout",
          "text": [
            "Epoch 1/200\n",
            "18/18 [==============================] - 1s 4ms/step - loss: 0.1486 - accuracy: 0.9326\n",
            "Epoch 2/200\n",
            "18/18 [==============================] - 0s 4ms/step - loss: 0.2063 - accuracy: 0.9208\n",
            "Epoch 3/200\n",
            "18/18 [==============================] - 0s 4ms/step - loss: 0.1532 - accuracy: 0.9384\n",
            "Epoch 4/200\n",
            "18/18 [==============================] - 0s 4ms/step - loss: 0.1814 - accuracy: 0.9384\n",
            "Epoch 5/200\n",
            "18/18 [==============================] - 0s 5ms/step - loss: 0.1785 - accuracy: 0.9267\n",
            "Epoch 6/200\n",
            "18/18 [==============================] - 0s 4ms/step - loss: 0.1758 - accuracy: 0.9413\n",
            "Epoch 7/200\n",
            "18/18 [==============================] - 0s 4ms/step - loss: 0.1597 - accuracy: 0.9296\n",
            "Epoch 8/200\n",
            "18/18 [==============================] - 0s 4ms/step - loss: 0.1502 - accuracy: 0.9208\n",
            "Epoch 9/200\n",
            "18/18 [==============================] - 0s 4ms/step - loss: 0.1541 - accuracy: 0.9326\n",
            "Epoch 10/200\n",
            "18/18 [==============================] - 0s 4ms/step - loss: 0.1833 - accuracy: 0.9384\n",
            "Epoch 11/200\n",
            "18/18 [==============================] - 0s 4ms/step - loss: 0.1595 - accuracy: 0.9384\n",
            "Epoch 12/200\n",
            "18/18 [==============================] - 0s 4ms/step - loss: 0.1552 - accuracy: 0.9326\n",
            "Epoch 13/200\n",
            "18/18 [==============================] - 0s 4ms/step - loss: 0.1366 - accuracy: 0.9267\n",
            "Epoch 14/200\n",
            "18/18 [==============================] - 0s 4ms/step - loss: 0.1681 - accuracy: 0.9384\n",
            "Epoch 15/200\n",
            "18/18 [==============================] - 0s 4ms/step - loss: 0.1754 - accuracy: 0.9150\n",
            "Epoch 16/200\n",
            "18/18 [==============================] - 0s 4ms/step - loss: 0.1683 - accuracy: 0.9472\n",
            "Epoch 17/200\n",
            "18/18 [==============================] - 0s 4ms/step - loss: 0.1781 - accuracy: 0.9267\n",
            "Epoch 18/200\n",
            "18/18 [==============================] - 0s 4ms/step - loss: 0.1546 - accuracy: 0.9326\n",
            "Epoch 19/200\n",
            "18/18 [==============================] - 0s 4ms/step - loss: 0.1765 - accuracy: 0.9267\n",
            "Epoch 20/200\n",
            "18/18 [==============================] - 0s 4ms/step - loss: 0.1505 - accuracy: 0.9296\n",
            "Epoch 21/200\n",
            "18/18 [==============================] - 0s 4ms/step - loss: 0.1766 - accuracy: 0.9326\n",
            "Epoch 22/200\n",
            "18/18 [==============================] - 0s 4ms/step - loss: 0.1895 - accuracy: 0.9238\n",
            "Epoch 23/200\n",
            "18/18 [==============================] - 0s 4ms/step - loss: 0.1615 - accuracy: 0.9296\n",
            "Epoch 24/200\n",
            "18/18 [==============================] - 0s 4ms/step - loss: 0.1705 - accuracy: 0.9384\n",
            "Epoch 25/200\n",
            "18/18 [==============================] - 0s 4ms/step - loss: 0.2084 - accuracy: 0.9179\n",
            "Epoch 26/200\n",
            "18/18 [==============================] - 0s 4ms/step - loss: 0.1615 - accuracy: 0.9238\n",
            "Epoch 27/200\n",
            "18/18 [==============================] - 0s 4ms/step - loss: 0.1499 - accuracy: 0.9208\n",
            "Epoch 28/200\n",
            "18/18 [==============================] - 0s 4ms/step - loss: 0.1602 - accuracy: 0.9443\n",
            "Epoch 29/200\n",
            "18/18 [==============================] - 0s 4ms/step - loss: 0.1569 - accuracy: 0.9355\n",
            "Epoch 30/200\n",
            "18/18 [==============================] - 0s 4ms/step - loss: 0.1609 - accuracy: 0.9443\n",
            "Epoch 31/200\n",
            "18/18 [==============================] - 0s 4ms/step - loss: 0.1574 - accuracy: 0.9355\n",
            "Epoch 32/200\n",
            "18/18 [==============================] - 0s 5ms/step - loss: 0.1643 - accuracy: 0.9091\n",
            "Epoch 33/200\n",
            "18/18 [==============================] - 0s 4ms/step - loss: 0.1543 - accuracy: 0.9355\n",
            "Epoch 34/200\n",
            "18/18 [==============================] - 0s 4ms/step - loss: 0.1545 - accuracy: 0.9384\n",
            "Epoch 35/200\n",
            "18/18 [==============================] - 0s 4ms/step - loss: 0.1689 - accuracy: 0.9238\n",
            "Epoch 36/200\n",
            "18/18 [==============================] - 0s 4ms/step - loss: 0.1865 - accuracy: 0.9355\n",
            "Epoch 37/200\n",
            "18/18 [==============================] - 0s 4ms/step - loss: 0.1567 - accuracy: 0.9326\n",
            "Epoch 38/200\n",
            "18/18 [==============================] - 0s 4ms/step - loss: 0.1517 - accuracy: 0.9267\n",
            "Epoch 39/200\n",
            "18/18 [==============================] - 0s 4ms/step - loss: 0.1762 - accuracy: 0.9150\n",
            "Epoch 40/200\n",
            "18/18 [==============================] - 0s 4ms/step - loss: 0.1702 - accuracy: 0.9267\n",
            "Epoch 41/200\n",
            "18/18 [==============================] - 0s 4ms/step - loss: 0.1560 - accuracy: 0.9384\n",
            "Epoch 42/200\n",
            "18/18 [==============================] - 0s 7ms/step - loss: 0.1757 - accuracy: 0.9267\n",
            "Epoch 43/200\n",
            "18/18 [==============================] - 0s 6ms/step - loss: 0.1503 - accuracy: 0.9355\n",
            "Epoch 44/200\n",
            "18/18 [==============================] - 0s 5ms/step - loss: 0.1791 - accuracy: 0.9296\n",
            "Epoch 45/200\n",
            "18/18 [==============================] - 0s 6ms/step - loss: 0.1620 - accuracy: 0.9296\n",
            "Epoch 46/200\n",
            "18/18 [==============================] - 0s 5ms/step - loss: 0.1651 - accuracy: 0.9355\n",
            "Epoch 47/200\n",
            "18/18 [==============================] - 0s 5ms/step - loss: 0.2044 - accuracy: 0.9384\n",
            "Epoch 48/200\n",
            "18/18 [==============================] - 0s 5ms/step - loss: 0.1536 - accuracy: 0.9296\n",
            "Epoch 49/200\n",
            "18/18 [==============================] - 0s 5ms/step - loss: 0.1520 - accuracy: 0.9384\n",
            "Epoch 50/200\n",
            "18/18 [==============================] - 0s 5ms/step - loss: 0.1484 - accuracy: 0.9472\n",
            "Epoch 51/200\n",
            "18/18 [==============================] - 0s 5ms/step - loss: 0.1557 - accuracy: 0.9413\n",
            "Epoch 52/200\n",
            "18/18 [==============================] - 0s 6ms/step - loss: 0.1462 - accuracy: 0.9472\n",
            "Epoch 53/200\n",
            "18/18 [==============================] - 0s 6ms/step - loss: 0.1504 - accuracy: 0.9296\n",
            "Epoch 54/200\n",
            "18/18 [==============================] - 0s 5ms/step - loss: 0.1519 - accuracy: 0.9413\n",
            "Epoch 55/200\n",
            "18/18 [==============================] - 0s 5ms/step - loss: 0.1412 - accuracy: 0.9326\n",
            "Epoch 56/200\n",
            "18/18 [==============================] - 0s 6ms/step - loss: 0.1605 - accuracy: 0.9413\n",
            "Epoch 57/200\n",
            "18/18 [==============================] - 0s 5ms/step - loss: 0.1458 - accuracy: 0.9413\n",
            "Epoch 58/200\n",
            "18/18 [==============================] - 0s 5ms/step - loss: 0.1585 - accuracy: 0.9355\n",
            "Epoch 59/200\n",
            "18/18 [==============================] - 0s 6ms/step - loss: 0.1577 - accuracy: 0.9384\n",
            "Epoch 60/200\n",
            "18/18 [==============================] - 0s 8ms/step - loss: 0.1452 - accuracy: 0.9413\n",
            "Epoch 61/200\n",
            "18/18 [==============================] - 0s 7ms/step - loss: 0.1529 - accuracy: 0.9296\n",
            "Epoch 62/200\n",
            "18/18 [==============================] - 0s 6ms/step - loss: 0.1680 - accuracy: 0.9238\n",
            "Epoch 63/200\n",
            "18/18 [==============================] - 0s 10ms/step - loss: 0.1596 - accuracy: 0.9150\n",
            "Epoch 64/200\n",
            "18/18 [==============================] - 0s 8ms/step - loss: 0.1551 - accuracy: 0.9238\n",
            "Epoch 65/200\n",
            "18/18 [==============================] - 0s 8ms/step - loss: 0.1597 - accuracy: 0.9238\n",
            "Epoch 66/200\n",
            "18/18 [==============================] - 0s 9ms/step - loss: 0.1735 - accuracy: 0.9384\n",
            "Epoch 67/200\n",
            "18/18 [==============================] - 0s 13ms/step - loss: 0.1525 - accuracy: 0.9355\n",
            "Epoch 68/200\n",
            "18/18 [==============================] - 0s 15ms/step - loss: 0.1483 - accuracy: 0.9355\n",
            "Epoch 69/200\n",
            "18/18 [==============================] - 0s 11ms/step - loss: 0.1537 - accuracy: 0.9326\n",
            "Epoch 70/200\n",
            "18/18 [==============================] - 0s 20ms/step - loss: 0.1549 - accuracy: 0.9296\n",
            "Epoch 71/200\n",
            "18/18 [==============================] - 0s 8ms/step - loss: 0.1475 - accuracy: 0.9296\n",
            "Epoch 72/200\n",
            "18/18 [==============================] - 0s 12ms/step - loss: 0.1656 - accuracy: 0.9238\n",
            "Epoch 73/200\n",
            "18/18 [==============================] - 0s 12ms/step - loss: 0.1616 - accuracy: 0.9443\n",
            "Epoch 74/200\n",
            "18/18 [==============================] - 0s 8ms/step - loss: 0.1539 - accuracy: 0.9296\n",
            "Epoch 75/200\n",
            "18/18 [==============================] - 0s 7ms/step - loss: 0.1609 - accuracy: 0.9384\n",
            "Epoch 76/200\n",
            "18/18 [==============================] - 0s 8ms/step - loss: 0.1565 - accuracy: 0.9326\n",
            "Epoch 77/200\n",
            "18/18 [==============================] - 0s 12ms/step - loss: 0.1708 - accuracy: 0.9326\n",
            "Epoch 78/200\n",
            "18/18 [==============================] - 0s 8ms/step - loss: 0.1538 - accuracy: 0.9238\n",
            "Epoch 79/200\n",
            "18/18 [==============================] - 0s 6ms/step - loss: 0.1761 - accuracy: 0.9443\n",
            "Epoch 80/200\n",
            "18/18 [==============================] - 0s 5ms/step - loss: 0.1524 - accuracy: 0.9296\n",
            "Epoch 81/200\n",
            "18/18 [==============================] - 0s 5ms/step - loss: 0.1525 - accuracy: 0.9413\n",
            "Epoch 82/200\n",
            "18/18 [==============================] - 0s 4ms/step - loss: 0.1490 - accuracy: 0.9443\n",
            "Epoch 83/200\n",
            "18/18 [==============================] - 0s 4ms/step - loss: 0.1477 - accuracy: 0.9443\n",
            "Epoch 84/200\n",
            "18/18 [==============================] - 0s 4ms/step - loss: 0.1519 - accuracy: 0.9472\n",
            "Epoch 85/200\n",
            "18/18 [==============================] - 0s 4ms/step - loss: 0.1565 - accuracy: 0.9355\n",
            "Epoch 86/200\n",
            "18/18 [==============================] - 0s 4ms/step - loss: 0.1664 - accuracy: 0.9296\n",
            "Epoch 87/200\n",
            "18/18 [==============================] - 0s 4ms/step - loss: 0.1608 - accuracy: 0.9355\n",
            "Epoch 88/200\n",
            "18/18 [==============================] - 0s 4ms/step - loss: 0.1452 - accuracy: 0.9384\n",
            "Epoch 89/200\n",
            "18/18 [==============================] - 0s 4ms/step - loss: 0.1580 - accuracy: 0.9296\n",
            "Epoch 90/200\n",
            "18/18 [==============================] - 0s 4ms/step - loss: 0.1492 - accuracy: 0.9413\n",
            "Epoch 91/200\n",
            "18/18 [==============================] - 0s 4ms/step - loss: 0.1737 - accuracy: 0.9296\n",
            "Epoch 92/200\n",
            "18/18 [==============================] - 0s 4ms/step - loss: 0.1444 - accuracy: 0.9413\n",
            "Epoch 93/200\n",
            "18/18 [==============================] - 0s 4ms/step - loss: 0.1455 - accuracy: 0.9443\n",
            "Epoch 94/200\n",
            "18/18 [==============================] - 0s 4ms/step - loss: 0.1610 - accuracy: 0.9472\n",
            "Epoch 95/200\n",
            "18/18 [==============================] - 0s 4ms/step - loss: 0.1623 - accuracy: 0.9413\n",
            "Epoch 96/200\n",
            "18/18 [==============================] - 0s 4ms/step - loss: 0.1522 - accuracy: 0.9413\n",
            "Epoch 97/200\n",
            "18/18 [==============================] - 0s 4ms/step - loss: 0.1680 - accuracy: 0.9267\n",
            "Epoch 98/200\n",
            "18/18 [==============================] - 0s 5ms/step - loss: 0.1512 - accuracy: 0.9296\n",
            "Epoch 99/200\n",
            "18/18 [==============================] - 0s 4ms/step - loss: 0.1756 - accuracy: 0.9267\n",
            "Epoch 100/200\n",
            "18/18 [==============================] - 0s 5ms/step - loss: 0.1479 - accuracy: 0.9443\n",
            "Epoch 101/200\n",
            "18/18 [==============================] - 0s 4ms/step - loss: 0.1626 - accuracy: 0.9296\n",
            "Epoch 102/200\n",
            "18/18 [==============================] - 0s 4ms/step - loss: 0.1502 - accuracy: 0.9267\n",
            "Epoch 103/200\n",
            "18/18 [==============================] - 0s 4ms/step - loss: 0.1577 - accuracy: 0.9296\n",
            "Epoch 104/200\n",
            "18/18 [==============================] - 0s 4ms/step - loss: 0.1400 - accuracy: 0.9384\n",
            "Epoch 105/200\n",
            "18/18 [==============================] - 0s 4ms/step - loss: 0.1555 - accuracy: 0.9238\n",
            "Epoch 106/200\n",
            "18/18 [==============================] - 0s 4ms/step - loss: 0.1414 - accuracy: 0.9443\n",
            "Epoch 107/200\n",
            "18/18 [==============================] - 0s 4ms/step - loss: 0.1768 - accuracy: 0.9296\n",
            "Epoch 108/200\n",
            "18/18 [==============================] - 0s 4ms/step - loss: 0.1389 - accuracy: 0.9384\n",
            "Epoch 109/200\n",
            "18/18 [==============================] - 0s 4ms/step - loss: 0.1560 - accuracy: 0.9384\n",
            "Epoch 110/200\n",
            "18/18 [==============================] - 0s 4ms/step - loss: 0.1435 - accuracy: 0.9296\n",
            "Epoch 111/200\n",
            "18/18 [==============================] - 0s 4ms/step - loss: 0.1519 - accuracy: 0.9413\n",
            "Epoch 112/200\n",
            "18/18 [==============================] - 0s 4ms/step - loss: 0.1590 - accuracy: 0.9413\n",
            "Epoch 113/200\n",
            "18/18 [==============================] - 0s 5ms/step - loss: 0.1491 - accuracy: 0.9355\n",
            "Epoch 114/200\n",
            "18/18 [==============================] - 0s 4ms/step - loss: 0.1573 - accuracy: 0.9384\n",
            "Epoch 115/200\n",
            "18/18 [==============================] - 0s 4ms/step - loss: 0.1481 - accuracy: 0.9384\n",
            "Epoch 116/200\n",
            "18/18 [==============================] - 0s 4ms/step - loss: 0.1473 - accuracy: 0.9413\n",
            "Epoch 117/200\n",
            "18/18 [==============================] - 0s 4ms/step - loss: 0.1811 - accuracy: 0.9355\n",
            "Epoch 118/200\n",
            "18/18 [==============================] - 0s 4ms/step - loss: 0.1533 - accuracy: 0.9355\n",
            "Epoch 119/200\n",
            "18/18 [==============================] - 0s 5ms/step - loss: 0.1702 - accuracy: 0.9355\n",
            "Epoch 120/200\n",
            "18/18 [==============================] - 0s 4ms/step - loss: 0.1448 - accuracy: 0.9501\n",
            "Epoch 121/200\n",
            "18/18 [==============================] - 0s 4ms/step - loss: 0.1429 - accuracy: 0.9413\n",
            "Epoch 122/200\n",
            "18/18 [==============================] - 0s 4ms/step - loss: 0.1495 - accuracy: 0.9531\n",
            "Epoch 123/200\n",
            "18/18 [==============================] - 0s 4ms/step - loss: 0.1507 - accuracy: 0.9384\n",
            "Epoch 124/200\n",
            "18/18 [==============================] - 0s 4ms/step - loss: 0.1511 - accuracy: 0.9384\n",
            "Epoch 125/200\n",
            "18/18 [==============================] - 0s 5ms/step - loss: 0.1636 - accuracy: 0.9384\n",
            "Epoch 126/200\n",
            "18/18 [==============================] - 0s 4ms/step - loss: 0.1374 - accuracy: 0.9296\n",
            "Epoch 127/200\n",
            "18/18 [==============================] - 0s 4ms/step - loss: 0.1557 - accuracy: 0.9326\n",
            "Epoch 128/200\n",
            "18/18 [==============================] - 0s 4ms/step - loss: 0.1500 - accuracy: 0.9384\n",
            "Epoch 129/200\n",
            "18/18 [==============================] - 0s 4ms/step - loss: 0.1475 - accuracy: 0.9296\n",
            "Epoch 130/200\n",
            "18/18 [==============================] - 0s 4ms/step - loss: 0.1497 - accuracy: 0.9384\n",
            "Epoch 131/200\n",
            "18/18 [==============================] - 0s 4ms/step - loss: 0.1554 - accuracy: 0.9384\n",
            "Epoch 132/200\n",
            "18/18 [==============================] - 0s 5ms/step - loss: 0.1433 - accuracy: 0.9443\n",
            "Epoch 133/200\n",
            "18/18 [==============================] - 0s 4ms/step - loss: 0.1518 - accuracy: 0.9443\n",
            "Epoch 134/200\n",
            "18/18 [==============================] - 0s 5ms/step - loss: 0.1442 - accuracy: 0.9413\n",
            "Epoch 135/200\n",
            "18/18 [==============================] - 0s 4ms/step - loss: 0.1694 - accuracy: 0.9384\n",
            "Epoch 136/200\n",
            "18/18 [==============================] - 0s 4ms/step - loss: 0.1537 - accuracy: 0.9413\n",
            "Epoch 137/200\n",
            "18/18 [==============================] - 0s 4ms/step - loss: 0.1358 - accuracy: 0.9413\n",
            "Epoch 138/200\n",
            "18/18 [==============================] - 0s 4ms/step - loss: 0.1554 - accuracy: 0.9296\n",
            "Epoch 139/200\n",
            "18/18 [==============================] - 0s 4ms/step - loss: 0.1496 - accuracy: 0.9384\n",
            "Epoch 140/200\n",
            "18/18 [==============================] - 0s 4ms/step - loss: 0.1506 - accuracy: 0.9296\n",
            "Epoch 141/200\n",
            "18/18 [==============================] - 0s 4ms/step - loss: 0.1449 - accuracy: 0.9384\n",
            "Epoch 142/200\n",
            "18/18 [==============================] - 0s 4ms/step - loss: 0.1570 - accuracy: 0.9296\n",
            "Epoch 143/200\n",
            "18/18 [==============================] - 0s 4ms/step - loss: 0.1487 - accuracy: 0.9413\n",
            "Epoch 144/200\n",
            "18/18 [==============================] - 0s 5ms/step - loss: 0.1476 - accuracy: 0.9472\n",
            "Epoch 145/200\n",
            "18/18 [==============================] - 0s 4ms/step - loss: 0.1548 - accuracy: 0.9355\n",
            "Epoch 146/200\n",
            "18/18 [==============================] - 0s 4ms/step - loss: 0.1646 - accuracy: 0.9238\n",
            "Epoch 147/200\n",
            "18/18 [==============================] - 0s 4ms/step - loss: 0.1452 - accuracy: 0.9443\n",
            "Epoch 148/200\n",
            "18/18 [==============================] - 0s 4ms/step - loss: 0.1600 - accuracy: 0.9326\n",
            "Epoch 149/200\n",
            "18/18 [==============================] - 0s 4ms/step - loss: 0.1245 - accuracy: 0.9443\n",
            "Epoch 150/200\n",
            "18/18 [==============================] - 0s 5ms/step - loss: 0.1881 - accuracy: 0.9326\n",
            "Epoch 151/200\n",
            "18/18 [==============================] - 0s 4ms/step - loss: 0.1505 - accuracy: 0.9413\n",
            "Epoch 152/200\n",
            "18/18 [==============================] - 0s 4ms/step - loss: 0.1412 - accuracy: 0.9413\n",
            "Epoch 153/200\n",
            "18/18 [==============================] - 0s 4ms/step - loss: 0.1490 - accuracy: 0.9355\n",
            "Epoch 154/200\n",
            "18/18 [==============================] - 0s 4ms/step - loss: 0.1396 - accuracy: 0.9296\n",
            "Epoch 155/200\n",
            "18/18 [==============================] - 0s 4ms/step - loss: 0.1388 - accuracy: 0.9355\n",
            "Epoch 156/200\n",
            "18/18 [==============================] - 0s 4ms/step - loss: 0.1481 - accuracy: 0.9443\n",
            "Epoch 157/200\n",
            "18/18 [==============================] - 0s 4ms/step - loss: 0.1643 - accuracy: 0.9208\n",
            "Epoch 158/200\n",
            "18/18 [==============================] - 0s 4ms/step - loss: 0.1472 - accuracy: 0.9355\n",
            "Epoch 159/200\n",
            "18/18 [==============================] - 0s 4ms/step - loss: 0.1582 - accuracy: 0.9355\n",
            "Epoch 160/200\n",
            "18/18 [==============================] - 0s 4ms/step - loss: 0.1493 - accuracy: 0.9326\n",
            "Epoch 161/200\n",
            "18/18 [==============================] - 0s 4ms/step - loss: 0.1624 - accuracy: 0.9443\n",
            "Epoch 162/200\n",
            "18/18 [==============================] - 0s 5ms/step - loss: 0.1580 - accuracy: 0.9355\n",
            "Epoch 163/200\n",
            "18/18 [==============================] - 0s 4ms/step - loss: 0.1626 - accuracy: 0.9355\n",
            "Epoch 164/200\n",
            "18/18 [==============================] - 0s 4ms/step - loss: 0.1451 - accuracy: 0.9413\n",
            "Epoch 165/200\n",
            "18/18 [==============================] - 0s 4ms/step - loss: 0.1480 - accuracy: 0.9326\n",
            "Epoch 166/200\n",
            "18/18 [==============================] - 0s 4ms/step - loss: 0.1583 - accuracy: 0.9413\n",
            "Epoch 167/200\n",
            "18/18 [==============================] - 0s 4ms/step - loss: 0.1348 - accuracy: 0.9413\n",
            "Epoch 168/200\n",
            "18/18 [==============================] - 0s 4ms/step - loss: 0.1388 - accuracy: 0.9355\n",
            "Epoch 169/200\n",
            "18/18 [==============================] - 0s 4ms/step - loss: 0.1562 - accuracy: 0.9413\n",
            "Epoch 170/200\n",
            "18/18 [==============================] - 0s 4ms/step - loss: 0.1473 - accuracy: 0.9326\n",
            "Epoch 171/200\n",
            "18/18 [==============================] - 0s 4ms/step - loss: 0.1587 - accuracy: 0.9384\n",
            "Epoch 172/200\n",
            "18/18 [==============================] - 0s 4ms/step - loss: 0.1446 - accuracy: 0.9355\n",
            "Epoch 173/200\n",
            "18/18 [==============================] - 0s 4ms/step - loss: 0.1510 - accuracy: 0.9296\n",
            "Epoch 174/200\n",
            "18/18 [==============================] - 0s 5ms/step - loss: 0.1472 - accuracy: 0.9355\n",
            "Epoch 175/200\n",
            "18/18 [==============================] - 0s 4ms/step - loss: 0.1390 - accuracy: 0.9384\n",
            "Epoch 176/200\n",
            "18/18 [==============================] - 0s 4ms/step - loss: 0.1465 - accuracy: 0.9472\n",
            "Epoch 177/200\n",
            "18/18 [==============================] - 0s 4ms/step - loss: 0.1625 - accuracy: 0.9326\n",
            "Epoch 178/200\n",
            "18/18 [==============================] - 0s 4ms/step - loss: 0.1438 - accuracy: 0.9326\n",
            "Epoch 179/200\n",
            "18/18 [==============================] - 0s 4ms/step - loss: 0.1411 - accuracy: 0.9472\n",
            "Epoch 180/200\n",
            "18/18 [==============================] - 0s 4ms/step - loss: 0.1392 - accuracy: 0.9472\n",
            "Epoch 181/200\n",
            "18/18 [==============================] - 0s 4ms/step - loss: 0.1690 - accuracy: 0.9267\n",
            "Epoch 182/200\n",
            "18/18 [==============================] - 0s 4ms/step - loss: 0.1534 - accuracy: 0.9413\n",
            "Epoch 183/200\n",
            "18/18 [==============================] - 0s 4ms/step - loss: 0.1394 - accuracy: 0.9472\n",
            "Epoch 184/200\n",
            "18/18 [==============================] - 0s 4ms/step - loss: 0.1503 - accuracy: 0.9413\n",
            "Epoch 185/200\n",
            "18/18 [==============================] - 0s 4ms/step - loss: 0.1338 - accuracy: 0.9472\n",
            "Epoch 186/200\n",
            "18/18 [==============================] - 0s 4ms/step - loss: 0.1386 - accuracy: 0.9472\n",
            "Epoch 187/200\n",
            "18/18 [==============================] - 0s 4ms/step - loss: 0.1615 - accuracy: 0.9326\n",
            "Epoch 188/200\n",
            "18/18 [==============================] - 0s 4ms/step - loss: 0.1352 - accuracy: 0.9413\n",
            "Epoch 189/200\n",
            "18/18 [==============================] - 0s 4ms/step - loss: 0.1524 - accuracy: 0.9326\n",
            "Epoch 190/200\n",
            "18/18 [==============================] - 0s 4ms/step - loss: 0.1538 - accuracy: 0.9413\n",
            "Epoch 191/200\n",
            "18/18 [==============================] - 0s 4ms/step - loss: 0.1415 - accuracy: 0.9326\n",
            "Epoch 192/200\n",
            "18/18 [==============================] - 0s 4ms/step - loss: 0.1482 - accuracy: 0.9384\n",
            "Epoch 193/200\n",
            "18/18 [==============================] - 0s 4ms/step - loss: 0.1384 - accuracy: 0.9384\n",
            "Epoch 194/200\n",
            "18/18 [==============================] - 0s 4ms/step - loss: 0.1473 - accuracy: 0.9413\n",
            "Epoch 195/200\n",
            "18/18 [==============================] - 0s 4ms/step - loss: 0.1516 - accuracy: 0.9443\n",
            "Epoch 196/200\n",
            "18/18 [==============================] - 0s 4ms/step - loss: 0.1358 - accuracy: 0.9443\n",
            "Epoch 197/200\n",
            "18/18 [==============================] - 0s 5ms/step - loss: 0.1421 - accuracy: 0.9413\n",
            "Epoch 198/200\n",
            "18/18 [==============================] - 0s 5ms/step - loss: 0.1574 - accuracy: 0.9384\n",
            "Epoch 199/200\n",
            "18/18 [==============================] - 0s 4ms/step - loss: 0.1341 - accuracy: 0.9355\n",
            "Epoch 200/200\n",
            "18/18 [==============================] - 0s 4ms/step - loss: 0.1461 - accuracy: 0.9472\n"
          ]
        }
      ]
    },
    {
      "cell_type": "code",
      "source": [
        "#historyfit.history\n",
        "historyfit.history['loss'].insert(0, 1.0)\n",
        "historyfit.history['accuracy'].insert(0, 0.1)"
      ],
      "metadata": {
        "id": "11l1czFAJ7uJ"
      },
      "execution_count": null,
      "outputs": []
    },
    {
      "cell_type": "code",
      "source": [
        "import matplotlib.pyplot as plt\n",
        "plt.plot(historyfit.history['accuracy'])\n",
        "plt.plot(historyfit.history['loss'])\n",
        "plt.title('model education')\n",
        "plt.ylabel('value')\n",
        "plt.xlabel('epoch')\n",
        "plt.legend(['accuracy', 'loss'], loc='center right')\n",
        "plt.show()"
      ],
      "metadata": {
        "id": "_0eZ91lKKVV5",
        "outputId": "4457a963-6208-47b0-d87c-5cc43bf17965",
        "colab": {
          "base_uri": "https://localhost:8080/",
          "height": 295
        }
      },
      "execution_count": null,
      "outputs": [
        {
          "output_type": "display_data",
          "data": {
            "text/plain": [
              "<Figure size 432x288 with 1 Axes>"
            ],
            "image/png": "[encoded data removed]"
          },
          "metadata": {
            "needs_background": "light"
          }
        }
      ]
    },
    {
      "cell_type": "code",
      "source": [],
      "metadata": {
        "id": "GehH1QKAKyi6"
      },
      "execution_count": null,
      "outputs": []
    },
    {
      "cell_type": "code",
      "source": [
        "Y_pred = classifier.predict(X_test) "
      ],
      "metadata": {
        "id": "5TQCgOcMQyGi",
        "colab": {
          "base_uri": "https://localhost:8080/"
        },
        "outputId": "460f09c1-6fc3-4575-8f34-f5dbc2491faa"
      },
      "execution_count": null,
      "outputs": [
        {
          "output_type": "stream",
          "name": "stdout",
          "text": [
            "8/8 [==============================] - 0s 2ms/step\n"
          ]
        }
      ]
    },
    {
      "cell_type": "code",
      "source": [
        "Y_pred = [ 1 if y>=0.5 else 0 for y in Y_pred ]"
      ],
      "metadata": {
        "id": "xY7Go_3cQ2XJ"
      },
      "execution_count": null,
      "outputs": []
    },
    {
      "cell_type": "code",
      "source": [
        "total = 0\n",
        "correct = 0\n",
        "wrong = 0\n",
        "for i in range(len(Y_pred)):\n",
        " total=total+1\n",
        " #print(str(Y_pred[i])+' '+str(y_test[i]))\n",
        " if(str(y_test[i]) == str(Y_pred[i])):\n",
        "  correct=correct+1\n",
        " else:\n",
        "  wrong=wrong+1\n",
        "\n",
        "\n",
        "print(\"Total \" + str(total))\n",
        "print(\"Correct \" + str(correct))\n",
        "print(\"Wrong \" + str(wrong)) "
      ],
      "metadata": {
        "id": "Ia3FhfE8Q6dZ",
        "colab": {
          "base_uri": "https://localhost:8080/"
        },
        "outputId": "994e7109-cfea-40fd-b3dc-788ce952677f"
      },
      "execution_count": null,
      "outputs": [
        {
          "output_type": "stream",
          "name": "stdout",
          "text": [
            "Total 228\n",
            "Correct 197\n",
            "Wrong 31\n"
          ]
        }
      ]
    }
  ]
}