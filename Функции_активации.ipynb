{
  "nbformat": 4,
  "nbformat_minor": 0,
  "metadata": {
    "colab": {
      "provenance": [],
      "authorship_tag": "ABX9TyOKAX4U2yGqYIiN3ADGHO8y",
      "include_colab_link": true
    },
    "kernelspec": {
      "name": "python3",
      "display_name": "Python 3"
    },
    "language_info": {
      "name": "python"
    },
    "accelerator": "GPU",
    "gpuClass": "standard"
  },
  "cells": [
    {
      "cell_type": "markdown",
      "metadata": {
        "id": "view-in-github",
        "colab_type": "text"
      },
      "source": [
        "<a href=\"https://colab.research.google.com/github/kulakovand/colabr_epo/blob/main/%D0%A4%D1%83%D0%BD%D0%BA%D1%86%D0%B8%D0%B8_%D0%B0%D0%BA%D1%82%D0%B8%D0%B2%D0%B0%D1%86%D0%B8%D0%B8.ipynb\" target=\"_parent\"><img src=\"https://colab.research.google.com/assets/colab-badge.svg\" alt=\"Open In Colab\"/></a>"
      ]
    },
    {
      "cell_type": "code",
      "source": [
        "pip install matplotlib"
      ],
      "metadata": {
        "id": "7W0HGt3eKHgw"
      },
      "execution_count": null,
      "outputs": []
    },
    {
      "cell_type": "code",
      "execution_count": 11,
      "metadata": {
        "colab": {
          "base_uri": "https://localhost:8080/",
          "height": 297
        },
        "id": "lxM-8VysI9Im",
        "outputId": "343b94f3-ab3c-4bd2-ad0d-203fb260311c"
      },
      "outputs": [
        {
          "output_type": "display_data",
          "data": {
            "text/plain": [
              "<Figure size 432x288 with 0 Axes>"
            ]
          },
          "metadata": {}
        },
        {
          "output_type": "display_data",
          "data": {
            "text/plain": [
              "<Figure size 432x288 with 1 Axes>"
            ],
            "image/png": "[encoded data removed]"
          },
          "metadata": {
            "needs_background": "light"
          }
        }
      ],
      "source": [
        "import math\n",
        "import matplotlib.pyplot as plt\n",
        "import numpy as np\n",
        "import matplotlib\n",
        "matplotlib.use('Agg')\n",
        "%matplotlib inline\n",
        "#aktivasyon fonksiyonları, activation functions\n",
        "\n",
        "def step(x):\n",
        "    return np.array(x > 0, dtype=np.int8)\n",
        "\n",
        "def sigmoid(x):\n",
        "    return 1 / (1 + np.exp(-x))\n",
        "\n",
        "def relu(x):\n",
        "    return np.maximum(0, x)\n",
        "\n",
        "def softmax(x):\n",
        "    return np.exp(x) / np.sum(np.exp(x))\n",
        "\n",
        "def softplus(x):\n",
        "    return np.log(1.0 + np.exp(x))\n",
        "\n",
        "def tanh(x):\n",
        "    return np.tanh(x)\n",
        "\n",
        "def swish(x):\n",
        "    #return x*sigmoid(x)\n",
        "    return x*(1 / (1 + np.exp(-x)))\n",
        "\n",
        "def prelu(x,alpha):\n",
        "    a = []\n",
        "    for item in x:\n",
        "        if item < 0:\n",
        "            a.append(alpha*item)\n",
        "        else:\n",
        "            a.append(item)\n",
        "    return a\n",
        "\n",
        "def elu(x,alpha):\n",
        "    a = []\n",
        "    for item in x:\n",
        "        if item >= 0:\n",
        "            a.append(item)\n",
        "        else:\n",
        "            a.append(alpha * (np.exp(item)-1))\n",
        "    return a\n",
        "\n",
        "x = np.arange(-10., 8., 0.1)\n",
        "\n",
        "step=step(x)\n",
        "sigmoid=sigmoid(x)\n",
        "relu=relu(x)\n",
        "softmax=softmax(x)\n",
        "softplus=softplus(x)\n",
        "tanh=tanh(x)\n",
        "prelu=prelu(x,0.1)\n",
        "elu=elu(x,1.0)\n",
        "swish=swish(x)\n",
        "\n",
        "#grafik çizimleri, plotting\n",
        "\n",
        "plt.figure()\n",
        "plt.show()\n",
        "plt.xlabel(\"girdiler\")\n",
        "plt.ylabel(\"Scores\")\n",
        "plt.grid(True)\n",
        "plt.plot(x,step, label=\"Step\", color='C0', lw=3)\n",
        "plt.plot(x,sigmoid, label=\"Sigmoid\", color='C1', lw=3)\n",
        "plt.plot(x,relu, label=\"ReLU\", color='C2', lw=3)\n",
        "plt.plot(x,softmax, label=\"Softmax\", color='C3', lw=3)\n",
        "plt.plot(x,softplus, label=\"SoftPlus\", color='C4', lw=3)\n",
        "plt.plot(x,tanh, label=\"TanH\", color='C5', lw=3)\n",
        "plt.plot(x,prelu, label=\"PReLU\", color='C6', lw=3)\n",
        "plt.plot(x,elu, label=\"ELU\", color='C8', lw=3)\n",
        "plt.plot(x,swish, label=\"swish\", color='C9', lw=3)\n",
        "plt.legend()\n",
        "plt.show()\n",
        "#plt.savefig(\"all_activation_functions2.tif\", dpi=300)"
      ]
    }
  ]
}